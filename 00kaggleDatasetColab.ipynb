{
  "cells": [
    {
      "cell_type": "markdown",
      "metadata": {
        "id": "view-in-github",
        "colab_type": "text"
      },
      "source": [
        "<a href=\"https://colab.research.google.com/github/vkjadon/introduction-to-deep-learning/blob/main/00kaggleDatasetColab.ipynb\" target=\"_parent\"><img src=\"https://colab.research.google.com/assets/colab-badge.svg\" alt=\"Open In Colab\"/></a>"
      ]
    },
    {
      "cell_type": "markdown",
      "metadata": {
        "id": "VbedTufhxyFq"
      },
      "source": [
        "## Kaggle Side\n",
        "1.   Open kaggle.com\n",
        "2.   Click on the kaggle icon (upper right corner) adjacent to search input.\n",
        "3. Click on the `Account`.\n",
        "4. Scroll down to locale `API`.\n",
        "5. Click on the \"Create New API Tocken\" button.\n",
        "6. A file with name \"kaggle.json\" is downloaded\n",
        "\n",
        "## Colab Side\n",
        "\n",
        "1. Open Colab\n",
        "2. pip install the kaggle `!pip install -q kaggle`\n",
        "3. Click on the \"Folder\" icon (last item in the first left column of the icons).\n",
        "4. Upload the Downloaded File using the upload icon. The first of the three icons appearing at top of the content tree.\n",
        "5. Create directory `!mkdir ~/.kaggle`\n",
        "6. Copy the uploaded file into the folder created in the previous step using `!cp kaggle.json ~/.kaggle/`.\n",
        "\n"
      ]
    },
    {
      "cell_type": "code",
      "execution_count": null,
      "metadata": {
        "id": "bNeHR7Bi5RDe"
      },
      "outputs": [],
      "source": [
        "!pip install -q kaggle"
      ]
    },
    {
      "cell_type": "code",
      "execution_count": null,
      "metadata": {
        "id": "JLu_9W2iTwl7"
      },
      "outputs": [],
      "source": [
        "!mkdir ~/.kaggle "
      ]
    },
    {
      "cell_type": "markdown",
      "metadata": {
        "id": "hLeERunqRcSq"
      },
      "source": [
        "Before proceeding to the copy command, we first upload the `kaggle.json` file to the current working directory. To check current directory, we can use `pwd` command.j"
      ]
    },
    {
      "cell_type": "code",
      "execution_count": null,
      "metadata": {
        "colab": {
          "base_uri": "https://localhost:8080/"
        },
        "id": "IPPdbN9cRsBK",
        "outputId": "3ed2c4ef-4a61-4741-d42f-16227103dd12"
      },
      "outputs": [
        {
          "output_type": "stream",
          "name": "stdout",
          "text": [
            "/content\n"
          ]
        }
      ],
      "source": [
        "!pwd"
      ]
    },
    {
      "cell_type": "markdown",
      "source": [
        "- Click on the \"Folder\" icon (last item in the first left column of the icons).\n",
        "- Upload the Downloaded File using the upload icon. The first of the three icons appearing at top of the content tree."
      ],
      "metadata": {
        "id": "AINot7CqWQK9"
      }
    },
    {
      "cell_type": "markdown",
      "metadata": {
        "id": "6ALmRNvIR5VE"
      },
      "source": [
        "If you have successfully uploaded the `kaggle.json` in the current director, we can copy this to the `kaggle` directory created in the root. "
      ]
    },
    {
      "cell_type": "code",
      "execution_count": null,
      "metadata": {
        "id": "Wynp15BrUWTA"
      },
      "outputs": [],
      "source": [
        "!cp kaggle.json ~/.kaggle/"
      ]
    },
    {
      "cell_type": "markdown",
      "metadata": {
        "id": "hZCbZ1vRLMCk"
      },
      "source": [
        "To check the permission configuration of a file, use the command ls -l"
      ]
    },
    {
      "cell_type": "code",
      "execution_count": null,
      "metadata": {
        "colab": {
          "base_uri": "https://localhost:8080/"
        },
        "id": "LlUxNlq9LPO6",
        "outputId": "87ff4fa4-b864-48e3-c441-960603567b04"
      },
      "outputs": [
        {
          "name": "stdout",
          "output_type": "stream",
          "text": [
            "-rw-r--r-- 1 root root 67 Jul 19 01:52 kaggle.json\n"
          ]
        }
      ],
      "source": [
        "!ls -l kaggle.json"
      ]
    },
    {
      "cell_type": "markdown",
      "metadata": {
        "id": "xdK6-H8lLtNN"
      },
      "source": [
        "The first `-` represents File Type. It can either be a regular file (–), a directory (d) or a link (i).\n",
        "The next 09 letters are divided in three groups with each group having three letters. Each letter can be `r`, `w`, `x` or `-`.\n",
        "\n",
        "r : read\n",
        "w : write\n",
        "x : execute\n",
        "- : No permission\n",
        "\n",
        "- The first group of three letters belongs to owner.\n",
        "- The second group belongs to a group of users\n",
        "- The third group of three letters belongs to any user.\n",
        "\n",
        "The output of the previous cell shows that `kaggle.json` is a regular file with read and write permission assigned to the owner, but gives read-only access to the group and others.\n",
        "We(owner) can change these permission by using `chmod` command.\n",
        "\n",
        "`chmod permission file_name`"
      ]
    },
    {
      "cell_type": "markdown",
      "metadata": {
        "id": "KCn72nEQOrSS"
      },
      "source": [
        "There are two ways to define permission:\n",
        "\n",
        "- using symbols (alphanumerical characters)\n",
        "\n",
        "  `chmod u=rwx,g=rwx,o=rwx file_name`\n",
        "\n",
        "- using the octal notation method\n",
        "\n",
        "In this format privileges are represented with numbers:\n",
        "\n",
        "- r(ead) has the value of 4\n",
        "- w(rite) has the value of 2\n",
        "- (e)x(ecute) has the value of 1\n",
        "- no permission has the value of 0\n",
        "\n",
        "The privileges are summed up and depicted by one number. Therefore, the possibilities are:\n",
        "\n",
        "- 7 for read, write, and execute permission\n",
        "- 6 for read and write privileges\n",
        "- 5 for read and execute privileges\n",
        "- 4 for read privileges\n",
        "\n",
        "Now the `chmod` command will include three numbers where each representing the summation of privileges."
      ]
    },
    {
      "cell_type": "markdown",
      "metadata": {
        "id": "pDmZn-SOQ0hk"
      },
      "source": [
        "Now we can set the permission of `kaggle.json` to read and write to owner and no permission to group and user. So we will use `chmod 600` as below to the copied json file."
      ]
    },
    {
      "cell_type": "code",
      "execution_count": null,
      "metadata": {
        "id": "es3UsD_CUeGq"
      },
      "outputs": [],
      "source": [
        "!chmod 600 ~/.kaggle/kaggle.json"
      ]
    },
    {
      "cell_type": "code",
      "execution_count": null,
      "metadata": {
        "colab": {
          "base_uri": "https://localhost:8080/"
        },
        "id": "xiwBJlF051sE",
        "outputId": "19c253b6-efea-48bf-aeb5-108f2b1c3028"
      },
      "outputs": [
        {
          "name": "stdout",
          "output_type": "stream",
          "text": [
            "ref                                                       title                                               size  lastUpdated          downloadCount  voteCount  usabilityRating  \n",
            "--------------------------------------------------------  -------------------------------------------------  -----  -------------------  -------------  ---------  ---------------  \n",
            "ruchi798/data-science-job-salaries                        Data Science Job Salaries                            7KB  2022-06-15 08:59:12           6031        202  1.0              \n",
            "surajjha101/bigbasket-entire-product-list-28k-datapoints  BigBasket Entire Product List (~28K datapoints)      6MB  2022-06-22 12:51:18           1862         84  1.0              \n",
            "victorsoeiro/netflix-tv-shows-and-movies                  Netflix TV Shows and Movies                          2MB  2022-05-15 00:01:23          16531        481  1.0              \n",
            "sameepvani/nasa-nearest-earth-objects                     NASA - Nearest Earth Objects                         7MB  2022-06-17 02:32:18           2303        106  1.0              \n",
            "zusmani/petrolgas-prices-worldwide                        Petrol/Gas Prices Worldwide                         10KB  2022-06-24 01:25:33           2187        107  1.0              \n",
            "mukuldeshantri/ecommerce-fashion-dataset                  E-commerce Dataset with 30K Products               546KB  2022-07-08 12:28:18            562         26  1.0              \n",
            "jimschacko/airlines-dataset-to-predict-a-delay            Airlines Dataset to predict a delay                  6MB  2022-06-21 05:45:44           2027         60  1.0              \n",
            "iamsouravbanerjee/nifty500-stocks-dataset                 Stock Market Dataset (NIFTY-500)                    35KB  2022-07-17 11:46:10            635         54  1.0              \n",
            "zusmani/pakistans-national-assembly-attendance-20182022   Pakistan's National Assembly Attendance 2018-2022    2MB  2022-07-15 03:33:32            239         28  0.88235295       \n",
            "dansbecker/melbourne-housing-snapshot                     Melbourne Housing Snapshot                         451KB  2018-06-05 12:52:24          91088       1108  0.7058824        \n",
            "ramjasmaurya/1-gb-internet-price                          Internet Prices around 200+ countries in 2022.      22KB  2022-07-17 02:56:12           1084         39  0.9705882        \n",
            "datasnaek/youtube-new                                     Trending YouTube Video Statistics                  201MB  2019-06-03 00:56:47         179216       4599  0.7941176        \n",
            "zynicide/wine-reviews                                     Wine Reviews                                        51MB  2017-11-27 17:08:04         163041       3335  0.7941176        \n",
            "deepcontractor/car-price-prediction-challenge             Car Price Prediction Challenge                     429KB  2022-07-06 11:38:32            514         40  0.9411765        \n",
            "devansodariya/student-performance-data                    Student Performance Dataset                          7KB  2022-05-26 13:55:09           9638        251  0.9705882        \n",
            "datasnaek/chess                                           Chess Game Dataset (Lichess)                         3MB  2017-09-04 03:09:09          30463       1018  0.8235294        \n",
            "rtatman/188-million-us-wildfires                          1.88 Million US Wildfires                          168MB  2020-05-12 21:03:49          20697       1018  0.8235294        \n",
            "residentmario/ramen-ratings                               Ramen Ratings                                       40KB  2018-01-11 16:04:39          34813        792  0.7058824        \n",
            "dansbecker/powerlifting-database                          powerlifting-database                                9MB  2019-04-30 21:07:41           4918         59  0.5882353        \n",
            "jpmiller/publicassistance                                 US Public Food Assistance                          703KB  2020-08-21 16:51:18          16623        395  0.9117647        \n"
          ]
        }
      ],
      "source": [
        "!kaggle datasets list"
      ]
    },
    {
      "cell_type": "markdown",
      "metadata": {
        "id": "38baNIjuCVzu"
      },
      "source": [
        "## Accessing Google Drive"
      ]
    },
    {
      "cell_type": "markdown",
      "metadata": {
        "id": "hDV5bb4mCk_E"
      },
      "source": [
        "\n",
        "\n",
        "\n",
        "1. Click on the Drive button in the Files top menu(the last of three icons).\n",
        "2. This will add two lines of code to mount the drive.  \n",
        "3. Execute the code to mount.\n",
        "4. Copy and Paste the code below if you are unable to locate the button.  \n",
        "`from google.colab import drive`   \n",
        "`drive.mount('/content/drive')`\n",
        "5. A new directory(folder) with the name `drive` will appear.\n"
      ]
    },
    {
      "cell_type": "code",
      "execution_count": null,
      "metadata": {
        "colab": {
          "base_uri": "https://localhost:8080/"
        },
        "id": "QbfjKmjTC_r9",
        "outputId": "7cf63be4-47cc-4131-c61e-2d6834345b95"
      },
      "outputs": [
        {
          "name": "stdout",
          "output_type": "stream",
          "text": [
            "Mounted at /content/drive\n"
          ]
        }
      ],
      "source": [
        "from google.colab import drive\n",
        "drive.mount('/content/drive')"
      ]
    },
    {
      "cell_type": "markdown",
      "metadata": {
        "id": "ITUKYBxRFdRv"
      },
      "source": [
        "Use `!pwd` to verify the present working directory."
      ]
    },
    {
      "cell_type": "code",
      "execution_count": null,
      "metadata": {
        "colab": {
          "base_uri": "https://localhost:8080/"
        },
        "id": "5Y8aC0I8FlBK",
        "outputId": "bf3c8875-25f9-461f-afa6-527718d5601e"
      },
      "outputs": [
        {
          "name": "stdout",
          "output_type": "stream",
          "text": [
            "/content\n"
          ]
        }
      ],
      "source": [
        "!pwd"
      ]
    },
    {
      "cell_type": "markdown",
      "metadata": {
        "id": "RfXZWJhQFHbM"
      },
      "source": [
        "Use `!ls` to show the content of the present working directory.*italicised text*"
      ]
    },
    {
      "cell_type": "code",
      "execution_count": null,
      "metadata": {
        "id": "iyEoYzNIFUFa"
      },
      "outputs": [],
      "source": [
        "!ls"
      ]
    },
    {
      "cell_type": "markdown",
      "metadata": {
        "id": "78Mu7l35pswB"
      },
      "source": [
        "To navigate to your home directory, simply type `cd.`. Another way to return directly to your home directory is to use the tilde (~) character."
      ]
    },
    {
      "cell_type": "code",
      "execution_count": null,
      "metadata": {
        "colab": {
          "base_uri": "https://localhost:8080/"
        },
        "id": "YTcl0788pyOu",
        "outputId": "dc106ede-2216-4778-92b4-7ce5ecfb7a91"
      },
      "outputs": [
        {
          "name": "stdout",
          "output_type": "stream",
          "text": [
            "/root\n"
          ]
        }
      ],
      "source": [
        "% cd~"
      ]
    },
    {
      "cell_type": "code",
      "execution_count": null,
      "metadata": {
        "colab": {
          "base_uri": "https://localhost:8080/"
        },
        "id": "gP3od_e4p2hO",
        "outputId": "88d5dfd8-fe2c-4ed7-ae30-7053464b3bf4"
      },
      "outputs": [
        {
          "name": "stdout",
          "output_type": "stream",
          "text": [
            "/root\n"
          ]
        }
      ],
      "source": [
        "!pwd"
      ]
    },
    {
      "cell_type": "code",
      "execution_count": null,
      "metadata": {
        "id": "Hyhgq5q_p5-f"
      },
      "outputs": [],
      "source": []
    },
    {
      "cell_type": "markdown",
      "metadata": {
        "id": "zQM1kHKHGmQR"
      },
      "source": [
        "1. Use `%cd drive/path` to change the current working directory.\n",
        "2. You can click on the `drive` folder to see the content of your google drive."
      ]
    },
    {
      "cell_type": "code",
      "execution_count": null,
      "metadata": {
        "colab": {
          "base_uri": "https://localhost:8080/"
        },
        "id": "f5ye7h4AFVms",
        "outputId": "7ec4067b-d6d6-40e5-bdb9-38a97009ed94"
      },
      "outputs": [
        {
          "name": "stdout",
          "output_type": "stream",
          "text": [
            "/content/drive/MyDrive/Colab Notebooks\n"
          ]
        }
      ],
      "source": [
        "% cd drive/MyDrive/Colab Notebooks/"
      ]
    },
    {
      "cell_type": "code",
      "execution_count": null,
      "metadata": {
        "colab": {
          "base_uri": "https://localhost:8080/"
        },
        "id": "FyOy1c3fHJqO",
        "outputId": "368d1f98-6a16-4655-95aa-955a387be01f"
      },
      "outputs": [
        {
          "name": "stdout",
          "output_type": "stream",
          "text": [
            "/content/drive/MyDrive/Colab Notebooks\n"
          ]
        }
      ],
      "source": [
        "!pwd"
      ]
    },
    {
      "cell_type": "code",
      "execution_count": null,
      "metadata": {
        "colab": {
          "base_uri": "https://localhost:8080/"
        },
        "id": "odK1KilAHL05",
        "outputId": "764bb231-cddd-4d74-9d7a-f334fe849b49"
      },
      "outputs": [
        {
          "name": "stdout",
          "output_type": "stream",
          "text": [
            " AI-ipynb\t\t\t\t      math\t      Untitled0.ipynb\n",
            "'Copy of 31Initialization.ipynb'\t      tensorFlowDNN\n",
            "'Copy of image_classification_from_scratch'   Untitled\n"
          ]
        }
      ],
      "source": [
        "!ls"
      ]
    },
    {
      "cell_type": "code",
      "execution_count": null,
      "metadata": {
        "colab": {
          "base_uri": "https://localhost:8080/"
        },
        "id": "4T9TjVDLHNoj",
        "outputId": "3196ce01-970f-472b-9fc4-62eb1630441e"
      },
      "outputs": [
        {
          "name": "stdout",
          "output_type": "stream",
          "text": [
            "/content/drive/MyDrive/Colab Notebooks/AI-ipynb\n"
          ]
        }
      ],
      "source": [
        "%cd AI-ipynb"
      ]
    },
    {
      "cell_type": "markdown",
      "metadata": {
        "id": "o2diXuScPwpN"
      },
      "source": [
        "Download datset from kaggle using API of the dataset."
      ]
    },
    {
      "cell_type": "code",
      "execution_count": null,
      "metadata": {
        "colab": {
          "base_uri": "https://localhost:8080/"
        },
        "id": "rtOwjVNwPzhT",
        "outputId": "1a502d27-dd89-4823-be1a-ffed49a0e737"
      },
      "outputs": [
        {
          "name": "stdout",
          "output_type": "stream",
          "text": [
            "Downloading housing-prices-in-metropolitan-areas-of-india.zip to /content/drive/MyDrive/Colab Notebooks/AI-ipynb\n",
            "\r  0% 0.00/269k [00:00<?, ?B/s]\n",
            "\r100% 269k/269k [00:00<00:00, 32.1MB/s]\n"
          ]
        }
      ],
      "source": [
        "!kaggle datasets download -d ruchi798/housing-prices-in-metropolitan-areas-of-india"
      ]
    },
    {
      "cell_type": "code",
      "execution_count": null,
      "metadata": {
        "colab": {
          "base_uri": "https://localhost:8080/"
        },
        "id": "XuRMW1CcQiBV",
        "outputId": "6f6b26af-e5a3-481c-9bab-4b78029bfade"
      },
      "outputs": [
        {
          "name": "stdout",
          "output_type": "stream",
          "text": [
            "/content/drive/MyDrive/Colab Notebooks/AI-ipynb\n"
          ]
        }
      ],
      "source": [
        "!pwd"
      ]
    }
  ],
  "metadata": {
    "colab": {
      "name": "00kaggleDatasetColab.ipynb",
      "provenance": [],
      "include_colab_link": true
    },
    "kernelspec": {
      "display_name": "Python 3",
      "name": "python3"
    },
    "language_info": {
      "name": "python"
    }
  },
  "nbformat": 4,
  "nbformat_minor": 0
}