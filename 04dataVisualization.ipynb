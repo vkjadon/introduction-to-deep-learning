{
  "cells": [
    {
      "cell_type": "code",
      "execution_count": null,
      "metadata": {
        "id": "BOvXcrY4hPHT"
      },
      "outputs": [],
      "source": [
        "import pandas as pd\n",
        "import matplotlib.pyplot as plt\n",
        "import numpy as np\n",
        "import seaborn as sns"
      ]
    },
    {
      "cell_type": "code",
      "execution_count": null,
      "metadata": {
        "id": "D9UJjTwHhPHX",
        "outputId": "727d69aa-8dd3-4e81-ed21-48fd02c906b6",
        "colab": {
          "base_uri": "https://localhost:8080/"
        }
      },
      "outputs": [
        {
          "output_type": "stream",
          "name": "stdout",
          "text": [
            "Pandas  :  1.3.5\n",
            "NumPy :  1.21.6\n"
          ]
        }
      ],
      "source": [
        "print(\"Pandas  : \", pd.__version__)\n",
        "print(\"NumPy : \", np.__version__)"
      ]
    },
    {
      "cell_type": "markdown",
      "metadata": {
        "id": "YlSmP-GfhPHY"
      },
      "source": [
        "### Fetch Dataset from Kaggle\n",
        "- Import data from Kaggle\n",
        "- Use <a href=\"https://www.kaggle.com/c/titanic/data\" target=\"_blank\"> this Link </a>  "
      ]
    },
    {
      "cell_type": "code",
      "source": [
        "# !mkdir ~/.kaggle\n",
        "!cp kaggle.json ~/.kaggle\n",
        "# !pwd\n",
        "# !ls"
      ],
      "metadata": {
        "id": "GO_dFuf7iOro",
        "outputId": "068f4323-9025-4ef3-faa7-e934ee2cfd7a",
        "colab": {
          "base_uri": "https://localhost:8080/"
        }
      },
      "execution_count": null,
      "outputs": [
        {
          "output_type": "stream",
          "name": "stdout",
          "text": [
            "Warning: Your Kaggle API key is readable by other users on this system! To fix this, you can run 'chmod 600 /root/.kaggle/kaggle.json'\n",
            "Downloading titanic.zip to /content\n",
            "  0% 0.00/34.1k [00:00<?, ?B/s]\n",
            "100% 34.1k/34.1k [00:00<00:00, 23.1MB/s]\n"
          ]
        }
      ]
    },
    {
      "cell_type": "code",
      "source": [
        "!chmod 600 /root/.kaggle/kaggle.json"
      ],
      "metadata": {
        "id": "zpSaZTDulnM-"
      },
      "execution_count": null,
      "outputs": []
    },
    {
      "cell_type": "code",
      "source": [
        "!kaggle competitions download -c titanic"
      ],
      "metadata": {
        "id": "qPcO6jiSlr5i",
        "outputId": "2aec0de3-d4f7-4d6b-fa93-655948e93c79",
        "colab": {
          "base_uri": "https://localhost:8080/"
        }
      },
      "execution_count": null,
      "outputs": [
        {
          "output_type": "stream",
          "name": "stdout",
          "text": [
            "titanic.zip: Skipping, found more recently modified local copy (use --force to force download)\n"
          ]
        }
      ]
    },
    {
      "cell_type": "code",
      "source": [],
      "metadata": {
        "id": "kOAY7olFl5xr"
      },
      "execution_count": null,
      "outputs": []
    },
    {
      "cell_type": "code",
      "source": [
        "from google.colab import drive\n",
        "drive.mount('/content/drive')"
      ],
      "metadata": {
        "id": "jBSgzkrGl6cj",
        "outputId": "9512049b-f2e3-470a-d041-0c5c360ba8db",
        "colab": {
          "base_uri": "https://localhost:8080/"
        }
      },
      "execution_count": null,
      "outputs": [
        {
          "output_type": "stream",
          "name": "stdout",
          "text": [
            "Drive already mounted at /content/drive; to attempt to forcibly remount, call drive.mount(\"/content/drive\", force_remount=True).\n"
          ]
        }
      ]
    },
    {
      "cell_type": "code",
      "source": [
        "!pwd"
      ],
      "metadata": {
        "id": "oLSjF4hemwNt",
        "outputId": "3e174202-d461-48f3-8737-d59c9084367e",
        "colab": {
          "base_uri": "https://localhost:8080/"
        }
      },
      "execution_count": null,
      "outputs": [
        {
          "output_type": "stream",
          "name": "stdout",
          "text": [
            "/content\n"
          ]
        }
      ]
    },
    {
      "cell_type": "code",
      "execution_count": null,
      "metadata": {
        "id": "f8WDkGwJhPHa"
      },
      "outputs": [],
      "source": [
        "# Path of the file to read\n",
        "filepath = \"drive/MyDrive/Colab Notebooks/AI-ipynb/datasets/titanic_train.csv\"\n",
        "\n",
        "# Read the file into a variable fifa_data\n",
        "train = pd.read_csv(filepath, parse_dates=True)"
      ]
    },
    {
      "cell_type": "code",
      "execution_count": null,
      "metadata": {
        "id": "2BAn4KTlhPHb"
      },
      "outputs": [],
      "source": [
        "# Print the first 5 rows of the data\n",
        "train.shape"
      ]
    },
    {
      "cell_type": "code",
      "execution_count": null,
      "metadata": {
        "id": "x0G0igz_hPHc"
      },
      "outputs": [],
      "source": [
        "train.info()"
      ]
    },
    {
      "cell_type": "code",
      "execution_count": null,
      "metadata": {
        "id": "qYcs2SMOhPHd"
      },
      "outputs": [],
      "source": [
        "train.describe()"
      ]
    },
    {
      "cell_type": "code",
      "execution_count": null,
      "metadata": {
        "id": "IG5Xjt_ChPHe"
      },
      "outputs": [],
      "source": [
        "train"
      ]
    },
    {
      "cell_type": "code",
      "execution_count": null,
      "metadata": {
        "id": "G1eGdYGShPHf"
      },
      "outputs": [],
      "source": [
        "train.sort_values(by=['Age']).dropna(axis=\"index\", subset=['Age', 'Fare']).reset_index()"
      ]
    },
    {
      "cell_type": "code",
      "execution_count": null,
      "metadata": {
        "id": "8gNzYUGDhPHf"
      },
      "outputs": [],
      "source": [
        "train.groupby([\"Sex\", \"Pclass\"])[\"Fare\"].mean()"
      ]
    },
    {
      "cell_type": "code",
      "execution_count": null,
      "metadata": {
        "id": "GeElj3PchPHg"
      },
      "outputs": [],
      "source": [
        "train[\"Pclass\"].value_counts()  "
      ]
    },
    {
      "cell_type": "code",
      "execution_count": null,
      "metadata": {
        "id": "2W2tOdYmhPHg"
      },
      "outputs": [],
      "source": [
        "train[train[\"Pclass\"].isin([2, 3])]"
      ]
    },
    {
      "cell_type": "code",
      "execution_count": null,
      "metadata": {
        "id": "GsSZ2eMQhPHh"
      },
      "outputs": [],
      "source": [
        "train[(train[\"Pclass\"] == 2) | (train[\"Pclass\"] == 3)]"
      ]
    },
    {
      "cell_type": "code",
      "execution_count": null,
      "metadata": {
        "id": "4tScK6qChPHh"
      },
      "outputs": [],
      "source": [
        "train[train[\"Age\"].notna()]"
      ]
    },
    {
      "cell_type": "code",
      "execution_count": null,
      "metadata": {
        "id": "U74lb4EHhPHh"
      },
      "outputs": [],
      "source": [
        "train.loc[train[\"Age\"] > 35, [\"Name\", \"Age\"]]"
      ]
    },
    {
      "cell_type": "code",
      "execution_count": null,
      "metadata": {
        "id": "ORij90N8hPHh"
      },
      "outputs": [],
      "source": [
        "train.iloc[9:25, 2:5]  "
      ]
    },
    {
      "cell_type": "code",
      "execution_count": null,
      "metadata": {
        "id": "vX6x2TiAhPHi"
      },
      "outputs": [],
      "source": [
        "train.iloc[0:3, 3] = \"anonymous\"\n",
        "train"
      ]
    },
    {
      "cell_type": "code",
      "execution_count": null,
      "metadata": {
        "id": "s5mgTT7NhPHi"
      },
      "outputs": [],
      "source": [
        "# plt.figure(figsize=[16, 6])\n",
        "sns.set(rc = {'figure.figsize':(16,6)})\n",
        "sns.heatmap(train.isnull(), yticklabels=False)"
      ]
    },
    {
      "cell_type": "code",
      "execution_count": null,
      "metadata": {
        "id": "Q6cr6Vb2hPHi"
      },
      "outputs": [],
      "source": [
        "sns.countplot(x='Survived', data=train)"
      ]
    },
    {
      "cell_type": "code",
      "execution_count": null,
      "metadata": {
        "id": "XgUQbQvnhPHi"
      },
      "outputs": [],
      "source": [
        "train.columns"
      ]
    },
    {
      "cell_type": "code",
      "execution_count": null,
      "metadata": {
        "id": "sMmtLlDZhPHj"
      },
      "outputs": [],
      "source": [
        "# sns.countplot(x=\"Survived\", hue=\"Sex\", data=train)\n",
        "sns.countplot(x=\"Survived\", hue=\"Pclass\", data=train)"
      ]
    },
    {
      "cell_type": "code",
      "execution_count": null,
      "metadata": {
        "id": "M2GzsLC0hPHj"
      },
      "outputs": [],
      "source": [
        "sns.histplot(train['Age'], bins=20)"
      ]
    },
    {
      "cell_type": "code",
      "execution_count": null,
      "metadata": {
        "id": "8FktLzlQhPHj"
      },
      "outputs": [],
      "source": [
        "sns.displot(train, x='Age', hue='Sex', multiple='stack', bins=10)"
      ]
    },
    {
      "cell_type": "code",
      "execution_count": null,
      "metadata": {
        "id": "uc4MTXqZhPHj"
      },
      "outputs": [],
      "source": [
        "sns.boxplot(x=\"Pclass\", y=\"Age\", data=train)"
      ]
    },
    {
      "cell_type": "markdown",
      "metadata": {
        "id": "XriOpeYmhPHj"
      },
      "source": [
        "## Filling the NaN Values"
      ]
    },
    {
      "cell_type": "code",
      "execution_count": null,
      "metadata": {
        "id": "jPsHTtoXhPHk",
        "outputId": "c7fd36fa-f8b4-4d16-925f-fb3c1e5d9ee0",
        "colab": {
          "base_uri": "https://localhost:8080/"
        }
      },
      "outputs": [
        {
          "output_type": "execute_result",
          "data": {
            "text/plain": [
              "29.69911764705882"
            ]
          },
          "metadata": {},
          "execution_count": 21
        }
      ],
      "source": [
        "train['Age'].mean()"
      ]
    },
    {
      "cell_type": "code",
      "execution_count": null,
      "metadata": {
        "id": "u_mV8gGThPHk",
        "outputId": "0d0b5f71-ba07-4a2c-b972-2e1587271a1b",
        "colab": {
          "base_uri": "https://localhost:8080/"
        }
      },
      "outputs": [
        {
          "output_type": "execute_result",
          "data": {
            "text/plain": [
              "177"
            ]
          },
          "metadata": {},
          "execution_count": 22
        }
      ],
      "source": [
        "train['Age'].isna().sum()"
      ]
    },
    {
      "cell_type": "code",
      "execution_count": null,
      "metadata": {
        "id": "IZ8Ugy9RhPHk"
      },
      "outputs": [],
      "source": [
        "train['Age'].fillna(value=train['Age'].mean(), inplace=True)"
      ]
    },
    {
      "cell_type": "code",
      "execution_count": null,
      "metadata": {
        "id": "WnFyjSgShPHk",
        "outputId": "bb5bef1e-c567-454e-f3e9-fe5672ef4dd0",
        "colab": {
          "base_uri": "https://localhost:8080/"
        }
      },
      "outputs": [
        {
          "output_type": "execute_result",
          "data": {
            "text/plain": [
              "0"
            ]
          },
          "metadata": {},
          "execution_count": 24
        }
      ],
      "source": [
        "train['Age'].isna().sum()"
      ]
    },
    {
      "cell_type": "code",
      "execution_count": null,
      "metadata": {
        "id": "HmY4sZr_hPHk",
        "outputId": "58e9b4bc-3531-4229-9b3f-990834f8fe4e",
        "colab": {
          "base_uri": "https://localhost:8080/"
        }
      },
      "outputs": [
        {
          "output_type": "execute_result",
          "data": {
            "text/plain": [
              "37.04811819172113"
            ]
          },
          "metadata": {},
          "execution_count": 25
        }
      ],
      "source": [
        "train[(train['Pclass'])==1]['Age'].mean()"
      ]
    },
    {
      "cell_type": "code",
      "execution_count": null,
      "metadata": {
        "id": "tQgUD3UIhPHl"
      },
      "outputs": [],
      "source": [
        "sns.boxplot(x=\"Pclass\", y=\"Age\", data=train)"
      ]
    },
    {
      "cell_type": "code",
      "execution_count": null,
      "metadata": {
        "id": "8CCIbegChPHl"
      },
      "outputs": [],
      "source": [
        "sns.heatmap(train.isnull(), yticklabels=False)"
      ]
    },
    {
      "cell_type": "code",
      "execution_count": null,
      "metadata": {
        "id": "8n539Q9ehPHl"
      },
      "outputs": [],
      "source": [
        "train.drop(['Cabin', 'Embarked'], axis=1, inplace=True)"
      ]
    },
    {
      "cell_type": "code",
      "execution_count": null,
      "metadata": {
        "id": "ZgJNAbrRhPHl"
      },
      "outputs": [],
      "source": [
        "train"
      ]
    },
    {
      "cell_type": "code",
      "execution_count": null,
      "metadata": {
        "id": "ayIoR7vEhPHl",
        "outputId": "6779ee35-012c-4a2c-b371-277055006ae4",
        "colab": {
          "base_uri": "https://localhost:8080/",
          "height": 399
        }
      },
      "outputs": [
        {
          "output_type": "execute_result",
          "data": {
            "text/plain": [
              "<matplotlib.axes._subplots.AxesSubplot at 0x7f174bfaf150>"
            ]
          },
          "metadata": {},
          "execution_count": 29
        },
        {
          "output_type": "display_data",
          "data": {
            "text/plain": [
              "<Figure size 1152x432 with 2 Axes>"
            ],
            "image/png": "[encoded data removed]"
          },
          "metadata": {}
        }
      ],
      "source": [
        "sns.heatmap(train.isnull(), yticklabels=False)"
      ]
    }
  ],
  "metadata": {
    "interpreter": {
      "hash": "aee8b7b246df8f9039afb4144a1f6fd8d2ca17a180786b69acc140d282b71a49"
    },
    "kernelspec": {
      "display_name": "Python 3.7.9 64-bit",
      "language": "python",
      "name": "python3"
    },
    "language_info": {
      "codemirror_mode": {
        "name": "ipython",
        "version": 3
      },
      "file_extension": ".py",
      "mimetype": "text/x-python",
      "name": "python",
      "nbconvert_exporter": "python",
      "pygments_lexer": "ipython3",
      "version": "3.7.9"
    },
    "orig_nbformat": 4,
    "colab": {
      "name": "05kaggleDataVisualization.ipynb",
      "provenance": []
    }
  },
  "nbformat": 4,
  "nbformat_minor": 0
}