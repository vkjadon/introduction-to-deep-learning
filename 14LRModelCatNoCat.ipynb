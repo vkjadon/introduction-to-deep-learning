{
  "cells": [
    {
      "cell_type": "markdown",
      "metadata": {
        "id": "view-in-github",
        "colab_type": "text"
      },
      "source": [
        "<a href=\"https://colab.research.google.com/github/vkjadon/introduction-to-deep-learning/blob/main/14LRModelCatNoCat.ipynb\" target=\"_parent\"><img src=\"https://colab.research.google.com/assets/colab-badge.svg\" alt=\"Open In Colab\"/></a>"
      ]
    },
    {
      "cell_type": "markdown",
      "metadata": {
        "id": "ZN1AxlLcYzpr"
      },
      "source": [
        "## Logistic Regression based on Fundamental Approach\n",
        "- Will use `kaggle` dataset of cat.\n",
        "- The dataset is in HDF5 (Hierarchical Data Format version 5) data format\n",
        "- HDF5 format is designed for storing and managing large and complex datasets.\n",
        "- HDF5 provides a flexible and efficient way to organize, store, and retrieve data.\n",
        "- It supports various types of data, including numerical arrays, images, tables, and text.\n",
        "- The h5py package is a Pythonic interface to the HDF5 binary data format."
      ]
    },
    {
      "cell_type": "code",
      "execution_count": 1,
      "metadata": {
        "id": "wVRCOL1zYzpz"
      },
      "outputs": [],
      "source": [
        "import numpy as np\n",
        "import h5py\n",
        "import matplotlib.pyplot as plt"
      ]
    },
    {
      "cell_type": "markdown",
      "metadata": {
        "id": "xeMlf8vVYzp0"
      },
      "source": [
        "### Fetch Dataset from Kaggle\n",
        "- Import data from Kaggle\n",
        "- Use <a href=\"https://www.kaggle.com/muhammeddalkran/catvnoncat\" target=\"_blank\"> this Link </a>  \n",
        "\n",
        "**Details of datasets**\n",
        "- Image size: 64x64\n",
        "- Color space: RGB\n",
        "- File format: h5\n",
        "- Number of classes: 2 (cat, non-cat)\n",
        "- Number of train images: 209\n",
        "- Number of test images: 50\n",
        "\n",
        "To represent color images, the red, green and blue channels (RGB) must be specified for each pixel, and so the pixel value is actually a vector of three numbers ranging from 0 to 255."
      ]
    },
    {
      "cell_type": "code",
      "source": [
        "!ls"
      ],
      "metadata": {
        "colab": {
          "base_uri": "https://localhost:8080/"
        },
        "id": "-a1r15D2bExS",
        "outputId": "1711717c-415b-4760-ae0a-5c20fad83ab2"
      },
      "execution_count": 2,
      "outputs": [
        {
          "output_type": "stream",
          "name": "stdout",
          "text": [
            "sample_data\n"
          ]
        }
      ]
    },
    {
      "cell_type": "code",
      "source": [
        "!pwd"
      ],
      "metadata": {
        "colab": {
          "base_uri": "https://localhost:8080/"
        },
        "id": "IWQAgoF0azq5",
        "outputId": "d86742d0-7f43-4f15-ec34-ce9a584dfdeb"
      },
      "execution_count": 3,
      "outputs": [
        {
          "output_type": "stream",
          "name": "stdout",
          "text": [
            "/content\n"
          ]
        }
      ]
    },
    {
      "cell_type": "code",
      "source": [
        "!mkdir ~/.kaggle"
      ],
      "metadata": {
        "id": "rJy9qGXeuEJR"
      },
      "execution_count": 5,
      "outputs": []
    },
    {
      "cell_type": "code",
      "source": [
        "!cp kaggle.json ~/.kaggle/"
      ],
      "metadata": {
        "id": "uF5c7MPSt98a"
      },
      "execution_count": 6,
      "outputs": []
    },
    {
      "cell_type": "code",
      "source": [
        "!chmod 600 ~/.kaggle/kaggle.json"
      ],
      "metadata": {
        "id": "T7IV5VdNuZwD"
      },
      "execution_count": 8,
      "outputs": []
    },
    {
      "cell_type": "code",
      "source": [
        "!kaggle datasets download -d muhammeddalkran/catvnoncat"
      ],
      "metadata": {
        "colab": {
          "base_uri": "https://localhost:8080/"
        },
        "id": "BlBII3ndtx8h",
        "outputId": "ec301948-9349-4d80-8701-ced4e8f3df65"
      },
      "execution_count": 7,
      "outputs": [
        {
          "output_type": "stream",
          "name": "stdout",
          "text": [
            "Warning: Your Kaggle API key is readable by other users on this system! To fix this, you can run 'chmod 600 /root/.kaggle/kaggle.json'\n",
            "Downloading catvnoncat.zip to /content\n",
            "  0% 0.00/2.66M [00:00<?, ?B/s]\n",
            "100% 2.66M/2.66M [00:00<00:00, 179MB/s]\n"
          ]
        }
      ]
    },
    {
      "cell_type": "code",
      "source": [
        "!unzip /content/catvnoncat.zip -d /content"
      ],
      "metadata": {
        "colab": {
          "base_uri": "https://localhost:8080/"
        },
        "id": "8hW140onvTds",
        "outputId": "f3ef26c2-8cd1-411a-f5e2-2b8f9ad390fb"
      },
      "execution_count": 18,
      "outputs": [
        {
          "output_type": "stream",
          "name": "stdout",
          "text": [
            "Archive:  /content/catvnoncat.zip\n",
            "  inflating: /content/catvnoncat/test_catvnoncat.h5  \n",
            "  inflating: /content/catvnoncat/train_catvnoncat.h5  \n"
          ]
        }
      ]
    },
    {
      "cell_type": "code",
      "execution_count": 19,
      "metadata": {
        "id": "CX4rHs7XYzp1"
      },
      "outputs": [],
      "source": [
        "# Loading the data (cat/non-cat) from the File downloaded from the Kaggle\n",
        "train_dataset = h5py.File('/content/catvnoncat/train_catvnoncat.h5', \"r\")\n",
        "test_dataset = h5py.File('/content/catvnoncat/test_catvnoncat.h5', \"r\")"
      ]
    },
    {
      "cell_type": "code",
      "source": [
        "for key in train_dataset.keys():\n",
        "    print(key) #Names of the groups in HDF5 file."
      ],
      "metadata": {
        "colab": {
          "base_uri": "https://localhost:8080/"
        },
        "id": "OSx1p-AQHfh-",
        "outputId": "e3f93773-58db-4101-d279-d1712391d018"
      },
      "execution_count": 20,
      "outputs": [
        {
          "output_type": "stream",
          "name": "stdout",
          "text": [
            "list_classes\n",
            "train_set_x\n",
            "train_set_y\n"
          ]
        }
      ]
    },
    {
      "cell_type": "code",
      "execution_count": 21,
      "metadata": {
        "id": "rG9-lrWiYzp4"
      },
      "outputs": [],
      "source": [
        "train_set_x_orig = np.array(train_dataset[\"train_set_x\"][:]) # your train set features\n",
        "train_set_y = np.array(train_dataset[\"train_set_y\"][:]) # your train set labels"
      ]
    },
    {
      "cell_type": "code",
      "source": [
        "print(train_set_x_orig.shape)\n",
        "print(train_set_y.shape)"
      ],
      "metadata": {
        "colab": {
          "base_uri": "https://localhost:8080/"
        },
        "id": "UymNw8NiEClg",
        "outputId": "0d032b1f-b4ed-48be-f4bd-d5428d4f677f"
      },
      "execution_count": 22,
      "outputs": [
        {
          "output_type": "stream",
          "name": "stdout",
          "text": [
            "(209, 64, 64, 3)\n",
            "(209,)\n"
          ]
        }
      ]
    },
    {
      "cell_type": "code",
      "execution_count": 23,
      "metadata": {
        "id": "xwM1Ls4cYzp5"
      },
      "outputs": [],
      "source": [
        "test_set_x_orig = np.array(test_dataset[\"test_set_x\"][:]) # your test set features\n",
        "test_set_y = np.array(test_dataset[\"test_set_y\"][:]) # your test set labels"
      ]
    },
    {
      "cell_type": "code",
      "execution_count": 24,
      "metadata": {
        "id": "JnJeOzIbYzp5",
        "colab": {
          "base_uri": "https://localhost:8080/",
          "height": 450
        },
        "outputId": "3d7555f7-17ab-4a32-baf1-eea5630167fa"
      },
      "outputs": [
        {
          "output_type": "execute_result",
          "data": {
            "text/plain": [
              "<matplotlib.image.AxesImage at 0x7ff02a8a2d10>"
            ]
          },
          "metadata": {},
          "execution_count": 24
        },
        {
          "output_type": "display_data",
          "data": {
            "text/plain": [
              "<Figure size 640x480 with 1 Axes>"
            ],
            "image/png": "[encoded data removed]"
          },
          "metadata": {}
        }
      ],
      "source": [
        "index = 1\n",
        "plt.imshow(test_set_x_orig[index])"
      ]
    },
    {
      "cell_type": "code",
      "execution_count": 40,
      "metadata": {
        "id": "k5FIfIv5Yzp7",
        "colab": {
          "base_uri": "https://localhost:8080/"
        },
        "outputId": "30a6a8a9-47df-4732-a779-98530fb2d8cc"
      },
      "outputs": [
        {
          "output_type": "execute_result",
          "data": {
            "text/plain": [
              "(209,)"
            ]
          },
          "metadata": {},
          "execution_count": 40
        }
      ],
      "source": [
        "train_set_y.shape"
      ]
    },
    {
      "cell_type": "code",
      "execution_count": 41,
      "metadata": {
        "id": "WbPgZoKRYzp7"
      },
      "outputs": [],
      "source": [
        "train_set_y = train_set_y.reshape((1, train_set_y.shape[0]))\n",
        "test_set_y = test_set_y.reshape((1, test_set_y.shape[0]))"
      ]
    },
    {
      "cell_type": "code",
      "execution_count": 42,
      "metadata": {
        "id": "mWdIU41VYzp8",
        "colab": {
          "base_uri": "https://localhost:8080/"
        },
        "outputId": "05eca5f5-732e-4a6a-a74d-f3c90ed57e35"
      },
      "outputs": [
        {
          "output_type": "stream",
          "name": "stdout",
          "text": [
            "Number of training examples: m_train = 209\n",
            "Number of testing examples: m_test = 50\n",
            "Height/Width of each image: num_px = 64\n"
          ]
        }
      ],
      "source": [
        "m_train=train_set_x_orig.shape[0]\n",
        "m_test=test_set_x_orig.shape[0]\n",
        "num_px=train_set_x_orig.shape[1]\n",
        "print (\"Number of training examples: m_train = \" + str(m_train))\n",
        "print (\"Number of testing examples: m_test = \" + str(m_test))\n",
        "print (\"Height/Width of each image: num_px = \" + str(num_px))"
      ]
    },
    {
      "cell_type": "code",
      "execution_count": 43,
      "metadata": {
        "id": "_ysgu96AYzp9",
        "colab": {
          "base_uri": "https://localhost:8080/"
        },
        "outputId": "16f84d8d-d4bf-4bee-a244-c986fafb44e5"
      },
      "outputs": [
        {
          "output_type": "execute_result",
          "data": {
            "text/plain": [
              "(209, 64, 64, 3)"
            ]
          },
          "metadata": {},
          "execution_count": 43
        }
      ],
      "source": [
        "train_set_x_orig.shape"
      ]
    },
    {
      "cell_type": "markdown",
      "metadata": {
        "id": "78dSBEbpYzp9"
      },
      "source": [
        "The shape of **`X`** matrix is $\\mathcal {(nx, m)}$ where each columns represents the features of each training set;\n",
        "\n",
        "Where,   \n",
        "\n",
        "$\\mathcal {nx=px * py * 3}$ for the images as input and $m$ is the training examples.\n",
        "\n",
        "\n",
        "\n",
        "So, we have to reshape to `train_set_x_orig` to `(nx,m_train)`. This will be achieved in two steps:   \n",
        "\n",
        "***Step-1*** : Respahe `train_set_x_orig` to `(train_set_x_orig.shape[0],-1)`. -1 is used for unknown number of columns (known presently as `nx`)   \n",
        "***Step-2*** : Transpose the matrix to get the desired dimension `(nx, m)`."
      ]
    },
    {
      "cell_type": "code",
      "execution_count": 26,
      "metadata": {
        "id": "Eip4rstaYzqA"
      },
      "outputs": [],
      "source": [
        "train_set_x_flatten=train_set_x_orig.reshape(train_set_x_orig.shape[0],-1).T\n",
        "test_set_x_flatten=test_set_x_orig.reshape (test_set_x_orig.shape[0],-1).T"
      ]
    },
    {
      "cell_type": "code",
      "execution_count": 27,
      "metadata": {
        "id": "Ft1tMpilYzqB",
        "colab": {
          "base_uri": "https://localhost:8080/"
        },
        "outputId": "7499969d-adc6-4f04-ca56-bbbe5e084448"
      },
      "outputs": [
        {
          "output_type": "execute_result",
          "data": {
            "text/plain": [
              "(12288, 209)"
            ]
          },
          "metadata": {},
          "execution_count": 27
        }
      ],
      "source": [
        "train_set_x_flatten.shape"
      ]
    },
    {
      "cell_type": "markdown",
      "metadata": {
        "id": "mnZCf5pqYzqB"
      },
      "source": [
        "Optimizing the parameters is best suited on the data of the same range. Let's normalize our dataset with the maximum possible pixel value i.e. 255."
      ]
    },
    {
      "cell_type": "code",
      "execution_count": 28,
      "metadata": {
        "id": "sKubXCDQYzqB",
        "colab": {
          "base_uri": "https://localhost:8080/"
        },
        "outputId": "69b7d59c-ba39-488f-91f3-e167ade7c742"
      },
      "outputs": [
        {
          "output_type": "execute_result",
          "data": {
            "text/plain": [
              "12288"
            ]
          },
          "metadata": {},
          "execution_count": 28
        }
      ],
      "source": [
        "train_set_x = train_set_x_flatten / 255.\n",
        "test_set_x = test_set_x_flatten / 255.\n",
        "features=train_set_x.shape[0]\n",
        "features"
      ]
    },
    {
      "cell_type": "markdown",
      "source": [
        "## Building the parts of our algorithm ##\n",
        "\n",
        "The main function for building a logistic regression model are:\n",
        "\n",
        "- def sigmoid(z):\n",
        "- def initialize_with_zeros(nx):\n",
        "- def propagate(w, b, X, Y):\n",
        "- def optimize(w, b, X, Y, num_iterations=100, learning_rate=0.009, print_cost=False):\n",
        "    - def propagate(w, b, X, Y):\n",
        "- def predict(w, b, X):\n",
        "- def model(X_train, Y_train, X_test, Y_test, num_iterations=2000, learning_rate=0.1, print_cost=False):\n",
        "  - def optimize(w, b, X, Y, num_iterations=100, learning_rate=0.009, print_cost=False):\n",
        "  - def predict(w, b, X):"
      ],
      "metadata": {
        "id": "gu_g7cSJ_6er"
      }
    },
    {
      "cell_type": "code",
      "execution_count": 29,
      "metadata": {
        "id": "uve5ZHT9YzqC"
      },
      "outputs": [],
      "source": [
        "def sigmoid(z):\n",
        "#    z -- A scalar or numpy array of any size.\n",
        "    s=1/(1+np.exp(-z))\n",
        "    return s"
      ]
    },
    {
      "cell_type": "markdown",
      "source": [
        "##  Parameter Initialization\n",
        "\n",
        "Let us make a function to creates a vector of zeros of shape (nx, 1) for w and initializes b to 0."
      ],
      "metadata": {
        "id": "jkGUTjI3Rl7_"
      }
    },
    {
      "cell_type": "code",
      "execution_count": 30,
      "metadata": {
        "id": "4RC79y4hYzqD"
      },
      "outputs": [],
      "source": [
        "def initialize_with_zeros(nx):\n",
        "    w=np.zeros(nx).reshape(nx,1)\n",
        "    b=0.0\n",
        "    return w, b"
      ]
    },
    {
      "cell_type": "markdown",
      "source": [
        "Implement the cost function and its gradient for the propagation. It should return:   \n",
        " - cost for logistic regression\n",
        " - gradient of the loss with respect to w\n",
        " - gradient of the loss with respect to b\n",
        "\n"
      ],
      "metadata": {
        "id": "fBTPUOM3UAkp"
      }
    },
    {
      "cell_type": "code",
      "execution_count": 31,
      "metadata": {
        "id": "E_7Gaxe2YzqE"
      },
      "outputs": [],
      "source": [
        "def propagate(w, b, X, Y):\n",
        "    m = X.shape[1]\n",
        "\n",
        "    # FORWARD PROPAGATION\n",
        "    A=sigmoid(np.dot(w.T,X)+b)\n",
        "    cost=-np.sum((Y*np.log(A)+(1-Y)*np.log(1-A)),axis=1)/m\n",
        "\n",
        "    # BACKWARD PROPAGATION (TO FIND GRAD)\n",
        "    dw=np.dot(X,(A-Y).T)/m\n",
        "    db=(np.sum((A-Y), dtype=np.float64))/m\n",
        "\n",
        "    cost = np.squeeze(np.array(cost))\n",
        "    #np.squeeze remove axes of length one from an array\n",
        "    grads = {\"dw\": dw,\n",
        "             \"db\": db}\n",
        "\n",
        "    return grads, cost"
      ]
    },
    {
      "cell_type": "code",
      "execution_count": 32,
      "metadata": {
        "id": "P-qcz6JUYzqF"
      },
      "outputs": [],
      "source": [
        "def optimize(w, b, X, Y, num_iterations=100, learning_rate=0.009, print_cost=False):\n",
        "    costs = []\n",
        "    for i in range(num_iterations):\n",
        "        grads, cost = propagate(w, b, X, Y)\n",
        "        dw = grads[\"dw\"]\n",
        "        db = grads[\"db\"]\n",
        "        w=w-learning_rate*dw\n",
        "        b=b-learning_rate*db\n",
        "\n",
        "        if i % 500 == 0:\n",
        "            costs.append(cost)\n",
        "            # Print the cost every 100 training iterations\n",
        "            if print_cost:\n",
        "                print (\"Cost after iteration %i: %f\" %(i, cost))\n",
        "\n",
        "    params = {\"w\": w,\n",
        "              \"b\": b}\n",
        "\n",
        "    grads = {\"dw\": dw,\n",
        "             \"db\": db}\n",
        "\n",
        "    return params, grads, costs"
      ]
    },
    {
      "cell_type": "code",
      "execution_count": 33,
      "metadata": {
        "id": "u-0ymzFkYzqJ"
      },
      "outputs": [],
      "source": [
        "def predict(w, b, X):\n",
        "    m = X.shape[1]\n",
        "    Y_prediction = np.zeros((1, m))\n",
        "    w = w.reshape(X.shape[0], 1)\n",
        "\n",
        "    A=sigmoid(np.dot(w.T,X)+b)\n",
        "\n",
        "    for i in range(A.shape[1]):\n",
        "        if A[0,i] > 0.5:\n",
        "            Y_prediction[0,i]=1\n",
        "        else:\n",
        "            Y_prediction[0,i]=0\n",
        "    return Y_prediction"
      ]
    },
    {
      "cell_type": "code",
      "execution_count": 34,
      "metadata": {
        "id": "XVLfMMWrYzqJ"
      },
      "outputs": [],
      "source": [
        "# GRADED FUNCTION: model\n",
        "\n",
        "def model(X_train, Y_train, X_test, Y_test, num_iterations=2000, learning_rate=0.1, print_cost=False):\n",
        "\n",
        "    w, b=np.zeros(X_train.shape[0]).reshape(X_train.shape[0],1),0.0\n",
        "    params, grads, costs = optimize(w, b, X_train, Y_train, num_iterations, learning_rate, print_cost)\n",
        "    Y_prediction_train=predict(params[\"w\"], params[\"b\"], X_train)\n",
        "    Y_prediction_test=predict(params[\"w\"], params[\"b\"], X_test)\n",
        "\n",
        "    if print_cost:\n",
        "        print(\"train accuracy: {} %\".format(100 - np.mean(np.abs(Y_prediction_train - Y_train)) * 100))\n",
        "        print(\"test accuracy: {} %\".format(100 - np.mean(np.abs(Y_prediction_test - Y_test)) * 100))\n",
        "        print(\"learning Rate \", learning_rate)\n",
        "\n",
        "    d = {\"costs\": costs,\n",
        "         \"Y_prediction_test\": Y_prediction_test,\n",
        "         \"Y_prediction_train\" : Y_prediction_train,\n",
        "         \"w\" : params[\"w\"],\n",
        "         \"b\" : params[\"b\"],\n",
        "         \"learning_rate\" : learning_rate,\n",
        "         \"num_iterations\": num_iterations}\n",
        "    return d"
      ]
    },
    {
      "cell_type": "code",
      "execution_count": 35,
      "metadata": {
        "id": "O1egQRYWYzqK",
        "colab": {
          "base_uri": "https://localhost:8080/"
        },
        "outputId": "231504d0-cced-42e0-8f93-c248be7dc641"
      },
      "outputs": [
        {
          "output_type": "stream",
          "name": "stdout",
          "text": [
            "Cost after iteration 0: 0.693147\n",
            "Cost after iteration 500: 0.303273\n",
            "Cost after iteration 1000: 0.214820\n",
            "Cost after iteration 1500: 0.166521\n",
            "Cost after iteration 2000: 0.135608\n",
            "Cost after iteration 2500: 0.114093\n",
            "Cost after iteration 3000: 0.098280\n",
            "Cost after iteration 3500: 0.086190\n",
            "Cost after iteration 4000: 0.076662\n",
            "Cost after iteration 4500: 0.068968\n",
            "train accuracy: 100.0 %\n",
            "test accuracy: 70.0 %\n",
            "learning Rate  0.005\n"
          ]
        }
      ],
      "source": [
        "logistic_regression_model = model(train_set_x, train_set_y, test_set_x, test_set_y, num_iterations=5000, learning_rate=0.005, print_cost=True)"
      ]
    },
    {
      "cell_type": "code",
      "source": [
        "logistic_regression_model[\"Y_prediction_test\"]"
      ],
      "metadata": {
        "colab": {
          "base_uri": "https://localhost:8080/"
        },
        "id": "hjZSWdlakvpZ",
        "outputId": "0a0fb745-415b-492c-cc47-2ce7d6049df5"
      },
      "execution_count": 36,
      "outputs": [
        {
          "output_type": "execute_result",
          "data": {
            "text/plain": [
              "array([[1., 1., 1., 1., 1., 1., 0., 1., 1., 1., 0., 0., 1., 1., 0., 1.,\n",
              "        0., 1., 0., 0., 1., 0., 0., 1., 1., 1., 1., 0., 0., 1., 0., 1.,\n",
              "        1., 1., 1., 0., 0., 1., 0., 0., 1., 0., 1., 0., 1., 1., 0., 1.,\n",
              "        1., 0.]])"
            ]
          },
          "metadata": {},
          "execution_count": 36
        }
      ]
    },
    {
      "cell_type": "code",
      "source": [
        "test_set_y"
      ],
      "metadata": {
        "colab": {
          "base_uri": "https://localhost:8080/"
        },
        "id": "zx3gzV5QlBYH",
        "outputId": "a38659eb-616b-4ff9-d86f-c82a9da477a8"
      },
      "execution_count": 37,
      "outputs": [
        {
          "output_type": "execute_result",
          "data": {
            "text/plain": [
              "array([1, 1, 1, 1, 1, 0, 1, 1, 1, 1, 1, 1, 1, 0, 0, 1, 0, 1, 1, 1, 1, 0,\n",
              "       0, 1, 1, 1, 1, 0, 1, 0, 1, 1, 1, 1, 0, 0, 0, 1, 0, 0, 1, 1, 1, 0,\n",
              "       0, 0, 1, 1, 1, 0])"
            ]
          },
          "metadata": {},
          "execution_count": 37
        }
      ]
    },
    {
      "cell_type": "code",
      "execution_count": 44,
      "metadata": {
        "id": "SCRcam6PYzqK",
        "colab": {
          "base_uri": "https://localhost:8080/"
        },
        "outputId": "7133849c-4baa-4ded-bfbf-96c6db75989e"
      },
      "outputs": [
        {
          "output_type": "stream",
          "name": "stdout",
          "text": [
            "A Non Cat image predicted as Cat False Positive 5 0 1.0\n",
            "A Cat image predicted as Non Cat False Negative 6 1 0.0\n",
            "A Cat image predicted as Non Cat False Negative 10 1 0.0\n",
            "A Cat image predicted as Non Cat False Negative 11 1 0.0\n",
            "A Non Cat image predicted as Cat False Positive 13 0 1.0\n",
            "A Cat image predicted as Non Cat False Negative 18 1 0.0\n",
            "A Cat image predicted as Non Cat False Negative 19 1 0.0\n",
            "A Cat image predicted as Non Cat False Negative 28 1 0.0\n",
            "A Non Cat image predicted as Cat False Positive 29 0 1.0\n",
            "A Cat image predicted as Non Cat False Negative 30 1 0.0\n",
            "A Non Cat image predicted as Cat False Positive 34 0 1.0\n",
            "A Cat image predicted as Non Cat False Negative 41 1 0.0\n",
            "A Non Cat image predicted as Cat False Positive 44 0 1.0\n",
            "A Non Cat image predicted as Cat False Positive 45 0 1.0\n",
            "A Cat image predicted as Non Cat False Negative 46 1 0.0\n"
          ]
        }
      ],
      "source": [
        "for index in range(test_set_y.shape[1]):\n",
        "  true_label=test_set_y[0][index]\n",
        "  model_label=logistic_regression_model[\"Y_prediction_test\"][0][index]\n",
        "  if(true_label!=model_label):\n",
        "    if(true_label==0):\n",
        "      print(\"A Non Cat image predicted as Cat False Positive\",index, true_label, model_label)\n",
        "    else:\n",
        "      print(\"A Cat image predicted as Non Cat False Negative\",index, true_label, model_label)\n",
        "  index=index+1"
      ]
    },
    {
      "cell_type": "code",
      "source": [
        "plt.imshow(test_set_x[:, 34].reshape((num_px, num_px, 3)))"
      ],
      "metadata": {
        "colab": {
          "base_uri": "https://localhost:8080/",
          "height": 450
        },
        "id": "5CAm0eZjp_cV",
        "outputId": "9ee733df-8302-44e9-86b2-d4d6477b91d9"
      },
      "execution_count": 45,
      "outputs": [
        {
          "output_type": "execute_result",
          "data": {
            "text/plain": [
              "<matplotlib.image.AxesImage at 0x7ff02a8c0be0>"
            ]
          },
          "metadata": {},
          "execution_count": 45
        },
        {
          "output_type": "display_data",
          "data": {
            "text/plain": [
              "<Figure size 640x480 with 1 Axes>"
            ],
            "image/png": "[encoded data removed]"
          },
          "metadata": {}
        }
      ]
    },
    {
      "cell_type": "code",
      "execution_count": 46,
      "metadata": {
        "id": "ieLRJ6-7YzqK",
        "colab": {
          "base_uri": "https://localhost:8080/",
          "height": 472
        },
        "outputId": "3a0f4358-a499-45d4-8588-3b5aaa512f14"
      },
      "outputs": [
        {
          "output_type": "display_data",
          "data": {
            "text/plain": [
              "<Figure size 640x480 with 1 Axes>"
            ],
            "image/png": "[encoded data removed]"
          },
          "metadata": {}
        }
      ],
      "source": [
        "# Plot learning curve (with costs)\n",
        "costs = np.squeeze(logistic_regression_model['costs'])\n",
        "plt.plot(costs)\n",
        "plt.ylabel('cost')\n",
        "plt.xlabel('iterations (per hundreds)')\n",
        "plt.title(\"Learning rate =\" + str(logistic_regression_model[\"learning_rate\"]))\n",
        "plt.show()"
      ]
    }
  ],
  "metadata": {
    "interpreter": {
      "hash": "aee8b7b246df8f9039afb4144a1f6fd8d2ca17a180786b69acc140d282b71a49"
    },
    "kernelspec": {
      "display_name": "Python 3.7.9 64-bit",
      "language": "python",
      "name": "python3"
    },
    "language_info": {
      "codemirror_mode": {
        "name": "ipython",
        "version": 3
      },
      "file_extension": ".py",
      "mimetype": "text/x-python",
      "name": "python",
      "nbconvert_exporter": "python",
      "pygments_lexer": "ipython3",
      "version": "3.7.9"
    },
    "orig_nbformat": 4,
    "colab": {
      "name": "14LRModelCatNoCat.ipynb",
      "provenance": [],
      "include_colab_link": true
    }
  },
  "nbformat": 4,
  "nbformat_minor": 0
}