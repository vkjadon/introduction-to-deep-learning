{
  "cells": [
    {
      "cell_type": "markdown",
      "metadata": {
        "id": "view-in-github",
        "colab_type": "text"
      },
      "source": [
        "<a href=\"https://colab.research.google.com/github/vkjadon/introduction-to-deep-learning/blob/main/03kaggleDataExploration.ipynb\" target=\"_parent\"><img src=\"https://colab.research.google.com/assets/colab-badge.svg\" alt=\"Open In Colab\"/></a>"
      ]
    },
    {
      "cell_type": "markdown",
      "metadata": {
        "id": "b6IR1byxYOCW"
      },
      "source": [
        "### Fetch Dataset from Kaggle\n",
        "- Import data from Kaggle\n",
        "- Use <a href=\"https://www.kaggle.com/ruchi798/housing-prices-in-metropolitan-areas-of-india\" target=\"_blank\"> this Link </a>  \n",
        "\n"
      ]
    },
    {
      "cell_type": "markdown",
      "source": [
        "Create a directory kaggle in root"
      ],
      "metadata": {
        "id": "1RaPT0YwCCQ9"
      }
    },
    {
      "cell_type": "code",
      "source": [
        "!mkdir ~/.kaggle"
      ],
      "metadata": {
        "id": "e7MtSRKkY3xt"
      },
      "execution_count": null,
      "outputs": []
    },
    {
      "cell_type": "code",
      "source": [
        "from google.colab import drive\n",
        "drive.mount('/content/drive')"
      ],
      "metadata": {
        "colab": {
          "base_uri": "https://localhost:8080/"
        },
        "id": "J0Seg8aPTTVF",
        "outputId": "c5099811-9eaf-46fd-ecb7-b4e11a46c943"
      },
      "execution_count": null,
      "outputs": [
        {
          "output_type": "stream",
          "name": "stdout",
          "text": [
            "Mounted at /content/drive\n"
          ]
        }
      ]
    },
    {
      "cell_type": "markdown",
      "source": [
        "Copy kaggle.json to the folder just created using the following copy command. kaggle.json is created from your personal kaggle account. It contains username and the key."
      ],
      "metadata": {
        "id": "Q24JlenIDGbt"
      }
    },
    {
      "cell_type": "code",
      "source": [
        "!cp kaggle.json ~/.kaggle/"
      ],
      "metadata": {
        "id": "j-hGnKVxZCdI",
        "outputId": "0b4625ad-a182-46af-a9f6-fa4eec3ab9c1",
        "colab": {
          "base_uri": "https://localhost:8080/"
        }
      },
      "execution_count": null,
      "outputs": [
        {
          "output_type": "stream",
          "name": "stdout",
          "text": [
            "cp: cannot stat 'kaggle.json': No such file or directory\n"
          ]
        }
      ]
    },
    {
      "cell_type": "code",
      "source": [
        "!pwd"
      ],
      "metadata": {
        "colab": {
          "base_uri": "https://localhost:8080/"
        },
        "id": "YYNqMYY3E4j5",
        "outputId": "01066c44-b376-4dff-a641-3f973abadcb3"
      },
      "execution_count": null,
      "outputs": [
        {
          "output_type": "stream",
          "name": "stdout",
          "text": [
            "/content\n"
          ]
        }
      ]
    },
    {
      "cell_type": "markdown",
      "source": [
        "To check the permission configuration of a file, use the command"
      ],
      "metadata": {
        "id": "zrVqFupJEpXr"
      }
    },
    {
      "cell_type": "code",
      "source": [
        "!ls -l ~/.kaggle/kaggle.json"
      ],
      "metadata": {
        "colab": {
          "base_uri": "https://localhost:8080/"
        },
        "id": "L2ExrillEymS",
        "outputId": "e5918254-2c73-4642-d48e-7d9828886c61"
      },
      "execution_count": null,
      "outputs": [
        {
          "output_type": "stream",
          "name": "stdout",
          "text": [
            "ls: cannot access '/root/.kaggle/kaggle.json': No such file or directory\n"
          ]
        }
      ]
    },
    {
      "cell_type": "markdown",
      "source": [
        "After uploading (copying) the Kaggle.json key to cloud shell, change the mode of the kaggle.json to 600 using chmod command."
      ],
      "metadata": {
        "id": "54MAokOICf_g"
      }
    },
    {
      "cell_type": "code",
      "source": [
        "!chmod 600 ~/.kaggle/kaggle.json"
      ],
      "metadata": {
        "id": "lyjOC-umC7EI",
        "outputId": "e6702785-6ebf-43dc-94f5-a43c1f520c16",
        "colab": {
          "base_uri": "https://localhost:8080/"
        }
      },
      "execution_count": null,
      "outputs": [
        {
          "output_type": "stream",
          "name": "stdout",
          "text": [
            "chmod: cannot access '/root/.kaggle/kaggle.json': No such file or directory\n"
          ]
        }
      ]
    },
    {
      "cell_type": "code",
      "source": [
        "!ls -l ~/.kaggle/kaggle.json"
      ],
      "metadata": {
        "id": "E2BTGWqXH47P",
        "outputId": "ea67d0fd-8d11-4c6f-a473-ad9089f7ac1e",
        "colab": {
          "base_uri": "https://localhost:8080/"
        }
      },
      "execution_count": null,
      "outputs": [
        {
          "output_type": "stream",
          "name": "stdout",
          "text": [
            "ls: cannot access '/root/.kaggle/kaggle.json': No such file or directory\n"
          ]
        }
      ]
    },
    {
      "cell_type": "code",
      "source": [
        "%cd drive/MyDrive/Colab Notebooks/AI-ipynb/datasets"
      ],
      "metadata": {
        "colab": {
          "base_uri": "https://localhost:8080/"
        },
        "id": "olCfce0STuM6",
        "outputId": "6064cc1e-e880-4941-c1d3-f7351296c0c2"
      },
      "execution_count": null,
      "outputs": [
        {
          "output_type": "stream",
          "name": "stdout",
          "text": [
            "/content/drive/MyDrive/Colab Notebooks/AI-ipynb/datasets\n"
          ]
        }
      ]
    },
    {
      "cell_type": "code",
      "source": [
        "!kaggle datasets download -d ruchi798/housing-prices-in-metropolitan-areas-of-india"
      ],
      "metadata": {
        "id": "2vFiD0IHZ2T8",
        "colab": {
          "base_uri": "https://localhost:8080/"
        },
        "outputId": "f7d4fe6c-3d16-4959-f4c2-5811a66b5771"
      },
      "execution_count": null,
      "outputs": [
        {
          "output_type": "stream",
          "name": "stdout",
          "text": [
            "Traceback (most recent call last):\n",
            "  File \"/usr/local/bin/kaggle\", line 5, in <module>\n",
            "    from kaggle.cli import main\n",
            "  File \"/usr/local/lib/python3.7/dist-packages/kaggle/__init__.py\", line 23, in <module>\n",
            "    api.authenticate()\n",
            "  File \"/usr/local/lib/python3.7/dist-packages/kaggle/api/kaggle_api_extended.py\", line 166, in authenticate\n",
            "    self.config_file, self.config_dir))\n",
            "OSError: Could not find kaggle.json. Make sure it's located in /root/.kaggle. Or use the environment method.\n"
          ]
        }
      ]
    },
    {
      "cell_type": "code",
      "source": [
        "!unzip housing-prices-in-metropolitan-areas-of-india.zip"
      ],
      "metadata": {
        "colab": {
          "base_uri": "https://localhost:8080/"
        },
        "id": "AZtXuJt-URqz",
        "outputId": "1a288483-8165-4ebb-9a5e-7843519bfe31"
      },
      "execution_count": null,
      "outputs": [
        {
          "output_type": "stream",
          "name": "stdout",
          "text": [
            "Archive:  housing-prices-in-metropolitan-areas-of-india.zip\n",
            "replace Bangalore.csv? [y]es, [n]o, [A]ll, [N]one, [r]ename: n\n",
            "replace Chennai.csv? [y]es, [n]o, [A]ll, [N]one, [r]ename: n\n",
            "replace Delhi.csv? [y]es, [n]o, [A]ll, [N]one, [r]ename: n\n",
            "replace Hyderabad.csv? [y]es, [n]o, [A]ll, [N]one, [r]ename: n\n",
            "replace Kolkata.csv? [y]es, [n]o, [A]ll, [N]one, [r]ename: n\n",
            "replace Mumbai.csv? [y]es, [n]o, [A]ll, [N]one, [r]ename: n\n"
          ]
        }
      ]
    },
    {
      "cell_type": "code",
      "execution_count": null,
      "metadata": {
        "id": "5c76rDdUYOCa"
      },
      "outputs": [],
      "source": [
        "import pandas as pd\n",
        "pd.set_option('display.max_columns',None)"
      ]
    },
    {
      "cell_type": "code",
      "source": [
        "!pwd"
      ],
      "metadata": {
        "id": "WCKqmSab_b14",
        "outputId": "6e3e2c2b-c18c-4d0b-c303-8d8c22ca0b93",
        "colab": {
          "base_uri": "https://localhost:8080/"
        }
      },
      "execution_count": null,
      "outputs": [
        {
          "output_type": "stream",
          "name": "stdout",
          "text": [
            "/content/drive/MyDrive/Colab Notebooks/AI-ipynb/datasets\n"
          ]
        }
      ]
    },
    {
      "cell_type": "code",
      "execution_count": null,
      "metadata": {
        "id": "f-NBw8wrYOCb",
        "outputId": "5073795e-c312-470c-b7b4-6ebfcdc4142f",
        "colab": {
          "base_uri": "https://localhost:8080/",
          "height": 679
        }
      },
      "outputs": [
        {
          "output_type": "execute_result",
          "data": {
            "text/plain": [
              "         Price  Area          Location  No. of Bedrooms  Resale  \\\n",
              "0     10500000  1200  Sector 10 Dwarka                2       1   \n",
              "1      6000000  1000       Uttam Nagar                3       0   \n",
              "2     15000000  1350      Sarita Vihar                2       1   \n",
              "3      2500000   435       Uttam Nagar                2       0   \n",
              "4      5800000   900        Dwarka Mor                3       0   \n",
              "...        ...   ...               ...              ...     ...   \n",
              "4993   2500000   540       Madhu Vihar                2       1   \n",
              "4994   3000000   540       Madhu Vihar                2       1   \n",
              "4995   2600000   415  Sector 26 Dwarka                1       1   \n",
              "4996   5500000   415  Sector 26 Dwarka                1       1   \n",
              "4997   4200000   900       Uttam Nagar                3       1   \n",
              "\n",
              "      MaintenanceStaff  Gymnasium  SwimmingPool  LandscapedGardens  \\\n",
              "0                    0          1             0                  0   \n",
              "1                    0          0             0                  0   \n",
              "2                    0          0             0                  0   \n",
              "3                    0          0             0                  0   \n",
              "4                    0          0             0                  0   \n",
              "...                ...        ...           ...                ...   \n",
              "4993                 9          9             9                  9   \n",
              "4994                 9          9             9                  9   \n",
              "4995                 9          9             9                  9   \n",
              "4996                 9          9             9                  9   \n",
              "4997                 9          9             9                  9   \n",
              "\n",
              "      JoggingTrack  RainWaterHarvesting  IndoorGames  ShoppingMall  Intercom  \\\n",
              "0                1                    0            0             0         1   \n",
              "1                0                    0            0             0         1   \n",
              "2                0                    0            0             0         0   \n",
              "3                0                    0            0             0         1   \n",
              "4                0                    0            0             0         0   \n",
              "...            ...                  ...          ...           ...       ...   \n",
              "4993             9                    9            9             9         9   \n",
              "4994             9                    9            9             9         9   \n",
              "4995             9                    9            9             9         9   \n",
              "4996             9                    9            9             9         9   \n",
              "4997             9                    9            9             9         9   \n",
              "\n",
              "      SportsFacility  ATM  ClubHouse  School  24X7Security  PowerBackup  \\\n",
              "0                  1    0          0       0             1            1   \n",
              "1                  0    0          0       0             0            1   \n",
              "2                  0    0          0       0             0            0   \n",
              "3                  0    0          0       0             0            0   \n",
              "4                  0    0          0       0             0            0   \n",
              "...              ...  ...        ...     ...           ...          ...   \n",
              "4993               9    9          9       9             9            9   \n",
              "4994               9    9          9       9             9            9   \n",
              "4995               9    9          9       9             9            9   \n",
              "4996               9    9          9       9             9            9   \n",
              "4997               9    9          9       9             9            9   \n",
              "\n",
              "      CarParking  StaffQuarter  Cafeteria  MultipurposeRoom  Hospital  \\\n",
              "0              1             0          0                 0         0   \n",
              "1              1             0          0                 0         0   \n",
              "2              0             0          0                 0         0   \n",
              "3              1             0          0                 0         0   \n",
              "4              1             0          0                 0         0   \n",
              "...          ...           ...        ...               ...       ...   \n",
              "4993           9             9          9                 9         9   \n",
              "4994           9             9          9                 9         9   \n",
              "4995           9             9          9                 9         9   \n",
              "4996           9             9          9                 9         9   \n",
              "4997           9             9          9                 9         9   \n",
              "\n",
              "      WashingMachine  Gasconnection  AC  Wifi  Children'splayarea  \\\n",
              "0                  0              1   0     0                   1   \n",
              "1                  0              0   0     0                   0   \n",
              "2                  0              0   0     0                   0   \n",
              "3                  0              0   0     0                   0   \n",
              "4                  0              0   0     0                   0   \n",
              "...              ...            ...  ..   ...                 ...   \n",
              "4993               9              9   9     9                   9   \n",
              "4994               9              9   9     9                   9   \n",
              "4995               9              9   9     9                   9   \n",
              "4996               9              9   9     9                   9   \n",
              "4997               9              9   9     9                   9   \n",
              "\n",
              "      LiftAvailable  BED  VaastuCompliant  Microwave  GolfCourse  TV  \\\n",
              "0                 1    0                1          0           0   0   \n",
              "1                 0    0                0          0           0   0   \n",
              "2                 0    0                0          0           0   0   \n",
              "3                 0    0                1          0           0   0   \n",
              "4                 1    0                0          0           0   0   \n",
              "...             ...  ...              ...        ...         ...  ..   \n",
              "4993              9    9                9          9           9   9   \n",
              "4994              9    9                9          9           9   9   \n",
              "4995              9    9                9          9           9   9   \n",
              "4996              9    9                9          9           9   9   \n",
              "4997              9    9                9          9           9   9   \n",
              "\n",
              "      DiningTable  Sofa  Wardrobe  Refrigerator  \n",
              "0               0     0         0             0  \n",
              "1               0     0         0             0  \n",
              "2               0     0         0             0  \n",
              "3               0     0         0             0  \n",
              "4               0     0         0             0  \n",
              "...           ...   ...       ...           ...  \n",
              "4993            9     9         9             9  \n",
              "4994            9     9         9             9  \n",
              "4995            9     9         9             9  \n",
              "4996            9     9         9             9  \n",
              "4997            9     9         9             9  \n",
              "\n",
              "[4998 rows x 40 columns]"
            ],
            "text/html": [
              "\n",
              "  <div id=\"df-7e6fd408-2218-45c4-bed1-affb1c1c9dfb\">\n",
              "    <div class=\"colab-df-container\">\n",
              "      <div>\n",
              "<style scoped>\n",
              "    .dataframe tbody tr th:only-of-type {\n",
              "        vertical-align: middle;\n",
              "    }\n",
              "\n",
              "    .dataframe tbody tr th {\n",
              "        vertical-align: top;\n",
              "    }\n",
              "\n",
              "    .dataframe thead th {\n",
              "        text-align: right;\n",
              "    }\n",
              "</style>\n",
              "<table border=\"1\" class=\"dataframe\">\n",
              "  <thead>\n",
              "    <tr style=\"text-align: right;\">\n",
              "      <th></th>\n",
              "      <th>Price</th>\n",
              "      <th>Area</th>\n",
              "      <th>Location</th>\n",
              "      <th>No. of Bedrooms</th>\n",
              "      <th>Resale</th>\n",
              "      <th>MaintenanceStaff</th>\n",
              "      <th>Gymnasium</th>\n",
              "      <th>SwimmingPool</th>\n",
              "      <th>LandscapedGardens</th>\n",
              "      <th>JoggingTrack</th>\n",
              "      <th>RainWaterHarvesting</th>\n",
              "      <th>IndoorGames</th>\n",
              "      <th>ShoppingMall</th>\n",
              "      <th>Intercom</th>\n",
              "      <th>SportsFacility</th>\n",
              "      <th>ATM</th>\n",
              "      <th>ClubHouse</th>\n",
              "      <th>School</th>\n",
              "      <th>24X7Security</th>\n",
              "      <th>PowerBackup</th>\n",
              "      <th>CarParking</th>\n",
              "      <th>StaffQuarter</th>\n",
              "      <th>Cafeteria</th>\n",
              "      <th>MultipurposeRoom</th>\n",
              "      <th>Hospital</th>\n",
              "      <th>WashingMachine</th>\n",
              "      <th>Gasconnection</th>\n",
              "      <th>AC</th>\n",
              "      <th>Wifi</th>\n",
              "      <th>Children'splayarea</th>\n",
              "      <th>LiftAvailable</th>\n",
              "      <th>BED</th>\n",
              "      <th>VaastuCompliant</th>\n",
              "      <th>Microwave</th>\n",
              "      <th>GolfCourse</th>\n",
              "      <th>TV</th>\n",
              "      <th>DiningTable</th>\n",
              "      <th>Sofa</th>\n",
              "      <th>Wardrobe</th>\n",
              "      <th>Refrigerator</th>\n",
              "    </tr>\n",
              "  </thead>\n",
              "  <tbody>\n",
              "    <tr>\n",
              "      <th>0</th>\n",
              "      <td>10500000</td>\n",
              "      <td>1200</td>\n",
              "      <td>Sector 10 Dwarka</td>\n",
              "      <td>2</td>\n",
              "      <td>1</td>\n",
              "      <td>0</td>\n",
              "      <td>1</td>\n",
              "      <td>0</td>\n",
              "      <td>0</td>\n",
              "      <td>1</td>\n",
              "      <td>0</td>\n",
              "      <td>0</td>\n",
              "      <td>0</td>\n",
              "      <td>1</td>\n",
              "      <td>1</td>\n",
              "      <td>0</td>\n",
              "      <td>0</td>\n",
              "      <td>0</td>\n",
              "      <td>1</td>\n",
              "      <td>1</td>\n",
              "      <td>1</td>\n",
              "      <td>0</td>\n",
              "      <td>0</td>\n",
              "      <td>0</td>\n",
              "      <td>0</td>\n",
              "      <td>0</td>\n",
              "      <td>1</td>\n",
              "      <td>0</td>\n",
              "      <td>0</td>\n",
              "      <td>1</td>\n",
              "      <td>1</td>\n",
              "      <td>0</td>\n",
              "      <td>1</td>\n",
              "      <td>0</td>\n",
              "      <td>0</td>\n",
              "      <td>0</td>\n",
              "      <td>0</td>\n",
              "      <td>0</td>\n",
              "      <td>0</td>\n",
              "      <td>0</td>\n",
              "    </tr>\n",
              "    <tr>\n",
              "      <th>1</th>\n",
              "      <td>6000000</td>\n",
              "      <td>1000</td>\n",
              "      <td>Uttam Nagar</td>\n",
              "      <td>3</td>\n",
              "      <td>0</td>\n",
              "      <td>0</td>\n",
              "      <td>0</td>\n",
              "      <td>0</td>\n",
              "      <td>0</td>\n",
              "      <td>0</td>\n",
              "      <td>0</td>\n",
              "      <td>0</td>\n",
              "      <td>0</td>\n",
              "      <td>1</td>\n",
              "      <td>0</td>\n",
              "      <td>0</td>\n",
              "      <td>0</td>\n",
              "      <td>0</td>\n",
              "      <td>0</td>\n",
              "      <td>1</td>\n",
              "      <td>1</td>\n",
              "      <td>0</td>\n",
              "      <td>0</td>\n",
              "      <td>0</td>\n",
              "      <td>0</td>\n",
              "      <td>0</td>\n",
              "      <td>0</td>\n",
              "      <td>0</td>\n",
              "      <td>0</td>\n",
              "      <td>0</td>\n",
              "      <td>0</td>\n",
              "      <td>0</td>\n",
              "      <td>0</td>\n",
              "      <td>0</td>\n",
              "      <td>0</td>\n",
              "      <td>0</td>\n",
              "      <td>0</td>\n",
              "      <td>0</td>\n",
              "      <td>0</td>\n",
              "      <td>0</td>\n",
              "    </tr>\n",
              "    <tr>\n",
              "      <th>2</th>\n",
              "      <td>15000000</td>\n",
              "      <td>1350</td>\n",
              "      <td>Sarita Vihar</td>\n",
              "      <td>2</td>\n",
              "      <td>1</td>\n",
              "      <td>0</td>\n",
              "      <td>0</td>\n",
              "      <td>0</td>\n",
              "      <td>0</td>\n",
              "      <td>0</td>\n",
              "      <td>0</td>\n",
              "      <td>0</td>\n",
              "      <td>0</td>\n",
              "      <td>0</td>\n",
              "      <td>0</td>\n",
              "      <td>0</td>\n",
              "      <td>0</td>\n",
              "      <td>0</td>\n",
              "      <td>0</td>\n",
              "      <td>0</td>\n",
              "      <td>0</td>\n",
              "      <td>0</td>\n",
              "      <td>0</td>\n",
              "      <td>0</td>\n",
              "      <td>0</td>\n",
              "      <td>0</td>\n",
              "      <td>0</td>\n",
              "      <td>0</td>\n",
              "      <td>0</td>\n",
              "      <td>0</td>\n",
              "      <td>0</td>\n",
              "      <td>0</td>\n",
              "      <td>0</td>\n",
              "      <td>0</td>\n",
              "      <td>0</td>\n",
              "      <td>0</td>\n",
              "      <td>0</td>\n",
              "      <td>0</td>\n",
              "      <td>0</td>\n",
              "      <td>0</td>\n",
              "    </tr>\n",
              "    <tr>\n",
              "      <th>3</th>\n",
              "      <td>2500000</td>\n",
              "      <td>435</td>\n",
              "      <td>Uttam Nagar</td>\n",
              "      <td>2</td>\n",
              "      <td>0</td>\n",
              "      <td>0</td>\n",
              "      <td>0</td>\n",
              "      <td>0</td>\n",
              "      <td>0</td>\n",
              "      <td>0</td>\n",
              "      <td>0</td>\n",
              "      <td>0</td>\n",
              "      <td>0</td>\n",
              "      <td>1</td>\n",
              "      <td>0</td>\n",
              "      <td>0</td>\n",
              "      <td>0</td>\n",
              "      <td>0</td>\n",
              "      <td>0</td>\n",
              "      <td>0</td>\n",
              "      <td>1</td>\n",
              "      <td>0</td>\n",
              "      <td>0</td>\n",
              "      <td>0</td>\n",
              "      <td>0</td>\n",
              "      <td>0</td>\n",
              "      <td>0</td>\n",
              "      <td>0</td>\n",
              "      <td>0</td>\n",
              "      <td>0</td>\n",
              "      <td>0</td>\n",
              "      <td>0</td>\n",
              "      <td>1</td>\n",
              "      <td>0</td>\n",
              "      <td>0</td>\n",
              "      <td>0</td>\n",
              "      <td>0</td>\n",
              "      <td>0</td>\n",
              "      <td>0</td>\n",
              "      <td>0</td>\n",
              "    </tr>\n",
              "    <tr>\n",
              "      <th>4</th>\n",
              "      <td>5800000</td>\n",
              "      <td>900</td>\n",
              "      <td>Dwarka Mor</td>\n",
              "      <td>3</td>\n",
              "      <td>0</td>\n",
              "      <td>0</td>\n",
              "      <td>0</td>\n",
              "      <td>0</td>\n",
              "      <td>0</td>\n",
              "      <td>0</td>\n",
              "      <td>0</td>\n",
              "      <td>0</td>\n",
              "      <td>0</td>\n",
              "      <td>0</td>\n",
              "      <td>0</td>\n",
              "      <td>0</td>\n",
              "      <td>0</td>\n",
              "      <td>0</td>\n",
              "      <td>0</td>\n",
              "      <td>0</td>\n",
              "      <td>1</td>\n",
              "      <td>0</td>\n",
              "      <td>0</td>\n",
              "      <td>0</td>\n",
              "      <td>0</td>\n",
              "      <td>0</td>\n",
              "      <td>0</td>\n",
              "      <td>0</td>\n",
              "      <td>0</td>\n",
              "      <td>0</td>\n",
              "      <td>1</td>\n",
              "      <td>0</td>\n",
              "      <td>0</td>\n",
              "      <td>0</td>\n",
              "      <td>0</td>\n",
              "      <td>0</td>\n",
              "      <td>0</td>\n",
              "      <td>0</td>\n",
              "      <td>0</td>\n",
              "      <td>0</td>\n",
              "    </tr>\n",
              "    <tr>\n",
              "      <th>...</th>\n",
              "      <td>...</td>\n",
              "      <td>...</td>\n",
              "      <td>...</td>\n",
              "      <td>...</td>\n",
              "      <td>...</td>\n",
              "      <td>...</td>\n",
              "      <td>...</td>\n",
              "      <td>...</td>\n",
              "      <td>...</td>\n",
              "      <td>...</td>\n",
              "      <td>...</td>\n",
              "      <td>...</td>\n",
              "      <td>...</td>\n",
              "      <td>...</td>\n",
              "      <td>...</td>\n",
              "      <td>...</td>\n",
              "      <td>...</td>\n",
              "      <td>...</td>\n",
              "      <td>...</td>\n",
              "      <td>...</td>\n",
              "      <td>...</td>\n",
              "      <td>...</td>\n",
              "      <td>...</td>\n",
              "      <td>...</td>\n",
              "      <td>...</td>\n",
              "      <td>...</td>\n",
              "      <td>...</td>\n",
              "      <td>...</td>\n",
              "      <td>...</td>\n",
              "      <td>...</td>\n",
              "      <td>...</td>\n",
              "      <td>...</td>\n",
              "      <td>...</td>\n",
              "      <td>...</td>\n",
              "      <td>...</td>\n",
              "      <td>...</td>\n",
              "      <td>...</td>\n",
              "      <td>...</td>\n",
              "      <td>...</td>\n",
              "      <td>...</td>\n",
              "    </tr>\n",
              "    <tr>\n",
              "      <th>4993</th>\n",
              "      <td>2500000</td>\n",
              "      <td>540</td>\n",
              "      <td>Madhu Vihar</td>\n",
              "      <td>2</td>\n",
              "      <td>1</td>\n",
              "      <td>9</td>\n",
              "      <td>9</td>\n",
              "      <td>9</td>\n",
              "      <td>9</td>\n",
              "      <td>9</td>\n",
              "      <td>9</td>\n",
              "      <td>9</td>\n",
              "      <td>9</td>\n",
              "      <td>9</td>\n",
              "      <td>9</td>\n",
              "      <td>9</td>\n",
              "      <td>9</td>\n",
              "      <td>9</td>\n",
              "      <td>9</td>\n",
              "      <td>9</td>\n",
              "      <td>9</td>\n",
              "      <td>9</td>\n",
              "      <td>9</td>\n",
              "      <td>9</td>\n",
              "      <td>9</td>\n",
              "      <td>9</td>\n",
              "      <td>9</td>\n",
              "      <td>9</td>\n",
              "      <td>9</td>\n",
              "      <td>9</td>\n",
              "      <td>9</td>\n",
              "      <td>9</td>\n",
              "      <td>9</td>\n",
              "      <td>9</td>\n",
              "      <td>9</td>\n",
              "      <td>9</td>\n",
              "      <td>9</td>\n",
              "      <td>9</td>\n",
              "      <td>9</td>\n",
              "      <td>9</td>\n",
              "    </tr>\n",
              "    <tr>\n",
              "      <th>4994</th>\n",
              "      <td>3000000</td>\n",
              "      <td>540</td>\n",
              "      <td>Madhu Vihar</td>\n",
              "      <td>2</td>\n",
              "      <td>1</td>\n",
              "      <td>9</td>\n",
              "      <td>9</td>\n",
              "      <td>9</td>\n",
              "      <td>9</td>\n",
              "      <td>9</td>\n",
              "      <td>9</td>\n",
              "      <td>9</td>\n",
              "      <td>9</td>\n",
              "      <td>9</td>\n",
              "      <td>9</td>\n",
              "      <td>9</td>\n",
              "      <td>9</td>\n",
              "      <td>9</td>\n",
              "      <td>9</td>\n",
              "      <td>9</td>\n",
              "      <td>9</td>\n",
              "      <td>9</td>\n",
              "      <td>9</td>\n",
              "      <td>9</td>\n",
              "      <td>9</td>\n",
              "      <td>9</td>\n",
              "      <td>9</td>\n",
              "      <td>9</td>\n",
              "      <td>9</td>\n",
              "      <td>9</td>\n",
              "      <td>9</td>\n",
              "      <td>9</td>\n",
              "      <td>9</td>\n",
              "      <td>9</td>\n",
              "      <td>9</td>\n",
              "      <td>9</td>\n",
              "      <td>9</td>\n",
              "      <td>9</td>\n",
              "      <td>9</td>\n",
              "      <td>9</td>\n",
              "    </tr>\n",
              "    <tr>\n",
              "      <th>4995</th>\n",
              "      <td>2600000</td>\n",
              "      <td>415</td>\n",
              "      <td>Sector 26 Dwarka</td>\n",
              "      <td>1</td>\n",
              "      <td>1</td>\n",
              "      <td>9</td>\n",
              "      <td>9</td>\n",
              "      <td>9</td>\n",
              "      <td>9</td>\n",
              "      <td>9</td>\n",
              "      <td>9</td>\n",
              "      <td>9</td>\n",
              "      <td>9</td>\n",
              "      <td>9</td>\n",
              "      <td>9</td>\n",
              "      <td>9</td>\n",
              "      <td>9</td>\n",
              "      <td>9</td>\n",
              "      <td>9</td>\n",
              "      <td>9</td>\n",
              "      <td>9</td>\n",
              "      <td>9</td>\n",
              "      <td>9</td>\n",
              "      <td>9</td>\n",
              "      <td>9</td>\n",
              "      <td>9</td>\n",
              "      <td>9</td>\n",
              "      <td>9</td>\n",
              "      <td>9</td>\n",
              "      <td>9</td>\n",
              "      <td>9</td>\n",
              "      <td>9</td>\n",
              "      <td>9</td>\n",
              "      <td>9</td>\n",
              "      <td>9</td>\n",
              "      <td>9</td>\n",
              "      <td>9</td>\n",
              "      <td>9</td>\n",
              "      <td>9</td>\n",
              "      <td>9</td>\n",
              "    </tr>\n",
              "    <tr>\n",
              "      <th>4996</th>\n",
              "      <td>5500000</td>\n",
              "      <td>415</td>\n",
              "      <td>Sector 26 Dwarka</td>\n",
              "      <td>1</td>\n",
              "      <td>1</td>\n",
              "      <td>9</td>\n",
              "      <td>9</td>\n",
              "      <td>9</td>\n",
              "      <td>9</td>\n",
              "      <td>9</td>\n",
              "      <td>9</td>\n",
              "      <td>9</td>\n",
              "      <td>9</td>\n",
              "      <td>9</td>\n",
              "      <td>9</td>\n",
              "      <td>9</td>\n",
              "      <td>9</td>\n",
              "      <td>9</td>\n",
              "      <td>9</td>\n",
              "      <td>9</td>\n",
              "      <td>9</td>\n",
              "      <td>9</td>\n",
              "      <td>9</td>\n",
              "      <td>9</td>\n",
              "      <td>9</td>\n",
              "      <td>9</td>\n",
              "      <td>9</td>\n",
              "      <td>9</td>\n",
              "      <td>9</td>\n",
              "      <td>9</td>\n",
              "      <td>9</td>\n",
              "      <td>9</td>\n",
              "      <td>9</td>\n",
              "      <td>9</td>\n",
              "      <td>9</td>\n",
              "      <td>9</td>\n",
              "      <td>9</td>\n",
              "      <td>9</td>\n",
              "      <td>9</td>\n",
              "      <td>9</td>\n",
              "    </tr>\n",
              "    <tr>\n",
              "      <th>4997</th>\n",
              "      <td>4200000</td>\n",
              "      <td>900</td>\n",
              "      <td>Uttam Nagar</td>\n",
              "      <td>3</td>\n",
              "      <td>1</td>\n",
              "      <td>9</td>\n",
              "      <td>9</td>\n",
              "      <td>9</td>\n",
              "      <td>9</td>\n",
              "      <td>9</td>\n",
              "      <td>9</td>\n",
              "      <td>9</td>\n",
              "      <td>9</td>\n",
              "      <td>9</td>\n",
              "      <td>9</td>\n",
              "      <td>9</td>\n",
              "      <td>9</td>\n",
              "      <td>9</td>\n",
              "      <td>9</td>\n",
              "      <td>9</td>\n",
              "      <td>9</td>\n",
              "      <td>9</td>\n",
              "      <td>9</td>\n",
              "      <td>9</td>\n",
              "      <td>9</td>\n",
              "      <td>9</td>\n",
              "      <td>9</td>\n",
              "      <td>9</td>\n",
              "      <td>9</td>\n",
              "      <td>9</td>\n",
              "      <td>9</td>\n",
              "      <td>9</td>\n",
              "      <td>9</td>\n",
              "      <td>9</td>\n",
              "      <td>9</td>\n",
              "      <td>9</td>\n",
              "      <td>9</td>\n",
              "      <td>9</td>\n",
              "      <td>9</td>\n",
              "      <td>9</td>\n",
              "    </tr>\n",
              "  </tbody>\n",
              "</table>\n",
              "<p>4998 rows × 40 columns</p>\n",
              "</div>\n",
              "      <button class=\"colab-df-convert\" onclick=\"convertToInteractive('df-7e6fd408-2218-45c4-bed1-affb1c1c9dfb')\"\n",
              "              title=\"Convert this dataframe to an interactive table.\"\n",
              "              style=\"display:none;\">\n",
              "        \n",
              "  <svg xmlns=\"http://www.w3.org/2000/svg\" height=\"24px\"viewBox=\"0 0 24 24\"\n",
              "       width=\"24px\">\n",
              "    <path d=\"M0 0h24v24H0V0z\" fill=\"none\"/>\n",
              "    <path d=\"M18.56 5.44l.94 2.06.94-2.06 2.06-.94-2.06-.94-.94-2.06-.94 2.06-2.06.94zm-11 1L8.5 8.5l.94-2.06 2.06-.94-2.06-.94L8.5 2.5l-.94 2.06-2.06.94zm10 10l.94 2.06.94-2.06 2.06-.94-2.06-.94-.94-2.06-.94 2.06-2.06.94z\"/><path d=\"M17.41 7.96l-1.37-1.37c-.4-.4-.92-.59-1.43-.59-.52 0-1.04.2-1.43.59L10.3 9.45l-7.72 7.72c-.78.78-.78 2.05 0 2.83L4 21.41c.39.39.9.59 1.41.59.51 0 1.02-.2 1.41-.59l7.78-7.78 2.81-2.81c.8-.78.8-2.07 0-2.86zM5.41 20L4 18.59l7.72-7.72 1.47 1.35L5.41 20z\"/>\n",
              "  </svg>\n",
              "      </button>\n",
              "      \n",
              "  <style>\n",
              "    .colab-df-container {\n",
              "      display:flex;\n",
              "      flex-wrap:wrap;\n",
              "      gap: 12px;\n",
              "    }\n",
              "\n",
              "    .colab-df-convert {\n",
              "      background-color: #E8F0FE;\n",
              "      border: none;\n",
              "      border-radius: 50%;\n",
              "      cursor: pointer;\n",
              "      display: none;\n",
              "      fill: #1967D2;\n",
              "      height: 32px;\n",
              "      padding: 0 0 0 0;\n",
              "      width: 32px;\n",
              "    }\n",
              "\n",
              "    .colab-df-convert:hover {\n",
              "      background-color: #E2EBFA;\n",
              "      box-shadow: 0px 1px 2px rgba(60, 64, 67, 0.3), 0px 1px 3px 1px rgba(60, 64, 67, 0.15);\n",
              "      fill: #174EA6;\n",
              "    }\n",
              "\n",
              "    [theme=dark] .colab-df-convert {\n",
              "      background-color: #3B4455;\n",
              "      fill: #D2E3FC;\n",
              "    }\n",
              "\n",
              "    [theme=dark] .colab-df-convert:hover {\n",
              "      background-color: #434B5C;\n",
              "      box-shadow: 0px 1px 3px 1px rgba(0, 0, 0, 0.15);\n",
              "      filter: drop-shadow(0px 1px 2px rgba(0, 0, 0, 0.3));\n",
              "      fill: #FFFFFF;\n",
              "    }\n",
              "  </style>\n",
              "\n",
              "      <script>\n",
              "        const buttonEl =\n",
              "          document.querySelector('#df-7e6fd408-2218-45c4-bed1-affb1c1c9dfb button.colab-df-convert');\n",
              "        buttonEl.style.display =\n",
              "          google.colab.kernel.accessAllowed ? 'block' : 'none';\n",
              "\n",
              "        async function convertToInteractive(key) {\n",
              "          const element = document.querySelector('#df-7e6fd408-2218-45c4-bed1-affb1c1c9dfb');\n",
              "          const dataTable =\n",
              "            await google.colab.kernel.invokeFunction('convertToInteractive',\n",
              "                                                     [key], {});\n",
              "          if (!dataTable) return;\n",
              "\n",
              "          const docLinkHtml = 'Like what you see? Visit the ' +\n",
              "            '<a target=\"_blank\" href=https://colab.research.google.com/notebooks/data_table.ipynb>data table notebook</a>'\n",
              "            + ' to learn more about interactive tables.';\n",
              "          element.innerHTML = '';\n",
              "          dataTable['output_type'] = 'display_data';\n",
              "          await google.colab.output.renderOutput(dataTable, element);\n",
              "          const docLink = document.createElement('div');\n",
              "          docLink.innerHTML = docLinkHtml;\n",
              "          element.appendChild(docLink);\n",
              "        }\n",
              "      </script>\n",
              "    </div>\n",
              "  </div>\n",
              "  "
            ]
          },
          "metadata": {},
          "execution_count": 7
        }
      ],
      "source": [
        "#raw_df = pd.read_csv('datasets/Delhi.csv')\n",
        "raw_df = pd.read_csv('../../../datasets/housing/Delhi.csv')\n",
        "raw_df"
      ]
    },
    {
      "cell_type": "code",
      "execution_count": null,
      "metadata": {
        "id": "oE0eAVlPYOCc"
      },
      "outputs": [],
      "source": [
        "raw_df.info()"
      ]
    },
    {
      "cell_type": "code",
      "execution_count": null,
      "metadata": {
        "id": "BqUZd6uJYOCd",
        "outputId": "b4d44e33-bc8a-4257-ad52-1f5421acd412",
        "colab": {
          "base_uri": "https://localhost:8080/"
        }
      },
      "outputs": [
        {
          "output_type": "execute_result",
          "data": {
            "text/plain": [
              "(4998, 40)"
            ]
          },
          "metadata": {},
          "execution_count": 22
        }
      ],
      "source": [
        "raw_df.shape"
      ]
    },
    {
      "cell_type": "code",
      "source": [
        "raw_df.columns"
      ],
      "metadata": {
        "id": "PvkcREQ2Afxi"
      },
      "execution_count": null,
      "outputs": []
    },
    {
      "cell_type": "code",
      "execution_count": null,
      "metadata": {
        "id": "bWGMjToxYOCd",
        "outputId": "79070bc7-6676-4d39-bcc0-ad5ead46b375",
        "colab": {
          "base_uri": "https://localhost:8080/"
        }
      },
      "outputs": [
        {
          "output_type": "execute_result",
          "data": {
            "text/plain": [
              "pandas.core.frame.DataFrame"
            ]
          },
          "metadata": {},
          "execution_count": 33
        }
      ],
      "source": [
        "type(raw_df)"
      ]
    },
    {
      "cell_type": "code",
      "execution_count": null,
      "metadata": {
        "id": "0ZjJGDcJYOCe"
      },
      "outputs": [],
      "source": [
        "# Show First Five rows\n",
        "raw_df.head()"
      ]
    },
    {
      "cell_type": "markdown",
      "metadata": {
        "id": "FtcsXzuGYOCe"
      },
      "source": [
        "### Fetch ith row\n",
        "`df.loc[i]`"
      ]
    },
    {
      "cell_type": "code",
      "execution_count": null,
      "metadata": {
        "id": "-Q1TjMB0YOCf"
      },
      "outputs": [],
      "source": [
        "raw_df.loc[10]"
      ]
    },
    {
      "cell_type": "code",
      "execution_count": null,
      "metadata": {
        "id": "Hm5CHlrvYOCf"
      },
      "outputs": [],
      "source": [
        "raw_df[raw_df['No. of Bedrooms']>6]"
      ]
    },
    {
      "cell_type": "code",
      "source": [
        "print(raw_df['No. of Bedrooms']>6)"
      ],
      "metadata": {
        "id": "_W7KK0wUAVSG"
      },
      "execution_count": null,
      "outputs": []
    },
    {
      "cell_type": "markdown",
      "source": [
        "##Columns of your choice"
      ],
      "metadata": {
        "id": "wg6F4dHkAuis"
      }
    },
    {
      "cell_type": "code",
      "execution_count": null,
      "metadata": {
        "id": "XSPFkWP2YOCh"
      },
      "outputs": [],
      "source": [
        "features=['Area', 'Location', 'No. of Bedrooms', 'Resale', 'Price']\n",
        "raw_df=raw_df[features]\n",
        "raw_df"
      ]
    },
    {
      "cell_type": "code",
      "execution_count": null,
      "metadata": {
        "id": "vN4uShIZYOCh"
      },
      "outputs": [],
      "source": [
        "type(raw_df.Area)"
      ]
    },
    {
      "cell_type": "markdown",
      "source": [
        "Series - One-dimensional ndarray with axis labels"
      ],
      "metadata": {
        "id": "4cCZsYVUBEio"
      }
    },
    {
      "cell_type": "code",
      "execution_count": null,
      "metadata": {
        "id": "xUOTgpZmYOCh",
        "outputId": "34b483fa-a5a8-4d61-cc58-7d730b90e3f6",
        "colab": {
          "base_uri": "https://localhost:8080/"
        }
      },
      "outputs": [
        {
          "output_type": "execute_result",
          "data": {
            "text/plain": [
              "0       True\n",
              "1       True\n",
              "2       True\n",
              "3       True\n",
              "4       True\n",
              "        ... \n",
              "4993    True\n",
              "4994    True\n",
              "4995    True\n",
              "4996    True\n",
              "4997    True\n",
              "Name: Area, Length: 4998, dtype: bool"
            ]
          },
          "metadata": {},
          "execution_count": 38
        }
      ],
      "source": [
        "raw_df.Area>100"
      ]
    },
    {
      "cell_type": "code",
      "source": [
        "raw_df[raw_df[\"Area\"]>5000]"
      ],
      "metadata": {
        "id": "qyECR0pTBrj8"
      },
      "execution_count": null,
      "outputs": []
    },
    {
      "cell_type": "code",
      "execution_count": null,
      "metadata": {
        "id": "RhUEFooEYOCi"
      },
      "outputs": [],
      "source": [
        "raw_df[raw_df.Area>5000]"
      ]
    },
    {
      "cell_type": "markdown",
      "metadata": {
        "id": "LCnpdlLDYOCi"
      },
      "source": [
        "`raw_df['Area']` returns Series Object.   \n",
        "Series can only contain single list with index, whereas dataframe can be made of more than one series\n",
        "\n",
        "`raw_df[['Area', 'Location']]` returns DataFrame Object\n",
        "DataFrame is a 2-dimensional labeled data structure with columns of potentially different types."
      ]
    },
    {
      "cell_type": "markdown",
      "metadata": {
        "id": "KsUay8BYYOCi"
      },
      "source": [
        "**Check for NULL Values**"
      ]
    },
    {
      "cell_type": "code",
      "source": [
        "raw_df.isna()"
      ],
      "metadata": {
        "id": "vxfOmUUsCof7"
      },
      "execution_count": null,
      "outputs": []
    },
    {
      "cell_type": "code",
      "execution_count": null,
      "metadata": {
        "id": "pGxYROK7YOCi"
      },
      "outputs": [],
      "source": [
        "raw_df.isna().sum()"
      ]
    },
    {
      "cell_type": "code",
      "execution_count": null,
      "metadata": {
        "id": "eYS46-npYOCi"
      },
      "outputs": [],
      "source": [
        "raw_df.dropna()"
      ]
    },
    {
      "cell_type": "code",
      "execution_count": null,
      "metadata": {
        "id": "arNyGdGJYOCj"
      },
      "outputs": [],
      "source": [
        "raw_df.dtypes"
      ]
    },
    {
      "cell_type": "markdown",
      "metadata": {
        "id": "9gXQIZfjYOCj"
      },
      "source": [
        "### df.describe()\n",
        "\n",
        "- Generate descriptive statistics such as the central tendency, dispersion and shape of a dataset’s distribution, excluding NaN values.  \n",
        "- Analyzes both numeric and object series, as well as DataFrame column sets of mixed data types.  \n",
        "- The output will vary depending on what is provided. Refer to the notes below for more detail.  \n",
        " \n",
        "`DataFrame.describe(percentiles=None, include=None, exclude=None, datetime_is_numeric=False)`   \n",
        "\n",
        "For more details <a href=\"https://pandas.pydata.org/docs/reference/api/pandas.DataFrame.describe.html\" target=\"_blank\">Click here..</a>"
      ]
    },
    {
      "cell_type": "code",
      "execution_count": null,
      "metadata": {
        "id": "qIce8AWpYOCj",
        "outputId": "fe72caf7-418f-43d8-adb0-077763da2fb7",
        "colab": {
          "base_uri": "https://localhost:8080/",
          "height": 382
        }
      },
      "outputs": [
        {
          "output_type": "execute_result",
          "data": {
            "text/plain": [
              "              Price          Area  No. of Bedrooms      Resale  \\\n",
              "count  4.998000e+03   4998.000000      4998.000000  4998.00000   \n",
              "mean   1.588638e+07   1277.343737         2.657863     0.80012   \n",
              "std    4.612894e+07    915.217800         0.820605     0.39995   \n",
              "min    2.000000e+06    200.000000         1.000000     0.00000   \n",
              "25%    2.900000e+06    800.000000         2.000000     1.00000   \n",
              "50%    5.500000e+06   1000.000000         3.000000     1.00000   \n",
              "75%    1.580000e+07   1650.000000         3.000000     1.00000   \n",
              "max    8.546000e+08  16000.000000         8.000000     1.00000   \n",
              "\n",
              "       MaintenanceStaff    Gymnasium  SwimmingPool  LandscapedGardens  \\\n",
              "count       4998.000000  4998.000000   4998.000000        4998.000000   \n",
              "mean           5.423770     5.472589      5.415966           5.435574   \n",
              "std            4.378355     4.322819      4.387116           4.365041   \n",
              "min            0.000000     0.000000      0.000000           0.000000   \n",
              "25%            0.000000     0.000000      0.000000           0.000000   \n",
              "50%            9.000000     9.000000      9.000000           9.000000   \n",
              "75%            9.000000     9.000000      9.000000           9.000000   \n",
              "max            9.000000     9.000000      9.000000           9.000000   \n",
              "\n",
              "       JoggingTrack  RainWaterHarvesting  IndoorGames  ShoppingMall  \\\n",
              "count   4998.000000          4998.000000  4998.000000   4998.000000   \n",
              "mean       5.412765             5.437975     5.398359      5.398960   \n",
              "std        4.390702             4.362324     4.406770      4.406103   \n",
              "min        0.000000             0.000000     0.000000      0.000000   \n",
              "25%        0.000000             0.000000     0.000000      0.000000   \n",
              "50%        9.000000             9.000000     9.000000      9.000000   \n",
              "75%        9.000000             9.000000     9.000000      9.000000   \n",
              "max        9.000000             9.000000     9.000000      9.000000   \n",
              "\n",
              "          Intercom  SportsFacility         ATM    ClubHouse       School  \\\n",
              "count  4998.000000     4998.000000  4998.00000  4998.000000  4998.000000   \n",
              "mean      5.570228        5.487795     5.39916     5.460184     5.399560   \n",
              "std       4.207849        4.305261     4.40588     4.337050     4.405435   \n",
              "min       0.000000        0.000000     0.00000     0.000000     0.000000   \n",
              "25%       1.000000        0.000000     0.00000     0.000000     0.000000   \n",
              "50%       9.000000        9.000000     9.00000     9.000000     9.000000   \n",
              "75%       9.000000        9.000000     9.00000     9.000000     9.000000   \n",
              "max       9.000000        9.000000     9.00000     9.000000     9.000000   \n",
              "\n",
              "       24X7Security  PowerBackup   CarParking  StaffQuarter    Cafeteria  \\\n",
              "count   4998.000000  4998.000000  4998.000000   4998.000000  4998.000000   \n",
              "mean       5.423770     5.530812     5.490996      5.407163     5.399360   \n",
              "std        4.378355     4.254905     4.301549      4.396963     4.405658   \n",
              "min        0.000000     0.000000     0.000000      0.000000     0.000000   \n",
              "25%        0.000000     0.000000     0.000000      0.000000     0.000000   \n",
              "50%        9.000000     9.000000     9.000000      9.000000     9.000000   \n",
              "75%        9.000000     9.000000     9.000000      9.000000     9.000000   \n",
              "max        9.000000     9.000000     9.000000      9.000000     9.000000   \n",
              "\n",
              "       MultipurposeRoom    Hospital  WashingMachine  Gasconnection  \\\n",
              "count       4998.000000  4998.00000     4998.000000    4998.000000   \n",
              "mean           5.402961     5.39916        5.408363       5.562225   \n",
              "std            4.401649     4.40588        4.395623       4.217476   \n",
              "min            0.000000     0.00000        0.000000       0.000000   \n",
              "25%            0.000000     0.00000        0.000000       1.000000   \n",
              "50%            9.000000     9.00000        9.000000       9.000000   \n",
              "75%            9.000000     9.00000        9.000000       9.000000   \n",
              "max            9.000000     9.00000        9.000000       9.000000   \n",
              "\n",
              "                AC         Wifi  Children'splayarea  LiftAvailable  \\\n",
              "count  4998.000000  4998.000000         4998.000000    4998.000000   \n",
              "mean      5.426971     5.394958            5.534014       5.655662   \n",
              "std       4.374752     4.410549            4.251116       4.102704   \n",
              "min       0.000000     0.000000            0.000000       0.000000   \n",
              "25%       0.000000     0.000000            0.000000       1.000000   \n",
              "50%       9.000000     9.000000            9.000000       9.000000   \n",
              "75%       9.000000     9.000000            9.000000       9.000000   \n",
              "max       9.000000     9.000000            9.000000       9.000000   \n",
              "\n",
              "               BED  VaastuCompliant    Microwave   GolfCourse           TV  \\\n",
              "count  4998.000000      4998.000000  4998.000000  4998.000000  4998.000000   \n",
              "mean      5.416367         5.456783     5.413165     5.394958     5.415566   \n",
              "std       4.386668         4.340938     4.390254     4.410549     4.387565   \n",
              "min       0.000000         0.000000     0.000000     0.000000     0.000000   \n",
              "25%       0.000000         0.000000     0.000000     0.000000     0.000000   \n",
              "50%       9.000000         9.000000     9.000000     9.000000     9.000000   \n",
              "75%       9.000000         9.000000     9.000000     9.000000     9.000000   \n",
              "max       9.000000         9.000000     9.000000     9.000000     9.000000   \n",
              "\n",
              "       DiningTable         Sofa     Wardrobe  Refrigerator  \n",
              "count  4998.000000  4998.000000  4998.000000   4998.000000  \n",
              "mean      5.408764     5.412965     5.394958      5.411565  \n",
              "std       4.395176     4.390478     4.410549      4.392045  \n",
              "min       0.000000     0.000000     0.000000      0.000000  \n",
              "25%       0.000000     0.000000     0.000000      0.000000  \n",
              "50%       9.000000     9.000000     9.000000      9.000000  \n",
              "75%       9.000000     9.000000     9.000000      9.000000  \n",
              "max       9.000000     9.000000     9.000000      9.000000  "
            ],
            "text/html": [
              "\n",
              "  <div id=\"df-7829b566-1ee9-4a8b-a345-4c2bc7e15302\">\n",
              "    <div class=\"colab-df-container\">\n",
              "      <div>\n",
              "<style scoped>\n",
              "    .dataframe tbody tr th:only-of-type {\n",
              "        vertical-align: middle;\n",
              "    }\n",
              "\n",
              "    .dataframe tbody tr th {\n",
              "        vertical-align: top;\n",
              "    }\n",
              "\n",
              "    .dataframe thead th {\n",
              "        text-align: right;\n",
              "    }\n",
              "</style>\n",
              "<table border=\"1\" class=\"dataframe\">\n",
              "  <thead>\n",
              "    <tr style=\"text-align: right;\">\n",
              "      <th></th>\n",
              "      <th>Price</th>\n",
              "      <th>Area</th>\n",
              "      <th>No. of Bedrooms</th>\n",
              "      <th>Resale</th>\n",
              "      <th>MaintenanceStaff</th>\n",
              "      <th>Gymnasium</th>\n",
              "      <th>SwimmingPool</th>\n",
              "      <th>LandscapedGardens</th>\n",
              "      <th>JoggingTrack</th>\n",
              "      <th>RainWaterHarvesting</th>\n",
              "      <th>IndoorGames</th>\n",
              "      <th>ShoppingMall</th>\n",
              "      <th>Intercom</th>\n",
              "      <th>SportsFacility</th>\n",
              "      <th>ATM</th>\n",
              "      <th>ClubHouse</th>\n",
              "      <th>School</th>\n",
              "      <th>24X7Security</th>\n",
              "      <th>PowerBackup</th>\n",
              "      <th>CarParking</th>\n",
              "      <th>StaffQuarter</th>\n",
              "      <th>Cafeteria</th>\n",
              "      <th>MultipurposeRoom</th>\n",
              "      <th>Hospital</th>\n",
              "      <th>WashingMachine</th>\n",
              "      <th>Gasconnection</th>\n",
              "      <th>AC</th>\n",
              "      <th>Wifi</th>\n",
              "      <th>Children'splayarea</th>\n",
              "      <th>LiftAvailable</th>\n",
              "      <th>BED</th>\n",
              "      <th>VaastuCompliant</th>\n",
              "      <th>Microwave</th>\n",
              "      <th>GolfCourse</th>\n",
              "      <th>TV</th>\n",
              "      <th>DiningTable</th>\n",
              "      <th>Sofa</th>\n",
              "      <th>Wardrobe</th>\n",
              "      <th>Refrigerator</th>\n",
              "    </tr>\n",
              "  </thead>\n",
              "  <tbody>\n",
              "    <tr>\n",
              "      <th>count</th>\n",
              "      <td>4.998000e+03</td>\n",
              "      <td>4998.000000</td>\n",
              "      <td>4998.000000</td>\n",
              "      <td>4998.00000</td>\n",
              "      <td>4998.000000</td>\n",
              "      <td>4998.000000</td>\n",
              "      <td>4998.000000</td>\n",
              "      <td>4998.000000</td>\n",
              "      <td>4998.000000</td>\n",
              "      <td>4998.000000</td>\n",
              "      <td>4998.000000</td>\n",
              "      <td>4998.000000</td>\n",
              "      <td>4998.000000</td>\n",
              "      <td>4998.000000</td>\n",
              "      <td>4998.00000</td>\n",
              "      <td>4998.000000</td>\n",
              "      <td>4998.000000</td>\n",
              "      <td>4998.000000</td>\n",
              "      <td>4998.000000</td>\n",
              "      <td>4998.000000</td>\n",
              "      <td>4998.000000</td>\n",
              "      <td>4998.000000</td>\n",
              "      <td>4998.000000</td>\n",
              "      <td>4998.00000</td>\n",
              "      <td>4998.000000</td>\n",
              "      <td>4998.000000</td>\n",
              "      <td>4998.000000</td>\n",
              "      <td>4998.000000</td>\n",
              "      <td>4998.000000</td>\n",
              "      <td>4998.000000</td>\n",
              "      <td>4998.000000</td>\n",
              "      <td>4998.000000</td>\n",
              "      <td>4998.000000</td>\n",
              "      <td>4998.000000</td>\n",
              "      <td>4998.000000</td>\n",
              "      <td>4998.000000</td>\n",
              "      <td>4998.000000</td>\n",
              "      <td>4998.000000</td>\n",
              "      <td>4998.000000</td>\n",
              "    </tr>\n",
              "    <tr>\n",
              "      <th>mean</th>\n",
              "      <td>1.588638e+07</td>\n",
              "      <td>1277.343737</td>\n",
              "      <td>2.657863</td>\n",
              "      <td>0.80012</td>\n",
              "      <td>5.423770</td>\n",
              "      <td>5.472589</td>\n",
              "      <td>5.415966</td>\n",
              "      <td>5.435574</td>\n",
              "      <td>5.412765</td>\n",
              "      <td>5.437975</td>\n",
              "      <td>5.398359</td>\n",
              "      <td>5.398960</td>\n",
              "      <td>5.570228</td>\n",
              "      <td>5.487795</td>\n",
              "      <td>5.39916</td>\n",
              "      <td>5.460184</td>\n",
              "      <td>5.399560</td>\n",
              "      <td>5.423770</td>\n",
              "      <td>5.530812</td>\n",
              "      <td>5.490996</td>\n",
              "      <td>5.407163</td>\n",
              "      <td>5.399360</td>\n",
              "      <td>5.402961</td>\n",
              "      <td>5.39916</td>\n",
              "      <td>5.408363</td>\n",
              "      <td>5.562225</td>\n",
              "      <td>5.426971</td>\n",
              "      <td>5.394958</td>\n",
              "      <td>5.534014</td>\n",
              "      <td>5.655662</td>\n",
              "      <td>5.416367</td>\n",
              "      <td>5.456783</td>\n",
              "      <td>5.413165</td>\n",
              "      <td>5.394958</td>\n",
              "      <td>5.415566</td>\n",
              "      <td>5.408764</td>\n",
              "      <td>5.412965</td>\n",
              "      <td>5.394958</td>\n",
              "      <td>5.411565</td>\n",
              "    </tr>\n",
              "    <tr>\n",
              "      <th>std</th>\n",
              "      <td>4.612894e+07</td>\n",
              "      <td>915.217800</td>\n",
              "      <td>0.820605</td>\n",
              "      <td>0.39995</td>\n",
              "      <td>4.378355</td>\n",
              "      <td>4.322819</td>\n",
              "      <td>4.387116</td>\n",
              "      <td>4.365041</td>\n",
              "      <td>4.390702</td>\n",
              "      <td>4.362324</td>\n",
              "      <td>4.406770</td>\n",
              "      <td>4.406103</td>\n",
              "      <td>4.207849</td>\n",
              "      <td>4.305261</td>\n",
              "      <td>4.40588</td>\n",
              "      <td>4.337050</td>\n",
              "      <td>4.405435</td>\n",
              "      <td>4.378355</td>\n",
              "      <td>4.254905</td>\n",
              "      <td>4.301549</td>\n",
              "      <td>4.396963</td>\n",
              "      <td>4.405658</td>\n",
              "      <td>4.401649</td>\n",
              "      <td>4.40588</td>\n",
              "      <td>4.395623</td>\n",
              "      <td>4.217476</td>\n",
              "      <td>4.374752</td>\n",
              "      <td>4.410549</td>\n",
              "      <td>4.251116</td>\n",
              "      <td>4.102704</td>\n",
              "      <td>4.386668</td>\n",
              "      <td>4.340938</td>\n",
              "      <td>4.390254</td>\n",
              "      <td>4.410549</td>\n",
              "      <td>4.387565</td>\n",
              "      <td>4.395176</td>\n",
              "      <td>4.390478</td>\n",
              "      <td>4.410549</td>\n",
              "      <td>4.392045</td>\n",
              "    </tr>\n",
              "    <tr>\n",
              "      <th>min</th>\n",
              "      <td>2.000000e+06</td>\n",
              "      <td>200.000000</td>\n",
              "      <td>1.000000</td>\n",
              "      <td>0.00000</td>\n",
              "      <td>0.000000</td>\n",
              "      <td>0.000000</td>\n",
              "      <td>0.000000</td>\n",
              "      <td>0.000000</td>\n",
              "      <td>0.000000</td>\n",
              "      <td>0.000000</td>\n",
              "      <td>0.000000</td>\n",
              "      <td>0.000000</td>\n",
              "      <td>0.000000</td>\n",
              "      <td>0.000000</td>\n",
              "      <td>0.00000</td>\n",
              "      <td>0.000000</td>\n",
              "      <td>0.000000</td>\n",
              "      <td>0.000000</td>\n",
              "      <td>0.000000</td>\n",
              "      <td>0.000000</td>\n",
              "      <td>0.000000</td>\n",
              "      <td>0.000000</td>\n",
              "      <td>0.000000</td>\n",
              "      <td>0.00000</td>\n",
              "      <td>0.000000</td>\n",
              "      <td>0.000000</td>\n",
              "      <td>0.000000</td>\n",
              "      <td>0.000000</td>\n",
              "      <td>0.000000</td>\n",
              "      <td>0.000000</td>\n",
              "      <td>0.000000</td>\n",
              "      <td>0.000000</td>\n",
              "      <td>0.000000</td>\n",
              "      <td>0.000000</td>\n",
              "      <td>0.000000</td>\n",
              "      <td>0.000000</td>\n",
              "      <td>0.000000</td>\n",
              "      <td>0.000000</td>\n",
              "      <td>0.000000</td>\n",
              "    </tr>\n",
              "    <tr>\n",
              "      <th>25%</th>\n",
              "      <td>2.900000e+06</td>\n",
              "      <td>800.000000</td>\n",
              "      <td>2.000000</td>\n",
              "      <td>1.00000</td>\n",
              "      <td>0.000000</td>\n",
              "      <td>0.000000</td>\n",
              "      <td>0.000000</td>\n",
              "      <td>0.000000</td>\n",
              "      <td>0.000000</td>\n",
              "      <td>0.000000</td>\n",
              "      <td>0.000000</td>\n",
              "      <td>0.000000</td>\n",
              "      <td>1.000000</td>\n",
              "      <td>0.000000</td>\n",
              "      <td>0.00000</td>\n",
              "      <td>0.000000</td>\n",
              "      <td>0.000000</td>\n",
              "      <td>0.000000</td>\n",
              "      <td>0.000000</td>\n",
              "      <td>0.000000</td>\n",
              "      <td>0.000000</td>\n",
              "      <td>0.000000</td>\n",
              "      <td>0.000000</td>\n",
              "      <td>0.00000</td>\n",
              "      <td>0.000000</td>\n",
              "      <td>1.000000</td>\n",
              "      <td>0.000000</td>\n",
              "      <td>0.000000</td>\n",
              "      <td>0.000000</td>\n",
              "      <td>1.000000</td>\n",
              "      <td>0.000000</td>\n",
              "      <td>0.000000</td>\n",
              "      <td>0.000000</td>\n",
              "      <td>0.000000</td>\n",
              "      <td>0.000000</td>\n",
              "      <td>0.000000</td>\n",
              "      <td>0.000000</td>\n",
              "      <td>0.000000</td>\n",
              "      <td>0.000000</td>\n",
              "    </tr>\n",
              "    <tr>\n",
              "      <th>50%</th>\n",
              "      <td>5.500000e+06</td>\n",
              "      <td>1000.000000</td>\n",
              "      <td>3.000000</td>\n",
              "      <td>1.00000</td>\n",
              "      <td>9.000000</td>\n",
              "      <td>9.000000</td>\n",
              "      <td>9.000000</td>\n",
              "      <td>9.000000</td>\n",
              "      <td>9.000000</td>\n",
              "      <td>9.000000</td>\n",
              "      <td>9.000000</td>\n",
              "      <td>9.000000</td>\n",
              "      <td>9.000000</td>\n",
              "      <td>9.000000</td>\n",
              "      <td>9.00000</td>\n",
              "      <td>9.000000</td>\n",
              "      <td>9.000000</td>\n",
              "      <td>9.000000</td>\n",
              "      <td>9.000000</td>\n",
              "      <td>9.000000</td>\n",
              "      <td>9.000000</td>\n",
              "      <td>9.000000</td>\n",
              "      <td>9.000000</td>\n",
              "      <td>9.00000</td>\n",
              "      <td>9.000000</td>\n",
              "      <td>9.000000</td>\n",
              "      <td>9.000000</td>\n",
              "      <td>9.000000</td>\n",
              "      <td>9.000000</td>\n",
              "      <td>9.000000</td>\n",
              "      <td>9.000000</td>\n",
              "      <td>9.000000</td>\n",
              "      <td>9.000000</td>\n",
              "      <td>9.000000</td>\n",
              "      <td>9.000000</td>\n",
              "      <td>9.000000</td>\n",
              "      <td>9.000000</td>\n",
              "      <td>9.000000</td>\n",
              "      <td>9.000000</td>\n",
              "    </tr>\n",
              "    <tr>\n",
              "      <th>75%</th>\n",
              "      <td>1.580000e+07</td>\n",
              "      <td>1650.000000</td>\n",
              "      <td>3.000000</td>\n",
              "      <td>1.00000</td>\n",
              "      <td>9.000000</td>\n",
              "      <td>9.000000</td>\n",
              "      <td>9.000000</td>\n",
              "      <td>9.000000</td>\n",
              "      <td>9.000000</td>\n",
              "      <td>9.000000</td>\n",
              "      <td>9.000000</td>\n",
              "      <td>9.000000</td>\n",
              "      <td>9.000000</td>\n",
              "      <td>9.000000</td>\n",
              "      <td>9.00000</td>\n",
              "      <td>9.000000</td>\n",
              "      <td>9.000000</td>\n",
              "      <td>9.000000</td>\n",
              "      <td>9.000000</td>\n",
              "      <td>9.000000</td>\n",
              "      <td>9.000000</td>\n",
              "      <td>9.000000</td>\n",
              "      <td>9.000000</td>\n",
              "      <td>9.00000</td>\n",
              "      <td>9.000000</td>\n",
              "      <td>9.000000</td>\n",
              "      <td>9.000000</td>\n",
              "      <td>9.000000</td>\n",
              "      <td>9.000000</td>\n",
              "      <td>9.000000</td>\n",
              "      <td>9.000000</td>\n",
              "      <td>9.000000</td>\n",
              "      <td>9.000000</td>\n",
              "      <td>9.000000</td>\n",
              "      <td>9.000000</td>\n",
              "      <td>9.000000</td>\n",
              "      <td>9.000000</td>\n",
              "      <td>9.000000</td>\n",
              "      <td>9.000000</td>\n",
              "    </tr>\n",
              "    <tr>\n",
              "      <th>max</th>\n",
              "      <td>8.546000e+08</td>\n",
              "      <td>16000.000000</td>\n",
              "      <td>8.000000</td>\n",
              "      <td>1.00000</td>\n",
              "      <td>9.000000</td>\n",
              "      <td>9.000000</td>\n",
              "      <td>9.000000</td>\n",
              "      <td>9.000000</td>\n",
              "      <td>9.000000</td>\n",
              "      <td>9.000000</td>\n",
              "      <td>9.000000</td>\n",
              "      <td>9.000000</td>\n",
              "      <td>9.000000</td>\n",
              "      <td>9.000000</td>\n",
              "      <td>9.00000</td>\n",
              "      <td>9.000000</td>\n",
              "      <td>9.000000</td>\n",
              "      <td>9.000000</td>\n",
              "      <td>9.000000</td>\n",
              "      <td>9.000000</td>\n",
              "      <td>9.000000</td>\n",
              "      <td>9.000000</td>\n",
              "      <td>9.000000</td>\n",
              "      <td>9.00000</td>\n",
              "      <td>9.000000</td>\n",
              "      <td>9.000000</td>\n",
              "      <td>9.000000</td>\n",
              "      <td>9.000000</td>\n",
              "      <td>9.000000</td>\n",
              "      <td>9.000000</td>\n",
              "      <td>9.000000</td>\n",
              "      <td>9.000000</td>\n",
              "      <td>9.000000</td>\n",
              "      <td>9.000000</td>\n",
              "      <td>9.000000</td>\n",
              "      <td>9.000000</td>\n",
              "      <td>9.000000</td>\n",
              "      <td>9.000000</td>\n",
              "      <td>9.000000</td>\n",
              "    </tr>\n",
              "  </tbody>\n",
              "</table>\n",
              "</div>\n",
              "      <button class=\"colab-df-convert\" onclick=\"convertToInteractive('df-7829b566-1ee9-4a8b-a345-4c2bc7e15302')\"\n",
              "              title=\"Convert this dataframe to an interactive table.\"\n",
              "              style=\"display:none;\">\n",
              "        \n",
              "  <svg xmlns=\"http://www.w3.org/2000/svg\" height=\"24px\"viewBox=\"0 0 24 24\"\n",
              "       width=\"24px\">\n",
              "    <path d=\"M0 0h24v24H0V0z\" fill=\"none\"/>\n",
              "    <path d=\"M18.56 5.44l.94 2.06.94-2.06 2.06-.94-2.06-.94-.94-2.06-.94 2.06-2.06.94zm-11 1L8.5 8.5l.94-2.06 2.06-.94-2.06-.94L8.5 2.5l-.94 2.06-2.06.94zm10 10l.94 2.06.94-2.06 2.06-.94-2.06-.94-.94-2.06-.94 2.06-2.06.94z\"/><path d=\"M17.41 7.96l-1.37-1.37c-.4-.4-.92-.59-1.43-.59-.52 0-1.04.2-1.43.59L10.3 9.45l-7.72 7.72c-.78.78-.78 2.05 0 2.83L4 21.41c.39.39.9.59 1.41.59.51 0 1.02-.2 1.41-.59l7.78-7.78 2.81-2.81c.8-.78.8-2.07 0-2.86zM5.41 20L4 18.59l7.72-7.72 1.47 1.35L5.41 20z\"/>\n",
              "  </svg>\n",
              "      </button>\n",
              "      \n",
              "  <style>\n",
              "    .colab-df-container {\n",
              "      display:flex;\n",
              "      flex-wrap:wrap;\n",
              "      gap: 12px;\n",
              "    }\n",
              "\n",
              "    .colab-df-convert {\n",
              "      background-color: #E8F0FE;\n",
              "      border: none;\n",
              "      border-radius: 50%;\n",
              "      cursor: pointer;\n",
              "      display: none;\n",
              "      fill: #1967D2;\n",
              "      height: 32px;\n",
              "      padding: 0 0 0 0;\n",
              "      width: 32px;\n",
              "    }\n",
              "\n",
              "    .colab-df-convert:hover {\n",
              "      background-color: #E2EBFA;\n",
              "      box-shadow: 0px 1px 2px rgba(60, 64, 67, 0.3), 0px 1px 3px 1px rgba(60, 64, 67, 0.15);\n",
              "      fill: #174EA6;\n",
              "    }\n",
              "\n",
              "    [theme=dark] .colab-df-convert {\n",
              "      background-color: #3B4455;\n",
              "      fill: #D2E3FC;\n",
              "    }\n",
              "\n",
              "    [theme=dark] .colab-df-convert:hover {\n",
              "      background-color: #434B5C;\n",
              "      box-shadow: 0px 1px 3px 1px rgba(0, 0, 0, 0.15);\n",
              "      filter: drop-shadow(0px 1px 2px rgba(0, 0, 0, 0.3));\n",
              "      fill: #FFFFFF;\n",
              "    }\n",
              "  </style>\n",
              "\n",
              "      <script>\n",
              "        const buttonEl =\n",
              "          document.querySelector('#df-7829b566-1ee9-4a8b-a345-4c2bc7e15302 button.colab-df-convert');\n",
              "        buttonEl.style.display =\n",
              "          google.colab.kernel.accessAllowed ? 'block' : 'none';\n",
              "\n",
              "        async function convertToInteractive(key) {\n",
              "          const element = document.querySelector('#df-7829b566-1ee9-4a8b-a345-4c2bc7e15302');\n",
              "          const dataTable =\n",
              "            await google.colab.kernel.invokeFunction('convertToInteractive',\n",
              "                                                     [key], {});\n",
              "          if (!dataTable) return;\n",
              "\n",
              "          const docLinkHtml = 'Like what you see? Visit the ' +\n",
              "            '<a target=\"_blank\" href=https://colab.research.google.com/notebooks/data_table.ipynb>data table notebook</a>'\n",
              "            + ' to learn more about interactive tables.';\n",
              "          element.innerHTML = '';\n",
              "          dataTable['output_type'] = 'display_data';\n",
              "          await google.colab.output.renderOutput(dataTable, element);\n",
              "          const docLink = document.createElement('div');\n",
              "          docLink.innerHTML = docLinkHtml;\n",
              "          element.appendChild(docLink);\n",
              "        }\n",
              "      </script>\n",
              "    </div>\n",
              "  </div>\n",
              "  "
            ]
          },
          "metadata": {},
          "execution_count": 10
        }
      ],
      "source": [
        "raw_df.describe()"
      ]
    },
    {
      "cell_type": "code",
      "execution_count": null,
      "metadata": {
        "id": "m7Cnw3pyYOCk"
      },
      "outputs": [],
      "source": [
        "raw_df[[\"Price\", \"Area\"]].describe()"
      ]
    },
    {
      "cell_type": "code",
      "execution_count": null,
      "metadata": {
        "id": "671STY6CYOCk"
      },
      "outputs": [],
      "source": [
        "raw_df.describe(include='all')"
      ]
    },
    {
      "cell_type": "code",
      "execution_count": null,
      "metadata": {
        "id": "5j7sk6lIYOCk",
        "outputId": "c420e8df-22ab-4a00-f832-9a1f2084267d",
        "colab": {
          "base_uri": "https://localhost:8080/",
          "height": 175
        }
      },
      "outputs": [
        {
          "output_type": "execute_result",
          "data": {
            "text/plain": [
              "       Location\n",
              "count      4998\n",
              "unique      339\n",
              "top       Noida\n",
              "freq        761"
            ],
            "text/html": [
              "\n",
              "  <div id=\"df-a6304729-a007-4ffc-b109-951ce46dbf23\">\n",
              "    <div class=\"colab-df-container\">\n",
              "      <div>\n",
              "<style scoped>\n",
              "    .dataframe tbody tr th:only-of-type {\n",
              "        vertical-align: middle;\n",
              "    }\n",
              "\n",
              "    .dataframe tbody tr th {\n",
              "        vertical-align: top;\n",
              "    }\n",
              "\n",
              "    .dataframe thead th {\n",
              "        text-align: right;\n",
              "    }\n",
              "</style>\n",
              "<table border=\"1\" class=\"dataframe\">\n",
              "  <thead>\n",
              "    <tr style=\"text-align: right;\">\n",
              "      <th></th>\n",
              "      <th>Location</th>\n",
              "    </tr>\n",
              "  </thead>\n",
              "  <tbody>\n",
              "    <tr>\n",
              "      <th>count</th>\n",
              "      <td>4998</td>\n",
              "    </tr>\n",
              "    <tr>\n",
              "      <th>unique</th>\n",
              "      <td>339</td>\n",
              "    </tr>\n",
              "    <tr>\n",
              "      <th>top</th>\n",
              "      <td>Noida</td>\n",
              "    </tr>\n",
              "    <tr>\n",
              "      <th>freq</th>\n",
              "      <td>761</td>\n",
              "    </tr>\n",
              "  </tbody>\n",
              "</table>\n",
              "</div>\n",
              "      <button class=\"colab-df-convert\" onclick=\"convertToInteractive('df-a6304729-a007-4ffc-b109-951ce46dbf23')\"\n",
              "              title=\"Convert this dataframe to an interactive table.\"\n",
              "              style=\"display:none;\">\n",
              "        \n",
              "  <svg xmlns=\"http://www.w3.org/2000/svg\" height=\"24px\"viewBox=\"0 0 24 24\"\n",
              "       width=\"24px\">\n",
              "    <path d=\"M0 0h24v24H0V0z\" fill=\"none\"/>\n",
              "    <path d=\"M18.56 5.44l.94 2.06.94-2.06 2.06-.94-2.06-.94-.94-2.06-.94 2.06-2.06.94zm-11 1L8.5 8.5l.94-2.06 2.06-.94-2.06-.94L8.5 2.5l-.94 2.06-2.06.94zm10 10l.94 2.06.94-2.06 2.06-.94-2.06-.94-.94-2.06-.94 2.06-2.06.94z\"/><path d=\"M17.41 7.96l-1.37-1.37c-.4-.4-.92-.59-1.43-.59-.52 0-1.04.2-1.43.59L10.3 9.45l-7.72 7.72c-.78.78-.78 2.05 0 2.83L4 21.41c.39.39.9.59 1.41.59.51 0 1.02-.2 1.41-.59l7.78-7.78 2.81-2.81c.8-.78.8-2.07 0-2.86zM5.41 20L4 18.59l7.72-7.72 1.47 1.35L5.41 20z\"/>\n",
              "  </svg>\n",
              "      </button>\n",
              "      \n",
              "  <style>\n",
              "    .colab-df-container {\n",
              "      display:flex;\n",
              "      flex-wrap:wrap;\n",
              "      gap: 12px;\n",
              "    }\n",
              "\n",
              "    .colab-df-convert {\n",
              "      background-color: #E8F0FE;\n",
              "      border: none;\n",
              "      border-radius: 50%;\n",
              "      cursor: pointer;\n",
              "      display: none;\n",
              "      fill: #1967D2;\n",
              "      height: 32px;\n",
              "      padding: 0 0 0 0;\n",
              "      width: 32px;\n",
              "    }\n",
              "\n",
              "    .colab-df-convert:hover {\n",
              "      background-color: #E2EBFA;\n",
              "      box-shadow: 0px 1px 2px rgba(60, 64, 67, 0.3), 0px 1px 3px 1px rgba(60, 64, 67, 0.15);\n",
              "      fill: #174EA6;\n",
              "    }\n",
              "\n",
              "    [theme=dark] .colab-df-convert {\n",
              "      background-color: #3B4455;\n",
              "      fill: #D2E3FC;\n",
              "    }\n",
              "\n",
              "    [theme=dark] .colab-df-convert:hover {\n",
              "      background-color: #434B5C;\n",
              "      box-shadow: 0px 1px 3px 1px rgba(0, 0, 0, 0.15);\n",
              "      filter: drop-shadow(0px 1px 2px rgba(0, 0, 0, 0.3));\n",
              "      fill: #FFFFFF;\n",
              "    }\n",
              "  </style>\n",
              "\n",
              "      <script>\n",
              "        const buttonEl =\n",
              "          document.querySelector('#df-a6304729-a007-4ffc-b109-951ce46dbf23 button.colab-df-convert');\n",
              "        buttonEl.style.display =\n",
              "          google.colab.kernel.accessAllowed ? 'block' : 'none';\n",
              "\n",
              "        async function convertToInteractive(key) {\n",
              "          const element = document.querySelector('#df-a6304729-a007-4ffc-b109-951ce46dbf23');\n",
              "          const dataTable =\n",
              "            await google.colab.kernel.invokeFunction('convertToInteractive',\n",
              "                                                     [key], {});\n",
              "          if (!dataTable) return;\n",
              "\n",
              "          const docLinkHtml = 'Like what you see? Visit the ' +\n",
              "            '<a target=\"_blank\" href=https://colab.research.google.com/notebooks/data_table.ipynb>data table notebook</a>'\n",
              "            + ' to learn more about interactive tables.';\n",
              "          element.innerHTML = '';\n",
              "          dataTable['output_type'] = 'display_data';\n",
              "          await google.colab.output.renderOutput(dataTable, element);\n",
              "          const docLink = document.createElement('div');\n",
              "          docLink.innerHTML = docLinkHtml;\n",
              "          element.appendChild(docLink);\n",
              "        }\n",
              "      </script>\n",
              "    </div>\n",
              "  </div>\n",
              "  "
            ]
          },
          "metadata": {},
          "execution_count": 68
        }
      ],
      "source": [
        "raw_df.describe(include=[object])"
      ]
    },
    {
      "cell_type": "code",
      "execution_count": null,
      "metadata": {
        "id": "CgeOoTpcYOCk",
        "outputId": "8a38134f-f6a2-4314-a7b5-3e3d1ae7c3d8",
        "colab": {
          "base_uri": "https://localhost:8080/"
        }
      },
      "outputs": [
        {
          "output_type": "execute_result",
          "data": {
            "text/plain": [
              "15886383.744497798"
            ]
          },
          "metadata": {},
          "execution_count": 69
        }
      ],
      "source": [
        "raw_df[\"Price\"].mean()"
      ]
    },
    {
      "cell_type": "code",
      "execution_count": null,
      "metadata": {
        "id": "Rv4LYMHNYOCk",
        "outputId": "f86a5e66-dd0f-4356-bb92-88c81d8198ef",
        "colab": {
          "base_uri": "https://localhost:8080/"
        }
      },
      "outputs": [
        {
          "output_type": "execute_result",
          "data": {
            "text/plain": [
              "Price    5500000.0\n",
              "Area        1000.0\n",
              "dtype: float64"
            ]
          },
          "metadata": {},
          "execution_count": 70
        }
      ],
      "source": [
        "raw_df[[\"Price\", \"Area\"]].median()"
      ]
    },
    {
      "cell_type": "code",
      "execution_count": null,
      "metadata": {
        "id": "4hnwPwElYOCl"
      },
      "outputs": [],
      "source": [
        "raw_df[[\"Price\", \"Location\"]].groupby(\"Location\").mean()"
      ]
    },
    {
      "cell_type": "code",
      "execution_count": null,
      "metadata": {
        "id": "BVCUZbufYOCl"
      },
      "outputs": [],
      "source": [
        "raw_df.groupby(\"Location\").mean()"
      ]
    },
    {
      "cell_type": "markdown",
      "source": [
        "We can use the drop parameter to avoid the old index being added as a column."
      ],
      "metadata": {
        "id": "OB_OXa1MABUj"
      }
    },
    {
      "cell_type": "code",
      "execution_count": null,
      "metadata": {
        "id": "GYkta5S9YOCm"
      },
      "outputs": [],
      "source": [
        "raw_df[raw_df['Price']>100000000].reset_index(drop=False)"
      ]
    },
    {
      "cell_type": "code",
      "execution_count": null,
      "metadata": {
        "id": "XiDY-OhZYOCm",
        "outputId": "d1657919-f52d-4815-ffe0-14268b0e7d20",
        "colab": {
          "base_uri": "https://localhost:8080/",
          "height": 143
        }
      },
      "outputs": [
        {
          "output_type": "execute_result",
          "data": {
            "text/plain": [
              "    Area         Location  No. of Bedrooms  Resale      Price\n",
              "0  12552  Prithviraj Road                8       0  285400000\n",
              "1   2520     Punjabi Bagh                6       1  450000000\n",
              "2   6251     Sainik Farms                6       0  235200000"
            ],
            "text/html": [
              "\n",
              "  <div id=\"df-feb9a51e-34d6-4cf0-bb50-8c7d730ce3ca\">\n",
              "    <div class=\"colab-df-container\">\n",
              "      <div>\n",
              "<style scoped>\n",
              "    .dataframe tbody tr th:only-of-type {\n",
              "        vertical-align: middle;\n",
              "    }\n",
              "\n",
              "    .dataframe tbody tr th {\n",
              "        vertical-align: top;\n",
              "    }\n",
              "\n",
              "    .dataframe thead th {\n",
              "        text-align: right;\n",
              "    }\n",
              "</style>\n",
              "<table border=\"1\" class=\"dataframe\">\n",
              "  <thead>\n",
              "    <tr style=\"text-align: right;\">\n",
              "      <th></th>\n",
              "      <th>Area</th>\n",
              "      <th>Location</th>\n",
              "      <th>No. of Bedrooms</th>\n",
              "      <th>Resale</th>\n",
              "      <th>Price</th>\n",
              "    </tr>\n",
              "  </thead>\n",
              "  <tbody>\n",
              "    <tr>\n",
              "      <th>0</th>\n",
              "      <td>12552</td>\n",
              "      <td>Prithviraj Road</td>\n",
              "      <td>8</td>\n",
              "      <td>0</td>\n",
              "      <td>285400000</td>\n",
              "    </tr>\n",
              "    <tr>\n",
              "      <th>1</th>\n",
              "      <td>2520</td>\n",
              "      <td>Punjabi Bagh</td>\n",
              "      <td>6</td>\n",
              "      <td>1</td>\n",
              "      <td>450000000</td>\n",
              "    </tr>\n",
              "    <tr>\n",
              "      <th>2</th>\n",
              "      <td>6251</td>\n",
              "      <td>Sainik Farms</td>\n",
              "      <td>6</td>\n",
              "      <td>0</td>\n",
              "      <td>235200000</td>\n",
              "    </tr>\n",
              "  </tbody>\n",
              "</table>\n",
              "</div>\n",
              "      <button class=\"colab-df-convert\" onclick=\"convertToInteractive('df-feb9a51e-34d6-4cf0-bb50-8c7d730ce3ca')\"\n",
              "              title=\"Convert this dataframe to an interactive table.\"\n",
              "              style=\"display:none;\">\n",
              "        \n",
              "  <svg xmlns=\"http://www.w3.org/2000/svg\" height=\"24px\"viewBox=\"0 0 24 24\"\n",
              "       width=\"24px\">\n",
              "    <path d=\"M0 0h24v24H0V0z\" fill=\"none\"/>\n",
              "    <path d=\"M18.56 5.44l.94 2.06.94-2.06 2.06-.94-2.06-.94-.94-2.06-.94 2.06-2.06.94zm-11 1L8.5 8.5l.94-2.06 2.06-.94-2.06-.94L8.5 2.5l-.94 2.06-2.06.94zm10 10l.94 2.06.94-2.06 2.06-.94-2.06-.94-.94-2.06-.94 2.06-2.06.94z\"/><path d=\"M17.41 7.96l-1.37-1.37c-.4-.4-.92-.59-1.43-.59-.52 0-1.04.2-1.43.59L10.3 9.45l-7.72 7.72c-.78.78-.78 2.05 0 2.83L4 21.41c.39.39.9.59 1.41.59.51 0 1.02-.2 1.41-.59l7.78-7.78 2.81-2.81c.8-.78.8-2.07 0-2.86zM5.41 20L4 18.59l7.72-7.72 1.47 1.35L5.41 20z\"/>\n",
              "  </svg>\n",
              "      </button>\n",
              "      \n",
              "  <style>\n",
              "    .colab-df-container {\n",
              "      display:flex;\n",
              "      flex-wrap:wrap;\n",
              "      gap: 12px;\n",
              "    }\n",
              "\n",
              "    .colab-df-convert {\n",
              "      background-color: #E8F0FE;\n",
              "      border: none;\n",
              "      border-radius: 50%;\n",
              "      cursor: pointer;\n",
              "      display: none;\n",
              "      fill: #1967D2;\n",
              "      height: 32px;\n",
              "      padding: 0 0 0 0;\n",
              "      width: 32px;\n",
              "    }\n",
              "\n",
              "    .colab-df-convert:hover {\n",
              "      background-color: #E2EBFA;\n",
              "      box-shadow: 0px 1px 2px rgba(60, 64, 67, 0.3), 0px 1px 3px 1px rgba(60, 64, 67, 0.15);\n",
              "      fill: #174EA6;\n",
              "    }\n",
              "\n",
              "    [theme=dark] .colab-df-convert {\n",
              "      background-color: #3B4455;\n",
              "      fill: #D2E3FC;\n",
              "    }\n",
              "\n",
              "    [theme=dark] .colab-df-convert:hover {\n",
              "      background-color: #434B5C;\n",
              "      box-shadow: 0px 1px 3px 1px rgba(0, 0, 0, 0.15);\n",
              "      filter: drop-shadow(0px 1px 2px rgba(0, 0, 0, 0.3));\n",
              "      fill: #FFFFFF;\n",
              "    }\n",
              "  </style>\n",
              "\n",
              "      <script>\n",
              "        const buttonEl =\n",
              "          document.querySelector('#df-feb9a51e-34d6-4cf0-bb50-8c7d730ce3ca button.colab-df-convert');\n",
              "        buttonEl.style.display =\n",
              "          google.colab.kernel.accessAllowed ? 'block' : 'none';\n",
              "\n",
              "        async function convertToInteractive(key) {\n",
              "          const element = document.querySelector('#df-feb9a51e-34d6-4cf0-bb50-8c7d730ce3ca');\n",
              "          const dataTable =\n",
              "            await google.colab.kernel.invokeFunction('convertToInteractive',\n",
              "                                                     [key], {});\n",
              "          if (!dataTable) return;\n",
              "\n",
              "          const docLinkHtml = 'Like what you see? Visit the ' +\n",
              "            '<a target=\"_blank\" href=https://colab.research.google.com/notebooks/data_table.ipynb>data table notebook</a>'\n",
              "            + ' to learn more about interactive tables.';\n",
              "          element.innerHTML = '';\n",
              "          dataTable['output_type'] = 'display_data';\n",
              "          await google.colab.output.renderOutput(dataTable, element);\n",
              "          const docLink = document.createElement('div');\n",
              "          docLink.innerHTML = docLinkHtml;\n",
              "          element.appendChild(docLink);\n",
              "        }\n",
              "      </script>\n",
              "    </div>\n",
              "  </div>\n",
              "  "
            ]
          },
          "metadata": {},
          "execution_count": 81
        }
      ],
      "source": [
        "raw_df[(raw_df['Price']>100000000) & (raw_df['No. of Bedrooms']>5)].reset_index(drop=True)"
      ]
    },
    {
      "cell_type": "code",
      "execution_count": null,
      "metadata": {
        "id": "UUCZUsf_YOCm",
        "outputId": "de9ad8a4-fb90-4d9b-9478-438a619cd1c4",
        "colab": {
          "base_uri": "https://localhost:8080/"
        }
      },
      "outputs": [
        {
          "output_type": "execute_result",
          "data": {
            "text/plain": [
              "15886383.744497798"
            ]
          },
          "metadata": {},
          "execution_count": 82
        }
      ],
      "source": [
        "raw_df.Price.mean()"
      ]
    },
    {
      "cell_type": "code",
      "execution_count": null,
      "metadata": {
        "id": "HZJoVbJdYOCn"
      },
      "outputs": [],
      "source": [
        "[(raw_df['Price']>100000000) & (raw_df['No. of Bedrooms']>5)]"
      ]
    }
  ],
  "metadata": {
    "interpreter": {
      "hash": "aee8b7b246df8f9039afb4144a1f6fd8d2ca17a180786b69acc140d282b71a49"
    },
    "kernelspec": {
      "display_name": "Python 3.7.9 64-bit",
      "language": "python",
      "name": "python3"
    },
    "language_info": {
      "codemirror_mode": {
        "name": "ipython",
        "version": 3
      },
      "file_extension": ".py",
      "mimetype": "text/x-python",
      "name": "python",
      "nbconvert_exporter": "python",
      "pygments_lexer": "ipython3",
      "version": "3.7.9"
    },
    "orig_nbformat": 4,
    "colab": {
      "name": "04kaggleDataExploration.ipynb",
      "provenance": [],
      "collapsed_sections": [
        "9gXQIZfjYOCj"
      ],
      "include_colab_link": true
    }
  },
  "nbformat": 4,
  "nbformat_minor": 0
}