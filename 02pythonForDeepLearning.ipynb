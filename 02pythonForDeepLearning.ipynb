{
  "cells": [
    {
      "cell_type": "markdown",
      "metadata": {
        "id": "view-in-github",
        "colab_type": "text"
      },
      "source": [
        "<a href=\"https://colab.research.google.com/github/vkjadon/introduction-to-deep-learning/blob/main/02pythonForDeepLearning.ipynb\" target=\"_parent\"><img src=\"https://colab.research.google.com/assets/colab-badge.svg\" alt=\"Open In Colab\"/></a>"
      ]
    },
    {
      "cell_type": "markdown",
      "source": [
        "#Python for Deep Learning : NumPy Library"
      ],
      "metadata": {
        "id": "YP3mN3XD7fRv"
      }
    },
    {
      "cell_type": "markdown",
      "source": [
        "Welcome to the session on \"Python for Deep Learning\". Deep Learning delas with huge data and NumPy is a very powerful and popular Python library. We will discuss various capabilities of NumPy in this session using the Google Colaboratory online resource for writting the Python Code.\n",
        "Lets get started!"
      ],
      "metadata": {
        "id": "kIslAF3U7lJ7"
      }
    },
    {
      "cell_type": "markdown",
      "source": [
        "- Open the Google Coab using Google Search"
      ],
      "metadata": {
        "id": "iACSOdNa8jEj"
      }
    },
    {
      "cell_type": "markdown",
      "source": [
        "# Matrix Fundamentals"
      ],
      "metadata": {
        "id": "8n2waimFN5EX"
      }
    },
    {
      "cell_type": "markdown",
      "source": [
        "<font color=\"brown\">NumPy stands for “Numerical Python”.</font>\n",
        "\n",
        "It is a tool suited for array oriented computing efficiently.\n",
        "\n",
        "The “numpy array” uses less memory than python list and also the execution time is faster.\n",
        "\n",
        "The internal type of numpy array is “ndarray”.\n",
        "\n",
        "$A_{m,n} =\\begin{pmatrix}\n",
        "  a_{1,1} & a_{1,2} & \\cdots & a_{1,n} \\\\\n",
        "  a_{2,1} & a_{2,2} & \\cdots & a_{2,n} \\\\\n",
        "  \\vdots  & \\vdots  & \\ddots & \\vdots  \\\\\n",
        "  a_{m,1} & a_{m,2} & \\cdots & a_{m,n}\n",
        " \\end{pmatrix}$\n",
        "\n",
        "- The shape of this matrix is $m \\times n$\n",
        "\n",
        "- If we use $i, j$ as the indices to indicate an array element; then, for coding purposes $i$ will from $0$ to $m-1$ and $j$ will be from $0$ to $n-1$.\n",
        "\n",
        "- We start by importing the NumPy library"
      ],
      "metadata": {
        "id": "95VlFCjYLb_C"
      }
    },
    {
      "cell_type": "markdown",
      "source": [
        "## Assigning Array"
      ],
      "metadata": {
        "id": "uEj8B8cY_hci"
      }
    },
    {
      "cell_type": "code",
      "execution_count": 1,
      "metadata": {
        "id": "BAnycimeqKwK"
      },
      "outputs": [],
      "source": [
        "# Import the NumPy library\n",
        "import numpy as np"
      ]
    },
    {
      "cell_type": "markdown",
      "source": [
        "In deep learning, we often work with large datasets. NumPy arrays provide efficient storage and manipulation of numerical data.\n",
        "Let us create a two-dimensional NumPy array."
      ],
      "metadata": {
        "id": "1SC34KAkNCxO"
      }
    },
    {
      "cell_type": "code",
      "source": [
        "#1D array of 3 elements\n",
        "#arr1D = np.array([1,2,3])\n",
        "array1D = np.array([(1,2,3)])\n",
        "#In NumPy, this 2D matrix has Two axes\n",
        "#First axis length is 2 and Second axis length is 3 (2L,3L)\n",
        "array2D = np.array([(1,2,3),(4,5,6)])"
      ],
      "metadata": {
        "id": "PQBmYm-1ND_i"
      },
      "execution_count": null,
      "outputs": []
    },
    {
      "cell_type": "code",
      "source": [
        "print(array1D)\n",
        "print(\"Type of 1D Array array1D \", type(array1D))\n",
        "print('Shape of 1D Array array1D', array1D.shape)\n",
        "print('Size of 1D Array array1D', array1D.size)\n",
        "print('Dimension of 1D Array array1D', array1D.ndim)\n",
        "print(\"Type of data of elements of 1D Array array1D \", array1D.dtype)"
      ],
      "metadata": {
        "id": "0pbdcaOgtegW",
        "colab": {
          "base_uri": "https://localhost:8080/"
        },
        "outputId": "4c08deb6-782d-4159-9dc2-67ea322da13e"
      },
      "execution_count": null,
      "outputs": [
        {
          "output_type": "stream",
          "name": "stdout",
          "text": [
            "[[1 2 3]]\n",
            "Type of 1D Array array1D  <class 'numpy.ndarray'>\n",
            "Shape of 1D Array array1D (1, 3)\n",
            "Size of 1D Array array1D 3\n",
            "Dimension of 1D Array array1D 2\n",
            "Type of data of elements of 1D Array array1D  int64\n"
          ]
        }
      ]
    },
    {
      "cell_type": "code",
      "source": [
        "print(array2D)\n",
        "print(\"Type of 2D Array array2D \", type(array2D))\n",
        "print('Shape of 2D Array array2D', array2D.shape)\n",
        "print('Size of 2D Array array2D', array2D.size)\n",
        "print('Dimension of 2D Array array2D', array2D.ndim)\n",
        "print(\"Type of data of elements of 2D Array array2D \", array2D.dtype)"
      ],
      "metadata": {
        "id": "oZ045nEvuNwT"
      },
      "execution_count": null,
      "outputs": []
    },
    {
      "cell_type": "markdown",
      "source": [
        "We can see there are two arrays of size 3 in the outer array. This understanding will help to understand the 3D arrays."
      ],
      "metadata": {
        "id": "FSve_lACuhTq"
      }
    },
    {
      "cell_type": "markdown",
      "source": [
        "##Reshaping Matrices"
      ],
      "metadata": {
        "id": "RXYfdzyvpr3M"
      }
    },
    {
      "cell_type": "markdown",
      "source": [
        "You can reshape the matrixA using the reshape() function in NumPy. Reshaping allows you to change the shape or dimensions of an array while maintaining the same number of elements. So, we can reshape the 'matrixA' into another matrix of equal total numebr of elements. Otherwise, it will throw an error. We can specify one dimension by '-1' for the unknown shape. The Numpy will compute that on its own if exists.\n",
        "- We can use `.T` to transpose the matrix."
      ],
      "metadata": {
        "id": "J2fKUtb2QjvZ"
      }
    },
    {
      "cell_type": "code",
      "source": [
        "#array2D.T\n",
        "#array2D\n",
        "array2D.reshape(6,-1)\n",
        "#array2D.reshape(3,2,-1)\n",
        "#array2D.reshape(3,4)\n",
        "#array2D.shape\n",
        "#array2D"
      ],
      "metadata": {
        "id": "mqDqHPOPPdqN"
      },
      "execution_count": null,
      "outputs": []
    },
    {
      "cell_type": "markdown",
      "source": [
        "##Accessing Array Elements"
      ],
      "metadata": {
        "id": "aDUiTwOCR_a7"
      }
    },
    {
      "cell_type": "markdown",
      "source": [
        "We can access arrays/elements of an array using indexing, just like in regular Python lists. For a 1D array first element is at index 0 and for 2D array first row at index 0 and first element is at index 0, 0 to specify row and column."
      ],
      "metadata": {
        "id": "DYygciIr_MuN"
      }
    },
    {
      "cell_type": "code",
      "source": [
        "a=np.arange(12).reshape(3,4)"
      ],
      "metadata": {
        "id": "3CqFrHkXazBK"
      },
      "execution_count": 78,
      "outputs": []
    },
    {
      "cell_type": "code",
      "source": [
        "# Access rows of the array\n",
        "print(\"2D Array: \", a)\n",
        "print(\"Row [First row at index 0] :\", a[0])\n",
        "print(\"Last row:\", a[-1])"
      ],
      "metadata": {
        "id": "0D86GGxGSAxh",
        "outputId": "9a0c43f1-bbc2-4e2f-d311-4dace495efbe",
        "colab": {
          "base_uri": "https://localhost:8080/"
        }
      },
      "execution_count": 79,
      "outputs": [
        {
          "output_type": "stream",
          "name": "stdout",
          "text": [
            "2D Array:  [[ 0  1  2  3]\n",
            " [ 4  5  6  7]\n",
            " [ 8  9 10 11]]\n",
            "Row [First row at index 0] : [0 1 2 3]\n",
            "Last row: [ 8  9 10 11]\n"
          ]
        }
      ]
    },
    {
      "cell_type": "code",
      "source": [
        "# Access elements of the array\n",
        "print(\"First element:\", a[0,0], \"\\nLast element:\", a[1,-1])"
      ],
      "metadata": {
        "id": "cl0EFX2hSS6v",
        "outputId": "8fbcec79-e28d-4f49-9d7d-1fbe3f3a8ec9",
        "colab": {
          "base_uri": "https://localhost:8080/"
        }
      },
      "execution_count": 80,
      "outputs": [
        {
          "output_type": "stream",
          "name": "stdout",
          "text": [
            "First element: 0 \n",
            "Last element: 7\n"
          ]
        }
      ]
    },
    {
      "cell_type": "code",
      "source": [
        "a=np.arange(18).reshape(3,2,3)"
      ],
      "metadata": {
        "id": "8MsWhgFsaI1z"
      },
      "execution_count": 81,
      "outputs": []
    },
    {
      "cell_type": "code",
      "source": [
        "a"
      ],
      "metadata": {
        "id": "ox1PU6gQaYRa",
        "outputId": "126d57b0-9501-4780-ba60-99af15e22b57",
        "colab": {
          "base_uri": "https://localhost:8080/"
        }
      },
      "execution_count": 98,
      "outputs": [
        {
          "output_type": "execute_result",
          "data": {
            "text/plain": [
              "array([[[ 0,  1,  2],\n",
              "        [ 3,  4,  5]],\n",
              "\n",
              "       [[ 6,  7,  8],\n",
              "        [ 9, 10, 11]],\n",
              "\n",
              "       [[12, 13, 14],\n",
              "        [15, 16, 17]]])"
            ]
          },
          "metadata": {},
          "execution_count": 98
        }
      ]
    },
    {
      "cell_type": "code",
      "source": [
        "a[1][1][0]"
      ],
      "metadata": {
        "id": "5F54RVNoaSFh",
        "outputId": "28ec781a-9ad4-47fe-f1c0-b935a7f51aa7",
        "colab": {
          "base_uri": "https://localhost:8080/"
        }
      },
      "execution_count": 96,
      "outputs": [
        {
          "output_type": "execute_result",
          "data": {
            "text/plain": [
              "9"
            ]
          },
          "metadata": {},
          "execution_count": 96
        }
      ]
    },
    {
      "cell_type": "code",
      "source": [
        "a=np.arange(36).reshape(2,3,2,3)"
      ],
      "metadata": {
        "id": "Ifg7eqCfP17h"
      },
      "execution_count": 100,
      "outputs": []
    },
    {
      "cell_type": "code",
      "source": [
        "a"
      ],
      "metadata": {
        "id": "8uF1cx4GWvai",
        "outputId": "981b38d3-3503-48fa-efe1-1b12a3ffbc7f",
        "colab": {
          "base_uri": "https://localhost:8080/"
        }
      },
      "execution_count": 101,
      "outputs": [
        {
          "output_type": "execute_result",
          "data": {
            "text/plain": [
              "array([[[[ 0,  1,  2],\n",
              "         [ 3,  4,  5]],\n",
              "\n",
              "        [[ 6,  7,  8],\n",
              "         [ 9, 10, 11]],\n",
              "\n",
              "        [[12, 13, 14],\n",
              "         [15, 16, 17]]],\n",
              "\n",
              "\n",
              "       [[[18, 19, 20],\n",
              "         [21, 22, 23]],\n",
              "\n",
              "        [[24, 25, 26],\n",
              "         [27, 28, 29]],\n",
              "\n",
              "        [[30, 31, 32],\n",
              "         [33, 34, 35]]]])"
            ]
          },
          "metadata": {},
          "execution_count": 101
        }
      ]
    },
    {
      "cell_type": "code",
      "source": [
        "a[1]"
      ],
      "metadata": {
        "id": "ujoVlinTYga0",
        "outputId": "dd77cdd1-2af2-4400-8b7d-a9a8147d56d0",
        "colab": {
          "base_uri": "https://localhost:8080/"
        }
      },
      "execution_count": 104,
      "outputs": [
        {
          "output_type": "execute_result",
          "data": {
            "text/plain": [
              "array([[[18, 19, 20],\n",
              "        [21, 22, 23]],\n",
              "\n",
              "       [[24, 25, 26],\n",
              "        [27, 28, 29]],\n",
              "\n",
              "       [[30, 31, 32],\n",
              "        [33, 34, 35]]])"
            ]
          },
          "metadata": {},
          "execution_count": 104
        }
      ]
    },
    {
      "cell_type": "markdown",
      "source": [
        "# Creating a NumPy array"
      ],
      "metadata": {
        "id": "RJ82SZPcTW0x"
      }
    },
    {
      "cell_type": "markdown",
      "source": [
        " ## arange() function"
      ],
      "metadata": {
        "id": "sNJ77qzZ_vGw"
      }
    },
    {
      "cell_type": "markdown",
      "source": [
        "`arange([start,] stop[, step], [, dtype=None])`\n",
        "\n",
        "**arange** returns evenly spaced values within a given interval starting from first optional parameter and within the `stop` value.\n",
        "If only one parameter is given, it is assumed as `stop` and the `start` is automatically set to 0.\n",
        "If the `step` is not given, it is set to `1` but if `step` is given, the `start` parameter cannot be optional, i.e. it has to be given as well.\n",
        "The `step` sets the spacing between two adjacent values of the output array."
      ],
      "metadata": {
        "id": "zQX3AiBnTy88"
      }
    },
    {
      "cell_type": "code",
      "source": [
        "dayTemperature=np.arange(6)\n",
        "#Gives 6 values starting from 0 and default interval of 1\n",
        "print(dayTemperature)"
      ],
      "metadata": {
        "id": "7b0CzpyIXuFt"
      },
      "execution_count": null,
      "outputs": []
    },
    {
      "cell_type": "code",
      "source": [
        "dayTemperature=np.arange(22,30,1)\n",
        "#First Value is 22 and it stops at 30, So 30 is not included\n",
        "print(dayTemperature)"
      ],
      "metadata": {
        "id": "E9wRQLfHXwSg"
      },
      "execution_count": null,
      "outputs": []
    },
    {
      "cell_type": "code",
      "source": [
        "dayTemperature=np.arange(25)\n",
        "#First Value is 0 and it gives 25 output with default interval of 1\n",
        "print(dayTemperature)"
      ],
      "metadata": {
        "id": "cdPunCeKX4Zr"
      },
      "execution_count": null,
      "outputs": []
    },
    {
      "cell_type": "code",
      "source": [
        "np.arange(12).reshape(4,3)"
      ],
      "metadata": {
        "id": "7Wb75j4RYFN4"
      },
      "execution_count": null,
      "outputs": []
    },
    {
      "cell_type": "markdown",
      "source": [
        "##linspace() Function\n"
      ],
      "metadata": {
        "id": "8GqaqQQOTgpC"
      }
    },
    {
      "cell_type": "markdown",
      "source": [
        "`linspace(start, stop, num=50, endpoint=True, retstep=False)`\n",
        "\n",
        "<font color='brown'>create NumPy array using linspacebar</font>\n",
        "\n",
        "Array of linearly spaced values defined by `num` including `start` and `stop`\n",
        "\n",
        "<font color='brown'>default value of num is 50</font>"
      ],
      "metadata": {
        "id": "u2aDzpbRT420"
      }
    },
    {
      "cell_type": "code",
      "source": [
        "dayTemperature=np.linspace(20,30,11)\n",
        "print(dayTemperature)"
      ],
      "metadata": {
        "id": "i0t0-0kvX757"
      },
      "execution_count": null,
      "outputs": []
    },
    {
      "cell_type": "code",
      "source": [
        "dayTemperature, spacing=np.linspace(20,30, 20, endpoint=True, retstep=True)\n",
        "print(dayTemperature, spacing)"
      ],
      "metadata": {
        "id": "EfOvvcc2X8zt"
      },
      "execution_count": null,
      "outputs": []
    },
    {
      "cell_type": "markdown",
      "source": [
        "##Random Functions"
      ],
      "metadata": {
        "id": "XqzZ5hJ4YNal"
      }
    },
    {
      "cell_type": "markdown",
      "source": [
        "Use `np.random.rand` to create an array of the given shape and populate it with random samples from a uniform distribution over [0, 1)."
      ],
      "metadata": {
        "id": "bX-Ox8pwYLhp"
      }
    },
    {
      "cell_type": "code",
      "source": [
        "np.random.rand(4,2)"
      ],
      "metadata": {
        "id": "ZIFiEXxyYaow"
      },
      "execution_count": null,
      "outputs": []
    },
    {
      "cell_type": "markdown",
      "source": [
        "We can multiply by a factor if we wand higher magnitude. For example, if we need random number up to 255, we can do so as below:"
      ],
      "metadata": {
        "id": "XeT370BuwqIe"
      }
    },
    {
      "cell_type": "code",
      "source": [
        "np.random.rand(4,2)*255"
      ],
      "metadata": {
        "id": "BsV01b5HxJ0S"
      },
      "execution_count": null,
      "outputs": []
    },
    {
      "cell_type": "markdown",
      "source": [
        "Use `np.random.randn` to generates an array of given shape, filled with random floats sampled from a univariate “normal” (Gaussian) distribution of mean 0 and variance 1."
      ],
      "metadata": {
        "id": "6pGUUxCEYe2b"
      }
    },
    {
      "cell_type": "code",
      "source": [
        "np.random.randn(3,4)"
      ],
      "metadata": {
        "id": "YVV3MNPWYjUD"
      },
      "execution_count": null,
      "outputs": []
    },
    {
      "cell_type": "code",
      "source": [
        "np.random.randint(3,6)"
      ],
      "metadata": {
        "id": "zvNk62swX4wI",
        "outputId": "f7d93407-5d1a-4150-c538-02ea1f47978c",
        "colab": {
          "base_uri": "https://localhost:8080/"
        }
      },
      "execution_count": null,
      "outputs": [
        {
          "output_type": "execute_result",
          "data": {
            "text/plain": [
              "4"
            ]
          },
          "metadata": {},
          "execution_count": 162
        }
      ]
    },
    {
      "cell_type": "code",
      "source": [
        "np.random.randint(3,6, size=(2,4))"
      ],
      "metadata": {
        "id": "TQ8PUwugYFFG"
      },
      "execution_count": null,
      "outputs": []
    },
    {
      "cell_type": "markdown",
      "source": [
        "##Zeros, Ones and Full"
      ],
      "metadata": {
        "id": "wsxcp2JxlUtW"
      }
    },
    {
      "cell_type": "code",
      "source": [
        "np.zeros((3,3,2))"
      ],
      "metadata": {
        "id": "Br2fAWJAldFd"
      },
      "execution_count": null,
      "outputs": []
    },
    {
      "cell_type": "code",
      "source": [
        "np.ones((3,2,4))"
      ],
      "metadata": {
        "id": "y59Il03mmOAe"
      },
      "execution_count": null,
      "outputs": []
    },
    {
      "cell_type": "code",
      "source": [
        "np.full((2,3,4),4)"
      ],
      "metadata": {
        "id": "iBbICoU0mRG8"
      },
      "execution_count": null,
      "outputs": []
    },
    {
      "cell_type": "markdown",
      "source": [
        "#Matrix Operations"
      ],
      "metadata": {
        "id": "WVYSfZ-UcQw4"
      }
    },
    {
      "cell_type": "markdown",
      "source": [
        "##Element wise Operation"
      ],
      "metadata": {
        "id": "ZCAs9PofZvSm"
      }
    },
    {
      "cell_type": "markdown",
      "source": [
        "`multiply()`, `add()`, `subtract()` and `divide()`\n",
        "\n",
        "- To perform element-wise multiplication, the dimension of both the arrays must be the same.\n",
        "- The otherwise the broadcating can be used."
      ],
      "metadata": {
        "id": "j8bVik8ccly3"
      }
    },
    {
      "cell_type": "code",
      "source": [
        "#a=np.random.randn(4,3)\n",
        "a=np.random.randn(3,2)\n",
        "b=np.random.randn(3,2)\n",
        "mult=np.multiply(a,b)\n",
        "add=np.add(a,b)\n",
        "sub=np.subtract(a,b)\n",
        "div=np.divide(a,b)"
      ],
      "metadata": {
        "id": "SwolFUM0cvh3"
      },
      "execution_count": null,
      "outputs": []
    },
    {
      "cell_type": "code",
      "source": [],
      "metadata": {
        "id": "DDZh3D-YB_Um"
      },
      "execution_count": null,
      "outputs": []
    },
    {
      "cell_type": "markdown",
      "source": [
        "##Arithmatic Functions"
      ],
      "metadata": {
        "id": "4TmESG89F9IW"
      }
    },
    {
      "cell_type": "code",
      "source": [
        "np.sqrt(abs(np.exp(a)))"
      ],
      "metadata": {
        "id": "9eGs4tMeFOhe"
      },
      "execution_count": null,
      "outputs": []
    },
    {
      "cell_type": "code",
      "source": [
        "np.log(abs(np.power(a,3)))"
      ],
      "metadata": {
        "id": "COipTcIKHcIT"
      },
      "execution_count": null,
      "outputs": []
    },
    {
      "cell_type": "code",
      "source": [
        "np.min(a)"
      ],
      "metadata": {
        "id": "GyOOPjR5GUEK"
      },
      "execution_count": null,
      "outputs": []
    },
    {
      "cell_type": "code",
      "source": [
        "np.mean(a)"
      ],
      "metadata": {
        "id": "8HACj-jZb1RY"
      },
      "execution_count": null,
      "outputs": []
    },
    {
      "cell_type": "code",
      "source": [
        "np.max(a)"
      ],
      "metadata": {
        "id": "BdOj3-yCb31S"
      },
      "execution_count": null,
      "outputs": []
    },
    {
      "cell_type": "markdown",
      "source": [
        "##append() and insert()"
      ],
      "metadata": {
        "id": "BjmhqDITH-ga"
      }
    },
    {
      "cell_type": "code",
      "source": [
        "ones=np.ones(5)\n",
        "zeros=np.zeros(5)"
      ],
      "metadata": {
        "id": "fAD4xZ6AIDEN"
      },
      "execution_count": null,
      "outputs": []
    },
    {
      "cell_type": "code",
      "source": [
        "np.append(ones,zeros)"
      ],
      "metadata": {
        "colab": {
          "base_uri": "https://localhost:8080/"
        },
        "id": "NHmF2jgRncCV",
        "outputId": "6bedf5e0-97f2-40c5-957c-8df360e4409d"
      },
      "execution_count": null,
      "outputs": [
        {
          "output_type": "execute_result",
          "data": {
            "text/plain": [
              "array([1., 1., 1., 1., 1., 0., 0., 0., 0., 0.])"
            ]
          },
          "metadata": {},
          "execution_count": 7
        }
      ]
    },
    {
      "cell_type": "code",
      "source": [
        "np.append(ones,[2,4])"
      ],
      "metadata": {
        "id": "ITf77KJxIeqB",
        "colab": {
          "base_uri": "https://localhost:8080/"
        },
        "outputId": "8e18fc02-381f-4dde-86fc-2e3ae0d8b69f"
      },
      "execution_count": null,
      "outputs": [
        {
          "output_type": "execute_result",
          "data": {
            "text/plain": [
              "array([1., 1., 1., 1., 1., 2., 4.])"
            ]
          },
          "metadata": {},
          "execution_count": 8
        }
      ]
    },
    {
      "cell_type": "code",
      "source": [
        "np.insert(ones, 3, [4,3]) #inserted at the index specified"
      ],
      "metadata": {
        "id": "jVSw59NhIoAg",
        "colab": {
          "base_uri": "https://localhost:8080/"
        },
        "outputId": "67266b9a-d952-4792-dffb-14c93bef8bc9"
      },
      "execution_count": null,
      "outputs": [
        {
          "output_type": "execute_result",
          "data": {
            "text/plain": [
              "array([1., 1., 1., 4., 3., 1., 1.])"
            ]
          },
          "metadata": {},
          "execution_count": 9
        }
      ]
    },
    {
      "cell_type": "markdown",
      "source": [
        "## Broadcasting"
      ],
      "metadata": {
        "id": "6vwyfts3umkX"
      }
    },
    {
      "cell_type": "code",
      "source": [
        "print(a)\n",
        "b=a+3\n",
        "print(b)\n",
        "b=b*7\n",
        "print(b)"
      ],
      "metadata": {
        "id": "RcbQItkPeBFk"
      },
      "execution_count": null,
      "outputs": []
    },
    {
      "cell_type": "code",
      "source": [
        "a=np.arange(12).reshape(4,3)\n",
        "b=np.arange(10,22).reshape(4,3)\n",
        "c=a*b\n",
        "print(c)"
      ],
      "metadata": {
        "id": "EkKupAFEc7JF"
      },
      "execution_count": null,
      "outputs": []
    },
    {
      "cell_type": "code",
      "source": [
        "a=np.random.rand(3,4)\n",
        "b=np.random.rand(4,1)\n",
        "c=a+b.T\n",
        "print(\"Shape of a+b.T \",c.shape)\n",
        "c=a.T+b\n",
        "print(\"Shape of a.T+b \",c.shape)"
      ],
      "metadata": {
        "id": "rNGaWE2Mdq99"
      },
      "execution_count": null,
      "outputs": []
    },
    {
      "cell_type": "code",
      "execution_count": null,
      "metadata": {
        "id": "5K1pvF11qKwT"
      },
      "outputs": [],
      "source": [
        "percent=100*a/np.sum(a)\n",
        "print(percent)"
      ]
    },
    {
      "cell_type": "markdown",
      "source": [
        "- Consider random arrays of shape `a(3,4)` and `b(4,1)`.\n",
        "`np.dot(a, b)` has shape equal to number of rows of `a`, number of columns of `b`"
      ],
      "metadata": {
        "id": "6WHoFVDeCeW_"
      }
    },
    {
      "cell_type": "code",
      "execution_count": null,
      "metadata": {
        "id": "L6MYRxA6qKwU"
      },
      "outputs": [],
      "source": [
        "x = np.array([18, 2, 5, 3, 20]).reshape(5,1)\n",
        "y = np.array([9, 14, 15, 3, -200]).reshape(5,1)\n",
        "z=100*(abs(y-x))/x\n",
        "print(z)"
      ]
    },
    {
      "cell_type": "code",
      "source": [
        "a.shape==(2,3)\n",
        "\n",
        "b.shape==(2,3)\n",
        "b.shape==(2,1)\n",
        "b.shape==(1,3)\n",
        "b.shape==(3,)\n",
        "\n",
        "b.shape==(3,2)\n",
        "b.shape==(2,)\n",
        "\n"
      ],
      "metadata": {
        "id": "TyV9fOZrsAe6"
      },
      "execution_count": null,
      "outputs": []
    },
    {
      "cell_type": "code",
      "source": [
        "a.shape==(1000,256,256,256)\n",
        "\n",
        "b.shape==(1000,256,256,256)\n",
        "b.shape==(1000,1,256,256)\n",
        "b.shape==(1000,1,1,256)\n",
        "b.shape==(1,256,256,256)\n",
        "b.shape==(1,256,256)\n",
        "b.shape==(256,1)\n",
        "\n",
        "b.shape==(1000,256,256)\n",
        "\n"
      ],
      "metadata": {
        "id": "yxdTiN66shnh"
      },
      "execution_count": null,
      "outputs": []
    },
    {
      "cell_type": "markdown",
      "source": [
        "##Dot Product"
      ],
      "metadata": {
        "id": "WxeoMg7eZ4hD"
      }
    },
    {
      "cell_type": "markdown",
      "source": [
        "- To perform `dot product` on two muti-dimension arrays, the last dimension of the first array should be equal to last but one dimension of second array. So check `a.shape[-1]==b.shape[-2]`"
      ],
      "metadata": {
        "id": "YAqYZGzBdZNK"
      }
    },
    {
      "cell_type": "code",
      "source": [
        "a=np.random.randn(256,15)\n",
        "b=np.random.randn(15,5)"
      ],
      "metadata": {
        "id": "_VleDq5QX1ZE"
      },
      "execution_count": null,
      "outputs": []
    },
    {
      "cell_type": "code",
      "source": [
        "print(a.shape[-1], b.shape[-2])\n",
        "a.shape[-1] == b.shape[-2]"
      ],
      "metadata": {
        "id": "1yhaqA8KdYy6"
      },
      "execution_count": null,
      "outputs": []
    },
    {
      "cell_type": "code",
      "source": [
        "if(a.shape[1] == b.shape[0]):\n",
        "  c=np.dot(a,b)\n",
        "  c.shape\n",
        "  print(c)\n",
        "else:\n",
        "  print(\"The columns and rows condition not satisfied\")"
      ],
      "metadata": {
        "id": "Wlvu9y5NdkWo"
      },
      "execution_count": null,
      "outputs": []
    },
    {
      "cell_type": "code",
      "source": [
        "a=np.random.rand(3,3)\n",
        "b=np.random.rand(3,3)\n",
        "print(a)\n",
        "print(b)"
      ],
      "metadata": {
        "id": "pkiDMNHVd0Bk",
        "outputId": "13a9a257-6efb-4b91-e1a3-4239957f3bdf",
        "colab": {
          "base_uri": "https://localhost:8080/"
        }
      },
      "execution_count": 123,
      "outputs": [
        {
          "output_type": "stream",
          "name": "stdout",
          "text": [
            "[[0.79982    0.6551246  0.16025202]\n",
            " [0.94701041 0.47305056 0.45146085]\n",
            " [0.42488461 0.48428531 0.53920093]]\n",
            "[[0.5169528  0.60096215 0.78256277]\n",
            " [0.15873179 0.50298339 0.63159527]\n",
            " [0.73183732 0.71884164 0.36722762]]\n"
          ]
        }
      ]
    },
    {
      "cell_type": "code",
      "source": [
        "np.multiply(a,b)"
      ],
      "metadata": {
        "id": "6kp-svC-GX0j",
        "outputId": "3b056c5d-962b-4506-ec91-28212ff30c04",
        "colab": {
          "base_uri": "https://localhost:8080/"
        }
      },
      "execution_count": 124,
      "outputs": [
        {
          "output_type": "execute_result",
          "data": {
            "text/plain": [
              "array([[0.41346919, 0.39370509, 0.12540726],\n",
              "       [0.15032065, 0.23793658, 0.28514054],\n",
              "       [0.31094641, 0.34812444, 0.19800947]])"
            ]
          },
          "metadata": {},
          "execution_count": 124
        }
      ]
    },
    {
      "cell_type": "code",
      "source": [
        "a*b"
      ],
      "metadata": {
        "id": "rK9FQgcrGhs6",
        "outputId": "422521e3-67cc-4131-e966-bafdbd31c19b",
        "colab": {
          "base_uri": "https://localhost:8080/"
        }
      },
      "execution_count": 125,
      "outputs": [
        {
          "output_type": "execute_result",
          "data": {
            "text/plain": [
              "array([[0.41346919, 0.39370509, 0.12540726],\n",
              "       [0.15032065, 0.23793658, 0.28514054],\n",
              "       [0.31094641, 0.34812444, 0.19800947]])"
            ]
          },
          "metadata": {},
          "execution_count": 125
        }
      ]
    },
    {
      "cell_type": "code",
      "source": [
        "np.dot(a,b)"
      ],
      "metadata": {
        "id": "1LsJh1TMGnWl",
        "outputId": "9fd57456-59bd-4a5d-9af2-d56596c648cc",
        "colab": {
          "base_uri": "https://localhost:8080/"
        }
      },
      "execution_count": 126,
      "outputs": [
        {
          "output_type": "execute_result",
          "data": {
            "text/plain": [
              "array([[0.63473669, 0.92537416, 1.09853192],\n",
              "       [0.89504374, 1.13158284, 1.20566047],\n",
              "       [0.69112412, 0.88652711, 0.83638065]])"
            ]
          },
          "metadata": {},
          "execution_count": 126
        }
      ]
    },
    {
      "cell_type": "code",
      "source": [
        "a=np.random.rand(3,4)\n",
        "b=np.random.rand(4,1)"
      ],
      "metadata": {
        "id": "x1VZW8s4HZ5d"
      },
      "execution_count": 127,
      "outputs": []
    },
    {
      "cell_type": "code",
      "source": [
        "np.dot(a,b)"
      ],
      "metadata": {
        "id": "gk6QKzj6Bwzb",
        "outputId": "fdb27b86-aa3b-4baa-845a-cc93b69c786a",
        "colab": {
          "base_uri": "https://localhost:8080/"
        }
      },
      "execution_count": 128,
      "outputs": [
        {
          "output_type": "execute_result",
          "data": {
            "text/plain": [
              "array([[0.64201316],\n",
              "       [0.57595726],\n",
              "       [1.27826503]])"
            ]
          },
          "metadata": {},
          "execution_count": 128
        }
      ]
    },
    {
      "cell_type": "code",
      "source": [
        "np.dot(a,b).shape"
      ],
      "metadata": {
        "id": "zvSRC-R2B1Ph"
      },
      "execution_count": null,
      "outputs": []
    },
    {
      "cell_type": "code",
      "source": [
        "a=np.arange(10)\n",
        "b=np.arange(10)\n",
        "cDot=np.dot(a,b)\n",
        "print(cDot)"
      ],
      "metadata": {
        "id": "TTe4kfZAD0nF",
        "outputId": "dfabb4fb-22ad-450f-e405-ffd3cd55d8f5",
        "colab": {
          "base_uri": "https://localhost:8080/"
        }
      },
      "execution_count": 139,
      "outputs": [
        {
          "output_type": "stream",
          "name": "stdout",
          "text": [
            "285\n"
          ]
        }
      ]
    },
    {
      "cell_type": "markdown",
      "source": [
        "##Slicing\n"
      ],
      "metadata": {
        "id": "7J28UgNqx68t"
      }
    },
    {
      "cell_type": "markdown",
      "source": [
        "**Colon Operator**.\n",
        "\n",
        "Slicing is used to take desired elements of an array starting from one given index to another given index.\n",
        "\n",
        "`[start : end: step]` for 1D array.\n",
        "\n",
        "- **`start`** is inclusive and **`end`** is exclusive\n",
        "\n",
        "- If we don't pass `start` its considered 0\n",
        "\n",
        "- If we don't pass end its considered length of array in that dimension\n",
        "\n",
        "- If we don't pass `step` its considered 1"
      ],
      "metadata": {
        "id": "jYU8ut2j_abf"
      }
    },
    {
      "cell_type": "code",
      "source": [
        "x = np.array([18, 2, 5, 3, 20, 4, 8, 18, 12])"
      ],
      "metadata": {
        "id": "AA6UU-uzycph"
      },
      "execution_count": 40,
      "outputs": []
    },
    {
      "cell_type": "code",
      "source": [
        "x[3:] #All after index 3 including index 3"
      ],
      "metadata": {
        "id": "IJnpdFQXQgsF",
        "outputId": "5ddb50cd-f441-48bd-aecb-41d978668111",
        "colab": {
          "base_uri": "https://localhost:8080/"
        }
      },
      "execution_count": 43,
      "outputs": [
        {
          "output_type": "execute_result",
          "data": {
            "text/plain": [
              "array([ 3, 20,  4,  8, 18, 12])"
            ]
          },
          "metadata": {},
          "execution_count": 43
        }
      ]
    },
    {
      "cell_type": "code",
      "source": [
        "x[:4] #All before index 4 excluding index 4."
      ],
      "metadata": {
        "id": "hYNSZU8KQp3y",
        "outputId": "a52dbbde-75a2-4fb2-f42d-af70fc007cbd",
        "colab": {
          "base_uri": "https://localhost:8080/"
        }
      },
      "execution_count": 42,
      "outputs": [
        {
          "output_type": "execute_result",
          "data": {
            "text/plain": [
              "array([18,  2,  5,  3])"
            ]
          },
          "metadata": {},
          "execution_count": 42
        }
      ]
    },
    {
      "cell_type": "code",
      "source": [
        "x[1:7:2]"
      ],
      "metadata": {
        "id": "OFWzq_EIRMlT",
        "outputId": "34a6def8-3f3b-4651-c14f-c8607fb762d5",
        "colab": {
          "base_uri": "https://localhost:8080/"
        }
      },
      "execution_count": 41,
      "outputs": [
        {
          "output_type": "execute_result",
          "data": {
            "text/plain": [
              "array([2, 3, 4])"
            ]
          },
          "metadata": {},
          "execution_count": 41
        }
      ]
    },
    {
      "cell_type": "markdown",
      "source": [
        "We use [`start` : `end`: `step` , `start` : `end`: `step` ] for 2D array."
      ],
      "metadata": {
        "id": "LmCosBZzVsTb"
      }
    },
    {
      "cell_type": "code",
      "source": [
        "x=np.random.rand(4,3)"
      ],
      "metadata": {
        "id": "LPm1KEz111kU"
      },
      "execution_count": null,
      "outputs": []
    },
    {
      "cell_type": "code",
      "source": [
        "x"
      ],
      "metadata": {
        "id": "QFqqVmPDRyoB",
        "outputId": "48a46245-ac57-4c43-e1a4-4e03363c2dac",
        "colab": {
          "base_uri": "https://localhost:8080/"
        }
      },
      "execution_count": 47,
      "outputs": [
        {
          "output_type": "execute_result",
          "data": {
            "text/plain": [
              "array([[0.26410348, 0.79758709, 0.58649913],\n",
              "       [0.48683569, 0.51637913, 0.75480658],\n",
              "       [0.81403247, 0.87914365, 0.3609862 ],\n",
              "       [0.82842831, 0.46713377, 0.75915457]])"
            ]
          },
          "metadata": {},
          "execution_count": 47
        }
      ]
    },
    {
      "cell_type": "code",
      "source": [
        "x[0:2]"
      ],
      "metadata": {
        "id": "AJYeo7ZCR2Q6",
        "outputId": "c43128d2-915c-4c2c-ad19-24a3f5aadeac",
        "colab": {
          "base_uri": "https://localhost:8080/"
        }
      },
      "execution_count": 48,
      "outputs": [
        {
          "output_type": "execute_result",
          "data": {
            "text/plain": [
              "array([[0.26410348, 0.79758709, 0.58649913],\n",
              "       [0.48683569, 0.51637913, 0.75480658]])"
            ]
          },
          "metadata": {},
          "execution_count": 48
        }
      ]
    },
    {
      "cell_type": "code",
      "source": [
        "print(\"Slice of the array:\", x[0:2]) #check Shape\n",
        "print(\"Slice of the array:\", x[1, 1:3])\n",
        "print(\"Slice of the array:\", x[2, 1:-1])"
      ],
      "metadata": {
        "id": "sfgMe6GmU-Ap"
      },
      "execution_count": null,
      "outputs": []
    },
    {
      "cell_type": "markdown",
      "source": [
        "##Boolian Indexing"
      ],
      "metadata": {
        "id": "1XWMMamsuWjM"
      }
    },
    {
      "cell_type": "code",
      "source": [
        "x>0.3"
      ],
      "metadata": {
        "id": "oqL_qE3haQKC",
        "colab": {
          "base_uri": "https://localhost:8080/"
        },
        "outputId": "f74485e5-d96c-470d-985a-9d0dbadf5db0"
      },
      "execution_count": null,
      "outputs": [
        {
          "output_type": "execute_result",
          "data": {
            "text/plain": [
              "array([[False,  True,  True],\n",
              "       [ True, False,  True],\n",
              "       [ True, False, False],\n",
              "       [ True,  True,  True]])"
            ]
          },
          "metadata": {},
          "execution_count": 12
        }
      ]
    },
    {
      "cell_type": "code",
      "source": [
        "x[x>0.3]"
      ],
      "metadata": {
        "id": "ADvhAUvLaBQZ"
      },
      "execution_count": null,
      "outputs": []
    },
    {
      "cell_type": "code",
      "source": [
        "np.where(x>0.3, x, 0)"
      ],
      "metadata": {
        "id": "HQ0dSgigaWxp"
      },
      "execution_count": null,
      "outputs": []
    },
    {
      "cell_type": "markdown",
      "source": [
        "## np.sum()"
      ],
      "metadata": {
        "id": "BJamm2tquf9H"
      }
    },
    {
      "cell_type": "code",
      "source": [
        "a=np.arange(24).reshape(2,3,4)"
      ],
      "metadata": {
        "id": "q313n7HWeTaq"
      },
      "execution_count": 105,
      "outputs": []
    },
    {
      "cell_type": "code",
      "source": [
        "print(a)"
      ],
      "metadata": {
        "id": "noMMuINlgJPB"
      },
      "execution_count": null,
      "outputs": []
    },
    {
      "cell_type": "code",
      "source": [
        "a.sum() #output the sum of all the elements"
      ],
      "metadata": {
        "id": "Jrk5MvO2V2MR"
      },
      "execution_count": null,
      "outputs": []
    },
    {
      "cell_type": "markdown",
      "source": [
        "- `sum(axis=0)` output a matrix of shape (3,4)\n",
        "- `sum(axis=1)` output a matrix of shape (2,4)\n",
        "- `sum(axis=2)` output a matrix of shape (2,3)\n"
      ],
      "metadata": {
        "id": "MpeR1NXrifwh"
      }
    },
    {
      "cell_type": "code",
      "execution_count": null,
      "metadata": {
        "id": "Zb3K0gTCqKwT"
      },
      "outputs": [],
      "source": [
        "a.sum(axis=0)"
      ]
    },
    {
      "cell_type": "code",
      "source": [
        "np.sum(a,axis=1)"
      ],
      "metadata": {
        "id": "TYSq33q6Vrv-"
      },
      "execution_count": null,
      "outputs": []
    },
    {
      "cell_type": "code",
      "source": [
        "a.sum(axis=2) #output the column axis 1 [Sum of each row]"
      ],
      "metadata": {
        "id": "pHMdN1jEWi8b"
      },
      "execution_count": null,
      "outputs": []
    },
    {
      "cell_type": "markdown",
      "source": [
        "#Handling Image Data (3D Matrix)"
      ],
      "metadata": {
        "id": "_tHvWJTp5JAc"
      }
    },
    {
      "cell_type": "markdown",
      "source": [
        "Color images are represented by 3D array corresponding to pixels in width, pixels in height for each of RGB channel. and reshape to a row or column matrix as below."
      ],
      "metadata": {
        "id": "FQRBRVdgeHJM"
      }
    },
    {
      "cell_type": "code",
      "source": [
        "randA=np.random.rand(64*64*3)*255"
      ],
      "metadata": {
        "id": "gfP3wB9N4wfg"
      },
      "execution_count": 119,
      "outputs": []
    },
    {
      "cell_type": "code",
      "source": [
        "image=randA.reshape(64,64,3)\n",
        "image = image.astype('uint8')\n",
        "image"
      ],
      "metadata": {
        "id": "orCPufIfeK5x"
      },
      "execution_count": null,
      "outputs": []
    },
    {
      "cell_type": "code",
      "source": [
        "import matplotlib.pyplot as plt\n",
        "imgplot = plt.imshow(image)"
      ],
      "metadata": {
        "id": "yBnm0IL63Oxe",
        "outputId": "71a8c984-e306-4131-c837-854a27e52bc7",
        "colab": {
          "base_uri": "https://localhost:8080/",
          "height": 432
        }
      },
      "execution_count": 121,
      "outputs": [
        {
          "output_type": "display_data",
          "data": {
            "text/plain": [
              "<Figure size 640x480 with 1 Axes>"
            ],
            "image/png": "[encoded data removed]"
          },
          "metadata": {}
        }
      ]
    },
    {
      "cell_type": "markdown",
      "source": [
        "This represent an color image of $64 \\times 64$ and is stored in array of size (64, 64, 3). The last 3 represent the R, G and B channels. If you observe the `Image` matrix, you can see there are three elements in one/inner array. There are 64 such lines of arrays. These 64 lines of arrays of 3 elemets are further appearing 64 times to complete the `Image` matrix. In `Deep Learning` applications handling images, we call each pixel values as features and need to be converted to a column vector."
      ],
      "metadata": {
        "id": "C7Nug99YyFHZ"
      }
    },
    {
      "cell_type": "code",
      "source": [
        "print(image.shape[0])"
      ],
      "metadata": {
        "id": "oxuv4zAJxt_V"
      },
      "execution_count": null,
      "outputs": []
    },
    {
      "cell_type": "code",
      "source": [
        "print(image[0]) #Check shape"
      ],
      "metadata": {
        "id": "OhSZ01Ef07xA"
      },
      "execution_count": null,
      "outputs": []
    },
    {
      "cell_type": "code",
      "source": [
        "print(image[0][0]) #Check shape"
      ],
      "metadata": {
        "id": "gB1whv1i0sVf"
      },
      "execution_count": null,
      "outputs": []
    },
    {
      "cell_type": "code",
      "source": [
        "print(image[0][0][0]) #Check shape"
      ],
      "metadata": {
        "id": "TOcqaHYz00a4"
      },
      "execution_count": null,
      "outputs": []
    },
    {
      "cell_type": "code",
      "source": [
        "image.reshape(-1,1)"
      ],
      "metadata": {
        "id": "hcM1Q515xra4"
      },
      "execution_count": null,
      "outputs": []
    },
    {
      "cell_type": "code",
      "source": [
        "image.reshape(1,-1)"
      ],
      "metadata": {
        "id": "ogGvI1EIeNSn"
      },
      "execution_count": null,
      "outputs": []
    },
    {
      "cell_type": "code",
      "source": [
        "image"
      ],
      "metadata": {
        "id": "CQRT4dBlxlrR"
      },
      "execution_count": null,
      "outputs": []
    },
    {
      "cell_type": "markdown",
      "source": [
        "#Mathematical Functions"
      ],
      "metadata": {
        "id": "IwCICjkV3UY8"
      }
    },
    {
      "cell_type": "markdown",
      "source": [
        "##Commonly Used Functions\n"
      ],
      "metadata": {
        "id": "BjpVoAl73hPG"
      }
    },
    {
      "cell_type": "markdown",
      "source": [
        "$$y=f(x)$$\n",
        "- Linear Function\n",
        "$$f(x) = wx+b$$\n",
        "$$f(x) = max(0,x)$$\n",
        "- Quadratic Function\n",
        "$$f(x) = 4ax^2+b$$\n",
        "- Exponential Function\n",
        "$$f(x) = \\frac{1}{1+e^{-x}}$$\n",
        "\n",
        "$$f(x_i) = \\frac {e^{x_i}}{\\sum_{j=1}^C{e^{x_j}}}$$\n",
        "\n",
        "- Trignometric Function\n",
        "$$f(x) = tan^{-1}(x)$$\n",
        "- Logrithmic Function\n",
        "$$f(x) = log(x)$$"
      ],
      "metadata": {
        "id": "4BXsbD4TBFXY"
      }
    },
    {
      "cell_type": "markdown",
      "metadata": {
        "id": "XuLV9P_XqKwI"
      },
      "source": [
        "## Sigmoid Function"
      ]
    },
    {
      "cell_type": "markdown",
      "source": [
        "Implement `np.exp()` and `math.exp()` for the sigmoid function and compare.\n",
        "\n",
        "$$sigmoid(x) = \\frac{1}{1+e^{-x}}$$\n",
        "\n",
        "- It takes an input value x and outputs a value between 0 and 1, which can be interpreted as a probability.\n",
        "- The function has an S-shaped curve, mapping the input values to a smooth, non-linear range.\n",
        "- The sigmoid function is commonly used in the last layer of a binary classification task, where the output represents the probability of belonging to a certain class."
      ],
      "metadata": {
        "id": "BBROrlLZUCWX"
      }
    },
    {
      "cell_type": "code",
      "source": [
        "import math"
      ],
      "metadata": {
        "id": "qwAGX22FWus6"
      },
      "execution_count": null,
      "outputs": []
    },
    {
      "cell_type": "code",
      "execution_count": null,
      "metadata": {
        "id": "lfihcHJDqKwL"
      },
      "outputs": [],
      "source": [
        "def sigmoid(z):\n",
        "  return 1/(1+math.exp(-z))\n",
        "sigmoid(1)"
      ]
    },
    {
      "cell_type": "markdown",
      "metadata": {
        "id": "qe4z1dCcqKwN"
      },
      "source": [
        "<span style=\"color:brown\"> **Cannot pass array as an arguement**</span>\n",
        "\n",
        "Give it a try to pass array to find sigmoid function of all the array elements."
      ]
    },
    {
      "cell_type": "code",
      "execution_count": null,
      "metadata": {
        "id": "N9_A3wu-qKwN"
      },
      "outputs": [],
      "source": [
        "#a=np.array([1,2,3])\n",
        "#sigmoid(a)"
      ]
    },
    {
      "cell_type": "code",
      "execution_count": null,
      "metadata": {
        "id": "G2s5uwxHqKwO"
      },
      "outputs": [],
      "source": [
        "def sigmoid(z):\n",
        "  return 1/(1+np.exp(-z))"
      ]
    },
    {
      "cell_type": "code",
      "execution_count": null,
      "metadata": {
        "id": "0-LU3tcrqKwO"
      },
      "outputs": [],
      "source": [
        "# Example\n",
        "x = np.array([-1, 0, 1])\n",
        "output = sigmoid(x)\n",
        "print(output)"
      ]
    },
    {
      "cell_type": "code",
      "execution_count": null,
      "metadata": {
        "id": "2YNFIGmBqKwP"
      },
      "outputs": [],
      "source": [
        "w = np.array([[0.1124579], [0.23106775]])\n",
        "b = -0.3\n",
        "X = np.array([[1., -1.1, -3.2],[1.2, 2., 0.1]])\n",
        "A=sigmoid(np.dot(w.T,X)+b)\n",
        "print(A)"
      ]
    },
    {
      "cell_type": "markdown",
      "source": [
        "##Ploting a Sigmoid Function"
      ],
      "metadata": {
        "id": "er1NjgHNVMQT"
      }
    },
    {
      "cell_type": "code",
      "source": [
        "import matplotlib.pyplot as plt"
      ],
      "metadata": {
        "id": "Kh2AC4i6VoXt"
      },
      "execution_count": null,
      "outputs": []
    },
    {
      "cell_type": "markdown",
      "source": [
        "- use `plt.plot()` to plot the z values against the sigmoid function values (y).\n",
        "- `plt.title()` adds a title to the plot\n",
        "- `plt.xlabel()` and `plt.ylabel()` label the x and y axes\n",
        "- `plt.grid(True)` enable the grid\n",
        "- Finally the plot is displayed `plt.show()`"
      ],
      "metadata": {
        "id": "b3p-WbsBWHcJ"
      }
    },
    {
      "cell_type": "code",
      "source": [
        "# Generate z values\n",
        "z = np.linspace(-10, 10, 100)\n",
        "\n",
        "# Compute sigmoid function for each z value\n",
        "y = sigmoid(z)\n",
        "\n",
        "# Plot the sigmoid function\n",
        "plt.plot(z, y)\n",
        "plt.title('Sigmoid Function')\n",
        "plt.xlabel('z')\n",
        "plt.ylabel('sigmoid(z)')\n",
        "plt.grid(True)\n",
        "plt.show()"
      ],
      "metadata": {
        "id": "X_5r6hhXVLB0"
      },
      "execution_count": null,
      "outputs": []
    },
    {
      "cell_type": "markdown",
      "source": [
        "##ReLU (Rectified Linear Unit)"
      ],
      "metadata": {
        "id": "HexmVWYov9Lj"
      }
    },
    {
      "cell_type": "markdown",
      "source": [
        "- It takes an input value x and returns x if it is positive, and 0 otherwise.\n",
        "- The ReLU function introduces non-linearity to the network by mapping negative values to 0, while leaving positive values unchanged.\n",
        "- ReLU is a popular choice due to its simplicity and ability to mitigate the vanishing gradient problem."
      ],
      "metadata": {
        "id": "IqBimLOLxb43"
      }
    },
    {
      "cell_type": "code",
      "source": [
        "def relu(x):\n",
        "    return np.maximum(0, x)"
      ],
      "metadata": {
        "id": "-6gHoSFwwCt8"
      },
      "execution_count": null,
      "outputs": []
    },
    {
      "cell_type": "code",
      "source": [
        "# Let us consider the three observations\n",
        "x = np.array([-1, 0, 1])\n",
        "output = relu(x)\n",
        "print(output)"
      ],
      "metadata": {
        "id": "-7SllUxzwESN"
      },
      "execution_count": null,
      "outputs": []
    },
    {
      "cell_type": "code",
      "source": [
        "# Generate z values\n",
        "z = np.linspace(-10, 10, 100)\n",
        "\n",
        "# Compute ReLU function for each z value\n",
        "y = relu(z)\n",
        "\n",
        "# Plot the ReLU function\n",
        "plt.plot(z, y)\n",
        "plt.title('ReLU Function')\n",
        "plt.xlabel('z')\n",
        "plt.ylabel('relu(z)')\n",
        "plt.grid(True)\n",
        "plt.show()"
      ],
      "metadata": {
        "id": "DnyEeMYKXFoy"
      },
      "execution_count": null,
      "outputs": []
    },
    {
      "cell_type": "markdown",
      "source": [
        "##Softmax"
      ],
      "metadata": {
        "id": "vH7NEXRaJyUt"
      }
    },
    {
      "cell_type": "markdown",
      "source": [
        "- The softmax function is commonly used in multi-class classification tasks.\n",
        "- Given an input vector x, the softmax function computes the probabilities for each class by exponentiating and normalizing the values.\n",
        "- The softmax function is defined as follows:\n",
        "\n",
        "$$P(C_i) = \\frac {e^{z_i}}{\\sum_{j=1}^C{e^{z_j}}}$$\n",
        "\n",
        "- The output of the softmax function is a probability distribution, ensuring that the sum of the probabilities across all classes is equal to 1."
      ],
      "metadata": {
        "id": "IKfbbC9lJ15k"
      }
    },
    {
      "cell_type": "code",
      "source": [
        "def softmax(x, dim):\n",
        "    x_exp=np.exp(x)\n",
        "    if(dim>1):\n",
        "      x_sum=np.sum(x_exp, axis=1).reshape(x.shape[0],1)\n",
        "    else:\n",
        "      x_sum=np.sum(x_exp)\n",
        "    #print(x_sum)\n",
        "    return x_exp/x_sum"
      ],
      "metadata": {
        "id": "TW7ePRcxPyzQ"
      },
      "execution_count": null,
      "outputs": []
    },
    {
      "cell_type": "code",
      "source": [
        "x = np.array([[9, 2, 5, 0, 0], [7, 5, 0, 0 ,0], [7, 5, 0, 0 ,0]]).T\n",
        "print(x.shape)\n",
        "print(x)\n",
        "s=softmax(x, 2)\n",
        "print(s)"
      ],
      "metadata": {
        "id": "CRDmW7uMP5NQ"
      },
      "execution_count": null,
      "outputs": []
    },
    {
      "cell_type": "code",
      "source": [
        "# Generate x values\n",
        "x = np.linspace(-10, 10, 100)\n",
        "\n",
        "# Compute Softmax function for each x value\n",
        "y = softmax(x,1)\n",
        "\n",
        "print(np.sum(y))\n",
        "print(y)\n",
        "\n",
        "# Plot the Softmax function\n",
        "plt.plot(x, y)\n",
        "plt.title('Softmax Function')\n",
        "plt.xlabel('x')\n",
        "plt.ylabel('softmax(x)')\n",
        "plt.grid(True)\n",
        "plt.show()"
      ],
      "metadata": {
        "id": "3gw3xmIFYEJD"
      },
      "execution_count": null,
      "outputs": []
    },
    {
      "cell_type": "markdown",
      "source": [
        "##Mean Squared Error (MSE) Loss Function"
      ],
      "metadata": {
        "id": "dgRp_OM4wcsW"
      }
    },
    {
      "cell_type": "markdown",
      "source": [
        "Mean Squared Error (MSE) Loss Function:\n",
        "- The Mean Squared Error (MSE) loss function is widely used for regression problems.\n",
        "- It calculates the average squared difference between the predicted values and the true values.\n",
        "- For a set of m predictions $y_{pred}$ and corresponding true values $y_{true}$, the MSE loss is computed as:\n",
        "\n",
        "$$L_{mse}(\\hat{y},y) = \\sum_{i=0}^m( \\hat{y}^{(i)}-y^{(i)})^2$$\n",
        "\n",
        "- The MSE loss penalizes larger errors more than smaller errors due to the squaring operation.\n",
        "- Minimizing the MSE loss encourages the model to produce predictions that are closer to the true values."
      ],
      "metadata": {
        "id": "ZYYxFj9dwyFN"
      }
    },
    {
      "cell_type": "code",
      "source": [
        "def mse_loss(y, yhat):\n",
        "  loss = np.dot(abs(y-yhat).T, abs(y-yhat))/y.shape[0]\n",
        "  #Note that dor product gives you onle scalar.\n",
        "  # We have used y.shape[0] to calculate mean\n",
        "  #loss=np.mean((y - yhat) ** 2)\n",
        "  return loss"
      ],
      "metadata": {
        "id": "rl3Elj-HwfnI"
      },
      "execution_count": null,
      "outputs": []
    },
    {
      "cell_type": "code",
      "source": [
        "# Consider an example for three predictions\n",
        "y_true = np.array([1, 2, 3, 4])\n",
        "y_pred = np.array([1.5, 2.3, 3.2, 3.9])\n",
        "#Try the below statement to show the broadcasting\n",
        "#y_pred = np.array([1.5])\n",
        "#Note that the program will throw an error if the shape of both\n",
        "#y is not same except when either y_pred or y_true is one to facilitate the broadcating\n",
        "loss = mse_loss(y_true, y_pred)\n",
        "print(loss)"
      ],
      "metadata": {
        "id": "A7Q4A0d3w4kr"
      },
      "execution_count": null,
      "outputs": []
    },
    {
      "cell_type": "code",
      "source": [
        "def mse_loss(y_true, y_pred):\n",
        "    return np.mean((y_true - y_pred) ** 2)\n",
        "\n",
        "# Generate y_true values\n",
        "y_true = np.array([2,3,4,6])\n",
        "\n",
        "# Generate a range of y_pred values\n",
        "y_pred = np.linspace(-2, 6, 8)\n",
        "\n",
        "# Compute MSE loss for each y_pred value\n",
        "loss = [mse_loss(y_true, y) for y in y_pred]\n",
        "\n",
        "#Broadcast the y_pred in the mse_loss function to all the elements of y_true.\n",
        "#You can change the number of elements in the y_true from 1 to 10 (say)\n",
        "\n",
        "# Plot the MSE loss curve\n",
        "plt.plot(y_pred, loss)\n",
        "plt.title('Mean Squared Error (MSE) Loss')\n",
        "plt.xlabel('Predicted Values (y_pred)')\n",
        "plt.ylabel('Loss')\n",
        "plt.grid(True)\n",
        "plt.show()"
      ],
      "metadata": {
        "id": "qXWC71z6eQ5u"
      },
      "execution_count": null,
      "outputs": []
    },
    {
      "cell_type": "markdown",
      "source": [
        "- [...]: This is a list comprehension, which is a concise way to create a new list by iterating over a sequence (in this case, the y_pred values) and performing a specific operation for each element.\n",
        "\n",
        "- The list comprehension loss = [mse_loss(y_true, y) for y in y_pred] iterates over each y value in y_pred, computes the Mean Square Error loss using mse_loss(y_true, y), and stores the results in the loss list."
      ],
      "metadata": {
        "id": "BYuwDOP0rq2H"
      }
    },
    {
      "cell_type": "markdown",
      "source": [
        "##Binary Cross-Entropy Loss Function"
      ],
      "metadata": {
        "id": "Qm2aiHpS075o"
      }
    },
    {
      "cell_type": "markdown",
      "source": [
        "- The Binary Cross-Entropy loss function is commonly used for binary classification problems.\n",
        "- It measures the dissimilarity between the predicted probabilities and the true binary labels.\n",
        "- For a set of m predictions y_pred and corresponding true labels y_true, the Binary Cross-Entropy loss is computed as:\n",
        "\n",
        "\n",
        "$$L_{BCE} = -\\frac{1}{m} \\sum_{i=0}^m(ylog(\\hat{y}) + (1 - y)log(1 - \\hat{y}))$$\n",
        "\n",
        "- The BCE loss penalizes models that have large differences between the predicted probabilities and the true labels.\n",
        "- Minimizing the BCE loss encourages the model to assign higher probabilities to the correct class."
      ],
      "metadata": {
        "id": "t81E3Hmv05Fd"
      }
    },
    {
      "cell_type": "code",
      "source": [
        "def binary_cross_entropy(y_true, y_pred):\n",
        "    return -np.mean(y_true * np.log(y_pred) + (1 - y_true) * np.log(1 - y_pred))\n"
      ],
      "metadata": {
        "id": "JHHWWj8tJA3m"
      },
      "execution_count": null,
      "outputs": []
    },
    {
      "cell_type": "code",
      "source": [
        "y_true = np.array([0, 1, 1])\n",
        "y_pred = np.array([0.3, 0.9, 0.7])\n",
        "loss = binary_cross_entropy(y_true, y_pred)\n",
        "print(loss)"
      ],
      "metadata": {
        "id": "IWIY3R62JSdA"
      },
      "execution_count": null,
      "outputs": []
    },
    {
      "cell_type": "code",
      "source": [
        "# Generate y_true and y_pred values\n",
        "y_true = np.array([1, 0, 1, 0, 1])\n",
        "y_pred = np.linspace(0.01, 0.99, 100)\n",
        "\n",
        "# Compute Cross-Entropy loss for each y_true and y_pred pair\n",
        "loss = [binary_cross_entropy(y_true, y) for y in y_pred]\n",
        "\n",
        "# Plot the Cross-Entropy loss\n",
        "plt.plot(y_pred, loss)\n",
        "plt.title('Cross-Entropy Loss')\n",
        "plt.xlabel('Predicted Probability (y_pred)')\n",
        "plt.ylabel('Loss')\n",
        "plt.grid(True)\n",
        "plt.show()"
      ],
      "metadata": {
        "id": "HNl0oSq0siJq",
        "colab": {
          "base_uri": "https://localhost:8080/",
          "height": 472
        },
        "outputId": "3f1e3d0b-0767-4751-d87a-eae8da2f9667"
      },
      "execution_count": null,
      "outputs": [
        {
          "output_type": "display_data",
          "data": {
            "text/plain": [
              "<Figure size 640x480 with 1 Axes>"
            ],
            "image/png": "[encoded data removed]"
          },
          "metadata": {}
        }
      ]
    },
    {
      "cell_type": "markdown",
      "source": [
        "##Categorical Cross-Entropy Loss Function"
      ],
      "metadata": {
        "id": "UPy9DUA33E0C"
      }
    },
    {
      "cell_type": "markdown",
      "source": [
        "- The Categorical Cross-Entropy loss function is commonly used for multi-class classification problems.\n",
        "- It measures the dissimilarity between the predicted class probabilities and the true class labels.\n",
        "- For a set of m predictions y_pred and corresponding true labels y_true, the Categorical Cross-Entropy loss is computed as:\n",
        "\n",
        "$$L_{CCE} = -\\frac{1}{m} \\sum (y) log(\\hat{y})$$\n",
        "\n",
        "- The CCE loss penalizes models that have low probabilities for the correct class.\n",
        "- Minimizing the CCE loss encourages the model to assign higher probabilities to the correct classes."
      ],
      "metadata": {
        "id": "IdwKYqBQ3CRU"
      }
    },
    {
      "cell_type": "markdown",
      "source": [
        "#Linear Algebra Functions"
      ],
      "metadata": {
        "id": "Z0jv6UKmXSOg"
      }
    },
    {
      "cell_type": "markdown",
      "source": [
        "##Normalization"
      ],
      "metadata": {
        "id": "WKbuGqgJuMmE"
      }
    },
    {
      "cell_type": "markdown",
      "metadata": {
        "id": "Z2_PXHnNqKwQ"
      },
      "source": [
        "Row Normalization is done by dividing each element of row of a given vector x by its norm based on row.\n",
        "\n",
        "It is changing x to $ \\frac{x}{\\| x\\|} $.\n",
        "\n",
        "We get a column vector of norm if we take the square root of the sum of squares of each row elements. Then divide each row by its norm to normalize rows.\n",
        "\n",
        "\n",
        "$$\\| x\\| = \\text{np.linalg.norm(x, axis=1, keepdims=True)}$$\n",
        "\n",
        "With `keepdims=True` the result will broadcast correctly against the original x.\n",
        "\n",
        "`axis=1` means you are going to get the norm in a row-wise manner. If you need the norm in a column-wise way, you would need to set `axis=0`."
      ]
    },
    {
      "cell_type": "code",
      "execution_count": null,
      "metadata": {
        "id": "VOg8k8ApqKwQ"
      },
      "outputs": [],
      "source": [
        "x = np.array([[0, 3, 4],[1, 6, 4]])\n",
        "x_norm=np.linalg.norm(x, axis=1, keepdims=True)\n",
        "x=x/x_norm\n",
        "print(\"Norm \", x_norm, \"\\nnormalizeRows(x) = \", x)"
      ]
    },
    {
      "cell_type": "markdown",
      "source": [
        "##Determinant and Inverse"
      ],
      "metadata": {
        "id": "cyISPDyjcX3d"
      }
    },
    {
      "cell_type": "code",
      "source": [
        "x = np.array([[0, 3, 4],[1, 6, 4], [3,2,7]])"
      ],
      "metadata": {
        "id": "i1Ca_l_aZWD6"
      },
      "execution_count": null,
      "outputs": []
    },
    {
      "cell_type": "code",
      "source": [
        "np.linalg.det(x)"
      ],
      "metadata": {
        "id": "mNq-Kf_8ZEAG"
      },
      "execution_count": null,
      "outputs": []
    },
    {
      "cell_type": "code",
      "source": [
        "np.linalg.inv(x)"
      ],
      "metadata": {
        "id": "_-sBiMowZJsS"
      },
      "execution_count": null,
      "outputs": []
    }
  ],
  "metadata": {
    "interpreter": {
      "hash": "aee8b7b246df8f9039afb4144a1f6fd8d2ca17a180786b69acc140d282b71a49"
    },
    "kernelspec": {
      "display_name": "Python 3.7.9 64-bit",
      "language": "python",
      "name": "python3"
    },
    "language_info": {
      "codemirror_mode": {
        "name": "ipython",
        "version": 3
      },
      "file_extension": ".py",
      "mimetype": "text/x-python",
      "name": "python",
      "nbconvert_exporter": "python",
      "pygments_lexer": "ipython3",
      "version": "3.7.9"
    },
    "orig_nbformat": 4,
    "colab": {
      "name": "03numpyFunctions.ipynb",
      "provenance": [],
      "toc_visible": true,
      "include_colab_link": true
    }
  },
  "nbformat": 4,
  "nbformat_minor": 0
}