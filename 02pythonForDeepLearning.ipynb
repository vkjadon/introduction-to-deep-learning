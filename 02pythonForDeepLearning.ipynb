{
  "cells": [
    {
      "cell_type": "markdown",
      "metadata": {
        "id": "view-in-github",
        "colab_type": "text"
      },
      "source": [
        "<a href=\"https://colab.research.google.com/github/vkjadon/introduction-to-deep-learning/blob/main/02pythonForDeepLearning.ipynb\" target=\"_parent\"><img src=\"https://colab.research.google.com/assets/colab-badge.svg\" alt=\"Open In Colab\"/></a>"
      ]
    },
    {
      "cell_type": "markdown",
      "source": [
        "#Python for Deep Learning"
      ],
      "metadata": {
        "id": "YP3mN3XD7fRv"
      }
    },
    {
      "cell_type": "markdown",
      "source": [
        "##Lambda Function\n"
      ],
      "metadata": {
        "id": "9iHHJ0PWw5jr"
      }
    },
    {
      "cell_type": "markdown",
      "source": [
        "A lambda function, also known as an anonymous function, is a small and concise function in Python that doesn't require a defined name. It is defined using the lambda keyword, followed by the function arguements, a colon (:), and the expression to be evaluated.\n",
        "\n",
        "Here are a few examples to illustrate the usage of lambda functions:"
      ],
      "metadata": {
        "id": "6LxHchaUx87y"
      }
    },
    {
      "cell_type": "code",
      "source": [
        "def sum(a,b):\n",
        "  return a+b"
      ],
      "metadata": {
        "id": "7D2b6b9Pw8H-"
      },
      "execution_count": 1,
      "outputs": []
    },
    {
      "cell_type": "code",
      "source": [
        "print(sum(10,17))"
      ],
      "metadata": {
        "id": "UtCt1SxoxD2A",
        "outputId": "1f34f319-f890-4ade-c6f2-197ba0ccf33b",
        "colab": {
          "base_uri": "https://localhost:8080/"
        }
      },
      "execution_count": 2,
      "outputs": [
        {
          "output_type": "stream",
          "name": "stdout",
          "text": [
            "27\n"
          ]
        }
      ]
    },
    {
      "cell_type": "code",
      "source": [
        "add = lambda a, b: a + b\n",
        "result = add(3, 4)\n",
        "print(result)  # Output: 7"
      ],
      "metadata": {
        "id": "F-gZ4Hg2xG9n",
        "outputId": "6b4e0f38-d291-456e-f306-0c00eabfbfe7",
        "colab": {
          "base_uri": "https://localhost:8080/"
        }
      },
      "execution_count": 3,
      "outputs": [
        {
          "output_type": "stream",
          "name": "stdout",
          "text": [
            "7\n"
          ]
        }
      ]
    },
    {
      "cell_type": "code",
      "source": [
        "square = lambda x: x ** 2\n",
        "result = square(5)\n",
        "print(result)  # Output: 25"
      ],
      "metadata": {
        "id": "bQ2qRp4gz_qq",
        "outputId": "8d520304-7b21-42dd-d1a1-4ecf26443721",
        "colab": {
          "base_uri": "https://localhost:8080/"
        }
      },
      "execution_count": 5,
      "outputs": [
        {
          "output_type": "stream",
          "name": "stdout",
          "text": [
            "25\n"
          ]
        }
      ]
    },
    {
      "cell_type": "code",
      "source": [
        "(lambda a, b: a + b)(1,2)"
      ],
      "metadata": {
        "id": "4B1C9LXLy-dJ",
        "outputId": "21b5ae80-783c-405a-c340-5ab07292ded9",
        "colab": {
          "base_uri": "https://localhost:8080/"
        }
      },
      "execution_count": 4,
      "outputs": [
        {
          "output_type": "execute_result",
          "data": {
            "text/plain": [
              "3"
            ]
          },
          "metadata": {},
          "execution_count": 4
        }
      ]
    },
    {
      "cell_type": "markdown",
      "source": [
        "The expression (lambda a, b: a + b)(1, 2) represents an Immediately Invoked Function Expression (IIFE) in Python. It creates an anonymous function that takes two arguments a and b and returns their sum. The function is then immediately invoked with the arguments 1 and 2."
      ],
      "metadata": {
        "id": "ZqGVmvOszYf7"
      }
    },
    {
      "cell_type": "code",
      "source": [
        "#Keyword arguement\n",
        "expression = lambda a, b, c : a * (b + c)\n",
        "result = expression(3, c=10, b=5)\n",
        "print(result)"
      ],
      "metadata": {
        "id": "3Qe0dpcEzHQv",
        "outputId": "dc951c48-7261-4b3c-83bd-c0c173c6133d",
        "colab": {
          "base_uri": "https://localhost:8080/"
        }
      },
      "execution_count": 16,
      "outputs": [
        {
          "output_type": "stream",
          "name": "stdout",
          "text": [
            "45\n"
          ]
        }
      ]
    },
    {
      "cell_type": "code",
      "source": [
        "#Default arguement\n",
        "expression = lambda a, b, c=8 : a * (b + c)\n",
        "#expression = lambda a, b=20, c : a * (b + c) #Will throw an error\n",
        "result = expression(3, 10)\n",
        "print(result)"
      ],
      "metadata": {
        "id": "el5J2DnJ2Cjl",
        "outputId": "054209b4-3263-43d7-ce89-97279adaf56e",
        "colab": {
          "base_uri": "https://localhost:8080/"
        }
      },
      "execution_count": 20,
      "outputs": [
        {
          "output_type": "stream",
          "name": "stdout",
          "text": [
            "54\n"
          ]
        }
      ]
    },
    {
      "cell_type": "code",
      "source": [
        "data = [(2, 'Apple'), (3, 'Orange'), (1, 'Banana')]\n",
        "sorted_data = sorted(data, key=lambda x: x[1])\n",
        "print(sorted_data)  # Output: [(2, 'Apple'), (1, 'Banana'), (3, 'Orange')]"
      ],
      "metadata": {
        "id": "10vFGZDE3B-I",
        "outputId": "f04a7841-d835-4b74-abb9-5448883a79d0",
        "colab": {
          "base_uri": "https://localhost:8080/"
        }
      },
      "execution_count": 21,
      "outputs": [
        {
          "output_type": "stream",
          "name": "stdout",
          "text": [
            "[(2, 'Apple'), (1, 'Banana'), (3, 'Orange')]\n"
          ]
        }
      ]
    },
    {
      "cell_type": "markdown",
      "source": [
        "In this example, we have a list of tuples called data. We want to sort the list based on the second element of each tuple (i.e., the fruit name). We use a lambda function as the key parameter in the sorted() function, specifying that we want to sort based on x[1], which represents the second element of each tuple. The resulting sorted list is printed."
      ],
      "metadata": {
        "id": "awIzZhXP3Ou8"
      }
    },
    {
      "cell_type": "code",
      "source": [],
      "metadata": {
        "id": "cILuEgwC5w-u"
      },
      "execution_count": null,
      "outputs": []
    },
    {
      "cell_type": "markdown",
      "source": [
        "##Higher Order Functions"
      ],
      "metadata": {
        "id": "J1m1t4Ki8xnx"
      }
    },
    {
      "cell_type": "markdown",
      "source": [
        "A higher-order function is a function that can take one or more functions as arguments and/or return a function as its result. In other words, it treats functions as first-class citizens, allowing them to be passed around and manipulated just like any other data type.\n",
        "\n",
        "Some common examples of higher-order functions in Python include map(), filter(), and reduce(). These functions can take other functions as arguments to perform operations on iterable objects.\n",
        "\n",
        "Here's an example to illustrate the concept of a higher-order function:"
      ],
      "metadata": {
        "id": "fwnfcnLw813F"
      }
    },
    {
      "cell_type": "code",
      "source": [
        "def double(x):\n",
        "    return x * 2\n",
        "\n",
        "def apply_operation(func, num):\n",
        "    return func(num)\n",
        "\n",
        "result = apply_operation(double, 5)\n",
        "print(result)  # Output: 10\n"
      ],
      "metadata": {
        "id": "Kd3rmSXQ9SSF"
      },
      "execution_count": null,
      "outputs": []
    },
    {
      "cell_type": "markdown",
      "source": [
        "In this example, double is a function that takes a number and returns its double. The apply_operation function is a higher-order function that takes a function func and a number num. It calls the provided function func with the given number num and returns the result.\n",
        "\n",
        "We can pass the double function as an argument to apply_operation and provide a number (5 in this case). The apply_operation function will then call the double function with the provided number, resulting in 10, which is printed as the output.\n",
        "\n",
        "Higher-order functions are powerful because they allow for code reuse, modularity, and the ability to abstract and manipulate behavior. They enable functional programming paradigms and can lead to more concise and expressive code."
      ],
      "metadata": {
        "id": "gXBY77qC9fhj"
      }
    },
    {
      "cell_type": "code",
      "source": [
        "func_ho = lambda x, func : x + func(x)\n",
        "func_ho(3,lambda x : x**2)"
      ],
      "metadata": {
        "id": "CfCeffGv_LWO",
        "outputId": "2c4a9b51-0f22-4270-b7f3-fae152a6dc35",
        "colab": {
          "base_uri": "https://localhost:8080/"
        }
      },
      "execution_count": 37,
      "outputs": [
        {
          "output_type": "execute_result",
          "data": {
            "text/plain": [
              "12"
            ]
          },
          "metadata": {},
          "execution_count": 37
        }
      ]
    },
    {
      "cell_type": "code",
      "source": [
        "func_ho(3, double)"
      ],
      "metadata": {
        "id": "OmUrMwin_0pG",
        "outputId": "05ce6281-9947-43f0-f369-dd903a4dea58",
        "colab": {
          "base_uri": "https://localhost:8080/"
        }
      },
      "execution_count": 38,
      "outputs": [
        {
          "output_type": "execute_result",
          "data": {
            "text/plain": [
              "9"
            ]
          },
          "metadata": {},
          "execution_count": 38
        }
      ]
    },
    {
      "cell_type": "markdown",
      "source": [
        "\n",
        "**map()** - Applies a function to each element of an iterable and returns a new iterable with the transformed values."
      ],
      "metadata": {
        "id": "cSCmibrf97YW"
      }
    },
    {
      "cell_type": "code",
      "source": [
        "numbers = [1, 2, 3, 4, 5]\n",
        "squared_numbers = map(lambda x: x**2, numbers)\n",
        "print(list(squared_numbers))  # Output: [1, 4, 9, 16, 25]"
      ],
      "metadata": {
        "id": "QsA1oY0L-Jlj",
        "outputId": "e7f58177-34ac-465f-f11d-88add955f328",
        "colab": {
          "base_uri": "https://localhost:8080/"
        }
      },
      "execution_count": 39,
      "outputs": [
        {
          "output_type": "stream",
          "name": "stdout",
          "text": [
            "[1, 4, 9, 16, 25]\n"
          ]
        }
      ]
    },
    {
      "cell_type": "markdown",
      "source": [
        "**filter()** - Filters elements from an iterable based on a condition defined by a lambda function and returns a new iterable with the filtered values."
      ],
      "metadata": {
        "id": "tk_FO0ex-N3u"
      }
    },
    {
      "cell_type": "code",
      "source": [
        "numbers = [1, 2, 3, 4, 5]\n",
        "even_numbers = filter(lambda x: x % 2 == 0, numbers)\n",
        "print(list(even_numbers))  # Output: [2, 4]\n"
      ],
      "metadata": {
        "id": "kmAq-_Eo-Vaj",
        "outputId": "dbbc8a54-9541-4dab-8140-820f8f5c869d",
        "colab": {
          "base_uri": "https://localhost:8080/"
        }
      },
      "execution_count": 34,
      "outputs": [
        {
          "output_type": "stream",
          "name": "stdout",
          "text": [
            "[2, 4]\n"
          ]
        }
      ]
    },
    {
      "cell_type": "markdown",
      "source": [
        "**reduce()** - Applies a function to the elements of an iterable in a cumulative way and returns a single value."
      ],
      "metadata": {
        "id": "STlMzuxu-a_Y"
      }
    },
    {
      "cell_type": "code",
      "source": [
        "from functools import reduce\n",
        "numbers = [1, 2, 3, 4, 5]\n",
        "product = reduce(lambda x, y: x * y, numbers)\n",
        "print(product)  # Output: 120\n"
      ],
      "metadata": {
        "id": "5HHxQ4_l-gzH",
        "outputId": "7e8f36da-43d6-43dc-eb64-e1d20807ecd8",
        "colab": {
          "base_uri": "https://localhost:8080/"
        }
      },
      "execution_count": 35,
      "outputs": [
        {
          "output_type": "stream",
          "name": "stdout",
          "text": [
            "120\n"
          ]
        }
      ]
    },
    {
      "cell_type": "markdown",
      "source": [
        "**sorted()** - Sorts the elements of an iterable based on a comparison defined by a lambda function and returns a new list."
      ],
      "metadata": {
        "id": "QzAmc50v-ntJ"
      }
    },
    {
      "cell_type": "code",
      "source": [
        "fruits = ['apple', 'banana', 'cherry', 'durian']\n",
        "sorted_fruits = sorted(fruits, key=lambda x: len(x))\n",
        "print(sorted_fruits)  # Output: ['apple', 'banana', 'cherry', 'durian']\n"
      ],
      "metadata": {
        "id": "s81utu46-qJi",
        "outputId": "64c4eaff-1081-4e12-ea58-5b30cad4827e",
        "colab": {
          "base_uri": "https://localhost:8080/"
        }
      },
      "execution_count": 36,
      "outputs": [
        {
          "output_type": "stream",
          "name": "stdout",
          "text": [
            "['apple', 'banana', 'cherry', 'durian']\n"
          ]
        }
      ]
    },
    {
      "cell_type": "markdown",
      "source": [
        "##List Comprehension"
      ],
      "metadata": {
        "id": "vzlVR6Gh8dDV"
      }
    },
    {
      "cell_type": "code",
      "source": [
        "numbers = [1, 2, 3, 4, 5, 6]\n",
        "results = [\"odd\" if x % 2 != 0 else \"even\" for x in numbers]\n",
        "print(results)\n"
      ],
      "metadata": {
        "id": "6ehQtYGN5wSZ",
        "outputId": "c6513261-8f52-41db-9bf7-1ef9447be83d",
        "colab": {
          "base_uri": "https://localhost:8080/"
        }
      },
      "execution_count": 31,
      "outputs": [
        {
          "output_type": "stream",
          "name": "stdout",
          "text": [
            "['odd', 'even', 'odd', 'even', 'odd', 'even']\n"
          ]
        }
      ]
    },
    {
      "cell_type": "markdown",
      "source": [
        "#OOP in Python for Deep Learning"
      ],
      "metadata": {
        "id": "e6H2vb6OBweQ"
      }
    },
    {
      "cell_type": "code",
      "source": [
        "class Layer:\n",
        "  def __inti__(self):\n",
        "    self.input=None\n",
        "\n",
        "  def forward(self, input):\n",
        "    self.input = input\n",
        "    print(\"This is the Forward Method of base class for Layer\")\n",
        "    return None\n"
      ],
      "metadata": {
        "id": "XwShb0AFB1_2"
      },
      "execution_count": 54,
      "outputs": []
    },
    {
      "cell_type": "code",
      "source": [
        "import numpy as np"
      ],
      "metadata": {
        "id": "J1UMLQSaNcNz"
      },
      "execution_count": 43,
      "outputs": []
    },
    {
      "cell_type": "code",
      "source": [
        "class Dense(Layer):\n",
        "  def __init__(self, input_size, output_size):\n",
        "    self.weights = np.random.randn(output_size, input_size)\n",
        "    self.bias = np.random.randn(output_size, 1)\n",
        "\n",
        "  def forward(self, input):\n",
        "    self.input = input\n",
        "    print(\"This is the Forward Method of Dense Layer\")\n",
        "    return np.dot(self.weights, self.input) + self.bias"
      ],
      "metadata": {
        "id": "ECgTbaGOK9ag"
      },
      "execution_count": 59,
      "outputs": []
    },
    {
      "cell_type": "code",
      "source": [
        "L1=Layer()\n",
        "L1.forward(3)\n",
        "L2=Dense(3,2)\n",
        "L2.weights\n",
        "L2.forward(3)"
      ],
      "metadata": {
        "id": "Z9u4mrVXPUsA",
        "outputId": "f6de3911-f5bb-464e-e111-9faac0642351",
        "colab": {
          "base_uri": "https://localhost:8080/"
        }
      },
      "execution_count": 61,
      "outputs": [
        {
          "output_type": "stream",
          "name": "stdout",
          "text": [
            "This is the Forward Method of base class for Layer\n",
            "This is the Forward Method of Dense Layer\n"
          ]
        },
        {
          "output_type": "execute_result",
          "data": {
            "text/plain": [
              "array([[ 1.70912621, -4.66404511,  0.44218798],\n",
              "       [-6.77092943,  3.75453537, -1.95353889]])"
            ]
          },
          "metadata": {},
          "execution_count": 61
        }
      ]
    },
    {
      "cell_type": "code",
      "source": [],
      "metadata": {
        "id": "zUEhALlbPYkO"
      },
      "execution_count": null,
      "outputs": []
    }
  ],
  "metadata": {
    "interpreter": {
      "hash": "aee8b7b246df8f9039afb4144a1f6fd8d2ca17a180786b69acc140d282b71a49"
    },
    "kernelspec": {
      "display_name": "Python 3.7.9 64-bit",
      "language": "python",
      "name": "python3"
    },
    "language_info": {
      "codemirror_mode": {
        "name": "ipython",
        "version": 3
      },
      "file_extension": ".py",
      "mimetype": "text/x-python",
      "name": "python",
      "nbconvert_exporter": "python",
      "pygments_lexer": "ipython3",
      "version": "3.7.9"
    },
    "orig_nbformat": 4,
    "colab": {
      "name": "03numpyFunctions.ipynb",
      "provenance": [],
      "toc_visible": true,
      "include_colab_link": true
    }
  },
  "nbformat": 4,
  "nbformat_minor": 0
}