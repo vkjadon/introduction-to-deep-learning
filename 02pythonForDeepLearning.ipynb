{
  "cells": [
    {
      "cell_type": "markdown",
      "metadata": {
        "id": "view-in-github",
        "colab_type": "text"
      },
      "source": [
        "<a href=\"https://colab.research.google.com/github/vkjadon/introduction-to-deep-learning/blob/main/02pythonForDeepLearning.ipynb\" target=\"_parent\"><img src=\"https://colab.research.google.com/assets/colab-badge.svg\" alt=\"Open In Colab\"/></a>"
      ]
    },
    {
      "cell_type": "markdown",
      "source": [
        "#Python for Deep Learning : NumPy Library"
      ],
      "metadata": {
        "id": "YP3mN3XD7fRv"
      }
    },
    {
      "cell_type": "markdown",
      "source": [
        "Welcome to the session on \"Python for Deep Learning\". Deep Learning delas with huge data and NumPy is a very powerful and popular Python library. We will discuss various capabilities of NumPy in this session using the Google Colaboratory online resource for writting the Python Code.\n",
        "Lets get started!"
      ],
      "metadata": {
        "id": "kIslAF3U7lJ7"
      }
    },
    {
      "cell_type": "markdown",
      "source": [
        "- Open the Google Coab using Google Search"
      ],
      "metadata": {
        "id": "iACSOdNa8jEj"
      }
    },
    {
      "cell_type": "markdown",
      "source": [
        "# Matrix Fundamentals"
      ],
      "metadata": {
        "id": "8n2waimFN5EX"
      }
    },
    {
      "cell_type": "markdown",
      "source": [
        "<font color=\"brown\">NumPy stands for “Numerical Python”.</font>\n",
        "\n",
        "It is a tool suited for array oriented computing efficiently.\n",
        "\n",
        "The “numpy array” uses less memory than python list and also the execution time is faster.\n",
        "\n",
        "The internal type of numpy array is “ndarray”.\n",
        "\n",
        "$A_{m,n} =\\begin{pmatrix}\n",
        "  a_{1,1} & a_{1,2} & \\cdots & a_{1,n} \\\\\n",
        "  a_{2,1} & a_{2,2} & \\cdots & a_{2,n} \\\\\n",
        "  \\vdots  & \\vdots  & \\ddots & \\vdots  \\\\\n",
        "  a_{m,1} & a_{m,2} & \\cdots & a_{m,n}\n",
        " \\end{pmatrix}$\n",
        "\n",
        "- The shape of this matrix is $m \\times n$\n",
        "\n",
        "- If we use $i, j$ as the indices to indicate an array element; then, for coding purposes $i$ will from $0$ to $m-1$ and $j$ will be from $0$ to $n-1$.\n",
        "\n",
        "- We start by importing the NumPy library"
      ],
      "metadata": {
        "id": "95VlFCjYLb_C"
      }
    },
    {
      "cell_type": "markdown",
      "source": [
        "## Assigning Array"
      ],
      "metadata": {
        "id": "uEj8B8cY_hci"
      }
    },
    {
      "cell_type": "code",
      "execution_count": 1,
      "metadata": {
        "id": "BAnycimeqKwK"
      },
      "outputs": [],
      "source": [
        "# Import the NumPy library\n",
        "import numpy as np"
      ]
    },
    {
      "cell_type": "markdown",
      "source": [
        "In deep learning, we often work with large datasets. NumPy arrays provide efficient storage and manipulation of numerical data.\n",
        "Let us create a two-dimensional NumPy array."
      ],
      "metadata": {
        "id": "1SC34KAkNCxO"
      }
    },
    {
      "cell_type": "code",
      "source": [
        "#1D array of 3 elements\n",
        "#arr1D = np.array([1,2,3])\n",
        "array1D = np.array([(1,2,3)])\n",
        "#In NumPy, this 2D matrix has Two axes\n",
        "#First axis length is 2 and Second axis length is 3 (2L,3L)\n",
        "array2D = np.array([(1,2,3),(4,5,6)])"
      ],
      "metadata": {
        "id": "PQBmYm-1ND_i"
      },
      "execution_count": null,
      "outputs": []
    },
    {
      "cell_type": "code",
      "source": [
        "print(array1D)\n",
        "print(\"Type of 1D Array array1D \", type(array1D))\n",
        "print('Shape of 1D Array array1D', array1D.shape)\n",
        "print('Size of 1D Array array1D', array1D.size)\n",
        "print('Dimension of 1D Array array1D', array1D.ndim)\n",
        "print(\"Type of data of elements of 1D Array array1D \", array1D.dtype)"
      ],
      "metadata": {
        "id": "0pbdcaOgtegW",
        "colab": {
          "base_uri": "https://localhost:8080/"
        },
        "outputId": "4c08deb6-782d-4159-9dc2-67ea322da13e"
      },
      "execution_count": null,
      "outputs": [
        {
          "output_type": "stream",
          "name": "stdout",
          "text": [
            "[[1 2 3]]\n",
            "Type of 1D Array array1D  <class 'numpy.ndarray'>\n",
            "Shape of 1D Array array1D (1, 3)\n",
            "Size of 1D Array array1D 3\n",
            "Dimension of 1D Array array1D 2\n",
            "Type of data of elements of 1D Array array1D  int64\n"
          ]
        }
      ]
    },
    {
      "cell_type": "code",
      "source": [
        "print(array2D)\n",
        "print(\"Type of 2D Array array2D \", type(array2D))\n",
        "print('Shape of 2D Array array2D', array2D.shape)\n",
        "print('Size of 2D Array array2D', array2D.size)\n",
        "print('Dimension of 2D Array array2D', array2D.ndim)\n",
        "print(\"Type of data of elements of 2D Array array2D \", array2D.dtype)"
      ],
      "metadata": {
        "id": "oZ045nEvuNwT"
      },
      "execution_count": null,
      "outputs": []
    },
    {
      "cell_type": "markdown",
      "source": [
        "We can see there are two arrays of size 3 in the outer array. This understanding will help to understand the 3D arrays."
      ],
      "metadata": {
        "id": "FSve_lACuhTq"
      }
    },
    {
      "cell_type": "markdown",
      "source": [
        "##Reshaping Matrices"
      ],
      "metadata": {
        "id": "RXYfdzyvpr3M"
      }
    },
    {
      "cell_type": "markdown",
      "source": [
        "You can reshape the matrixA using the reshape() function in NumPy. Reshaping allows you to change the shape or dimensions of an array while maintaining the same number of elements. So, we can reshape the 'matrixA' into another matrix of equal total numebr of elements. Otherwise, it will throw an error. We can specify one dimension by '-1' for the unknown shape. The Numpy will compute that on its own if exists.\n",
        "- We can use `.T` to transpose the matrix."
      ],
      "metadata": {
        "id": "J2fKUtb2QjvZ"
      }
    },
    {
      "cell_type": "code",
      "source": [
        "#array2D.T\n",
        "#array2D\n",
        "array2D.reshape(6,-1)\n",
        "#array2D.reshape(3,2,-1)\n",
        "#array2D.reshape(3,4)\n",
        "#array2D.shape\n",
        "#array2D"
      ],
      "metadata": {
        "id": "mqDqHPOPPdqN"
      },
      "execution_count": null,
      "outputs": []
    },
    {
      "cell_type": "markdown",
      "source": [
        "##Accessing Array Elements"
      ],
      "metadata": {
        "id": "aDUiTwOCR_a7"
      }
    },
    {
      "cell_type": "markdown",
      "source": [
        "We can access arrays/elements of an array using indexing, just like in regular Python lists. For a 1D array first element is at index 0 and for 2D array first row at index 0 and first element is at index 0, 0 to specify row and column."
      ],
      "metadata": {
        "id": "DYygciIr_MuN"
      }
    },
    {
      "cell_type": "code",
      "source": [
        "a=np.arange(12).reshape(3,4)"
      ],
      "metadata": {
        "id": "3CqFrHkXazBK"
      },
      "execution_count": null,
      "outputs": []
    },
    {
      "cell_type": "code",
      "source": [
        "# Access rows of the array\n",
        "print(\"2D Array: \", a)\n",
        "print(\"Row [First row at index 0] :\", a[0])\n",
        "print(\"Last row:\", a[-1])"
      ],
      "metadata": {
        "id": "0D86GGxGSAxh",
        "colab": {
          "base_uri": "https://localhost:8080/"
        },
        "outputId": "9a0c43f1-bbc2-4e2f-d311-4dace495efbe"
      },
      "execution_count": null,
      "outputs": [
        {
          "output_type": "stream",
          "name": "stdout",
          "text": [
            "2D Array:  [[ 0  1  2  3]\n",
            " [ 4  5  6  7]\n",
            " [ 8  9 10 11]]\n",
            "Row [First row at index 0] : [0 1 2 3]\n",
            "Last row: [ 8  9 10 11]\n"
          ]
        }
      ]
    },
    {
      "cell_type": "code",
      "source": [
        "# Access elements of the array\n",
        "print(\"First element:\", a[0,0], \"\\nLast element:\", a[1,-1])"
      ],
      "metadata": {
        "id": "cl0EFX2hSS6v",
        "colab": {
          "base_uri": "https://localhost:8080/"
        },
        "outputId": "8fbcec79-e28d-4f49-9d7d-1fbe3f3a8ec9"
      },
      "execution_count": null,
      "outputs": [
        {
          "output_type": "stream",
          "name": "stdout",
          "text": [
            "First element: 0 \n",
            "Last element: 7\n"
          ]
        }
      ]
    },
    {
      "cell_type": "code",
      "source": [
        "a=np.arange(18).reshape(3,2,3)"
      ],
      "metadata": {
        "id": "8MsWhgFsaI1z"
      },
      "execution_count": null,
      "outputs": []
    },
    {
      "cell_type": "code",
      "source": [
        "a"
      ],
      "metadata": {
        "colab": {
          "base_uri": "https://localhost:8080/"
        },
        "id": "ox1PU6gQaYRa",
        "outputId": "126d57b0-9501-4780-ba60-99af15e22b57"
      },
      "execution_count": null,
      "outputs": [
        {
          "output_type": "execute_result",
          "data": {
            "text/plain": [
              "array([[[ 0,  1,  2],\n",
              "        [ 3,  4,  5]],\n",
              "\n",
              "       [[ 6,  7,  8],\n",
              "        [ 9, 10, 11]],\n",
              "\n",
              "       [[12, 13, 14],\n",
              "        [15, 16, 17]]])"
            ]
          },
          "metadata": {},
          "execution_count": 98
        }
      ]
    },
    {
      "cell_type": "code",
      "source": [
        "a[1][1][0]"
      ],
      "metadata": {
        "colab": {
          "base_uri": "https://localhost:8080/"
        },
        "id": "5F54RVNoaSFh",
        "outputId": "28ec781a-9ad4-47fe-f1c0-b935a7f51aa7"
      },
      "execution_count": null,
      "outputs": [
        {
          "output_type": "execute_result",
          "data": {
            "text/plain": [
              "9"
            ]
          },
          "metadata": {},
          "execution_count": 96
        }
      ]
    },
    {
      "cell_type": "code",
      "source": [
        "a=np.arange(36).reshape(2,3,2,3)"
      ],
      "metadata": {
        "id": "Ifg7eqCfP17h"
      },
      "execution_count": null,
      "outputs": []
    },
    {
      "cell_type": "code",
      "source": [
        "a"
      ],
      "metadata": {
        "colab": {
          "base_uri": "https://localhost:8080/"
        },
        "id": "8uF1cx4GWvai",
        "outputId": "981b38d3-3503-48fa-efe1-1b12a3ffbc7f"
      },
      "execution_count": null,
      "outputs": [
        {
          "output_type": "execute_result",
          "data": {
            "text/plain": [
              "array([[[[ 0,  1,  2],\n",
              "         [ 3,  4,  5]],\n",
              "\n",
              "        [[ 6,  7,  8],\n",
              "         [ 9, 10, 11]],\n",
              "\n",
              "        [[12, 13, 14],\n",
              "         [15, 16, 17]]],\n",
              "\n",
              "\n",
              "       [[[18, 19, 20],\n",
              "         [21, 22, 23]],\n",
              "\n",
              "        [[24, 25, 26],\n",
              "         [27, 28, 29]],\n",
              "\n",
              "        [[30, 31, 32],\n",
              "         [33, 34, 35]]]])"
            ]
          },
          "metadata": {},
          "execution_count": 101
        }
      ]
    },
    {
      "cell_type": "code",
      "source": [
        "a[1]"
      ],
      "metadata": {
        "colab": {
          "base_uri": "https://localhost:8080/"
        },
        "id": "ujoVlinTYga0",
        "outputId": "dd77cdd1-2af2-4400-8b7d-a9a8147d56d0"
      },
      "execution_count": null,
      "outputs": [
        {
          "output_type": "execute_result",
          "data": {
            "text/plain": [
              "array([[[18, 19, 20],\n",
              "        [21, 22, 23]],\n",
              "\n",
              "       [[24, 25, 26],\n",
              "        [27, 28, 29]],\n",
              "\n",
              "       [[30, 31, 32],\n",
              "        [33, 34, 35]]])"
            ]
          },
          "metadata": {},
          "execution_count": 104
        }
      ]
    },
    {
      "cell_type": "markdown",
      "source": [
        "# Creating a NumPy array"
      ],
      "metadata": {
        "id": "RJ82SZPcTW0x"
      }
    },
    {
      "cell_type": "markdown",
      "source": [
        " ## arange() function"
      ],
      "metadata": {
        "id": "sNJ77qzZ_vGw"
      }
    },
    {
      "cell_type": "markdown",
      "source": [
        "`arange([start,] stop[, step], [, dtype=None])`\n",
        "\n",
        "**arange** returns evenly spaced values within a given interval starting from first optional parameter and within the `stop` value.\n",
        "If only one parameter is given, it is assumed as `stop` and the `start` is automatically set to 0.\n",
        "If the `step` is not given, it is set to `1` but if `step` is given, the `start` parameter cannot be optional, i.e. it has to be given as well.\n",
        "The `step` sets the spacing between two adjacent values of the output array."
      ],
      "metadata": {
        "id": "zQX3AiBnTy88"
      }
    },
    {
      "cell_type": "code",
      "source": [
        "dayTemperature=np.arange(6)\n",
        "#Gives 6 values starting from 0 and default interval of 1\n",
        "print(dayTemperature)"
      ],
      "metadata": {
        "id": "7b0CzpyIXuFt"
      },
      "execution_count": null,
      "outputs": []
    },
    {
      "cell_type": "code",
      "source": [
        "dayTemperature=np.arange(22,30,1)\n",
        "#First Value is 22 and it stops at 30, So 30 is not included\n",
        "print(dayTemperature)"
      ],
      "metadata": {
        "id": "E9wRQLfHXwSg"
      },
      "execution_count": null,
      "outputs": []
    },
    {
      "cell_type": "code",
      "source": [
        "dayTemperature=np.arange(25)\n",
        "#First Value is 0 and it gives 25 output with default interval of 1\n",
        "print(dayTemperature)"
      ],
      "metadata": {
        "id": "cdPunCeKX4Zr"
      },
      "execution_count": null,
      "outputs": []
    },
    {
      "cell_type": "code",
      "source": [
        "np.arange(12).reshape(4,3)"
      ],
      "metadata": {
        "id": "7Wb75j4RYFN4"
      },
      "execution_count": null,
      "outputs": []
    },
    {
      "cell_type": "markdown",
      "source": [
        "##linspace() Function\n"
      ],
      "metadata": {
        "id": "8GqaqQQOTgpC"
      }
    },
    {
      "cell_type": "markdown",
      "source": [
        "`linspace(start, stop, num=50, endpoint=True, retstep=False)`\n",
        "\n",
        "<font color='brown'>create NumPy array using linspacebar</font>\n",
        "\n",
        "Array of linearly spaced values defined by `num` including `start` and `stop`\n",
        "\n",
        "<font color='brown'>default value of num is 50</font>"
      ],
      "metadata": {
        "id": "u2aDzpbRT420"
      }
    },
    {
      "cell_type": "code",
      "source": [
        "dayTemperature=np.linspace(20,30,11)\n",
        "print(dayTemperature)"
      ],
      "metadata": {
        "id": "i0t0-0kvX757"
      },
      "execution_count": null,
      "outputs": []
    },
    {
      "cell_type": "code",
      "source": [
        "dayTemperature, spacing=np.linspace(20,30, 20, endpoint=True, retstep=True)\n",
        "print(dayTemperature, spacing)"
      ],
      "metadata": {
        "id": "EfOvvcc2X8zt"
      },
      "execution_count": null,
      "outputs": []
    },
    {
      "cell_type": "markdown",
      "source": [
        "##Random Functions"
      ],
      "metadata": {
        "id": "XqzZ5hJ4YNal"
      }
    },
    {
      "cell_type": "markdown",
      "source": [
        "Use `np.random.rand` to create an array of the given shape and populate it with random samples from a uniform distribution over [0, 1)."
      ],
      "metadata": {
        "id": "bX-Ox8pwYLhp"
      }
    },
    {
      "cell_type": "code",
      "source": [
        "np.random.rand(4,2)"
      ],
      "metadata": {
        "id": "ZIFiEXxyYaow"
      },
      "execution_count": null,
      "outputs": []
    },
    {
      "cell_type": "markdown",
      "source": [
        "We can multiply by a factor if we wand higher magnitude. For example, if we need random number up to 255, we can do so as below:"
      ],
      "metadata": {
        "id": "XeT370BuwqIe"
      }
    },
    {
      "cell_type": "code",
      "source": [
        "np.random.rand(4,2)*255"
      ],
      "metadata": {
        "id": "BsV01b5HxJ0S"
      },
      "execution_count": null,
      "outputs": []
    },
    {
      "cell_type": "markdown",
      "source": [
        "Use `np.random.randn` to generates an array of given shape, filled with random floats sampled from a univariate “normal” (Gaussian) distribution of mean 0 and variance 1."
      ],
      "metadata": {
        "id": "6pGUUxCEYe2b"
      }
    },
    {
      "cell_type": "code",
      "source": [
        "np.random.randn(3,4)"
      ],
      "metadata": {
        "id": "YVV3MNPWYjUD"
      },
      "execution_count": null,
      "outputs": []
    },
    {
      "cell_type": "code",
      "source": [
        "np.random.randint(3,6)"
      ],
      "metadata": {
        "id": "zvNk62swX4wI",
        "outputId": "8c20fd25-222d-4d5f-ec8b-bfa470dbf4a9",
        "colab": {
          "base_uri": "https://localhost:8080/"
        }
      },
      "execution_count": null,
      "outputs": [
        {
          "output_type": "execute_result",
          "data": {
            "text/plain": [
              "3"
            ]
          },
          "metadata": {},
          "execution_count": 153
        }
      ]
    },
    {
      "cell_type": "code",
      "source": [
        "np.random.randint(3,6, size=(2,4))"
      ],
      "metadata": {
        "id": "TQ8PUwugYFFG"
      },
      "execution_count": null,
      "outputs": []
    },
    {
      "cell_type": "markdown",
      "source": [
        "##Zeros, Ones and Full"
      ],
      "metadata": {
        "id": "wsxcp2JxlUtW"
      }
    },
    {
      "cell_type": "code",
      "source": [
        "np.zeros((3,3,2))"
      ],
      "metadata": {
        "id": "Br2fAWJAldFd"
      },
      "execution_count": null,
      "outputs": []
    },
    {
      "cell_type": "code",
      "source": [
        "np.ones((3,2,4))"
      ],
      "metadata": {
        "id": "y59Il03mmOAe"
      },
      "execution_count": null,
      "outputs": []
    },
    {
      "cell_type": "code",
      "source": [
        "np.full((2,3,4),4)"
      ],
      "metadata": {
        "id": "iBbICoU0mRG8"
      },
      "execution_count": null,
      "outputs": []
    },
    {
      "cell_type": "markdown",
      "source": [
        "#Matrix Operations"
      ],
      "metadata": {
        "id": "WVYSfZ-UcQw4"
      }
    },
    {
      "cell_type": "markdown",
      "source": [
        "##Element wise Operation"
      ],
      "metadata": {
        "id": "ZCAs9PofZvSm"
      }
    },
    {
      "cell_type": "markdown",
      "source": [
        "`multiply()`, `add()`, `subtract()` and `divide()`\n",
        "\n",
        "- To perform element-wise multiplication, the dimension of both the arrays must be the same.\n",
        "- The otherwise the broadcating can be used."
      ],
      "metadata": {
        "id": "j8bVik8ccly3"
      }
    },
    {
      "cell_type": "code",
      "source": [
        "#a=np.random.randn(4,3)\n",
        "a=np.random.randn(3,2)\n",
        "b=np.random.randn(3,2)\n",
        "mult=np.multiply(a,b)\n",
        "add=np.add(a,b)\n",
        "sub=np.subtract(a,b)\n",
        "div=np.divide(a,b)"
      ],
      "metadata": {
        "id": "SwolFUM0cvh3"
      },
      "execution_count": null,
      "outputs": []
    },
    {
      "cell_type": "code",
      "source": [],
      "metadata": {
        "id": "DDZh3D-YB_Um"
      },
      "execution_count": null,
      "outputs": []
    },
    {
      "cell_type": "markdown",
      "source": [
        "##Arithmatic Functions"
      ],
      "metadata": {
        "id": "4TmESG89F9IW"
      }
    },
    {
      "cell_type": "code",
      "source": [
        "np.sqrt(abs(np.exp(a)))"
      ],
      "metadata": {
        "id": "9eGs4tMeFOhe"
      },
      "execution_count": null,
      "outputs": []
    },
    {
      "cell_type": "code",
      "source": [
        "np.log(abs(np.power(a,3)))"
      ],
      "metadata": {
        "id": "COipTcIKHcIT"
      },
      "execution_count": null,
      "outputs": []
    },
    {
      "cell_type": "code",
      "source": [
        "np.min(a)"
      ],
      "metadata": {
        "id": "GyOOPjR5GUEK"
      },
      "execution_count": null,
      "outputs": []
    },
    {
      "cell_type": "code",
      "source": [
        "np.mean(a)"
      ],
      "metadata": {
        "id": "8HACj-jZb1RY"
      },
      "execution_count": null,
      "outputs": []
    },
    {
      "cell_type": "code",
      "source": [
        "np.max(a)"
      ],
      "metadata": {
        "id": "BdOj3-yCb31S"
      },
      "execution_count": null,
      "outputs": []
    },
    {
      "cell_type": "markdown",
      "source": [
        "##append() and insert()"
      ],
      "metadata": {
        "id": "BjmhqDITH-ga"
      }
    },
    {
      "cell_type": "code",
      "source": [
        "ones=np.ones(5)\n",
        "zeros=np.zeros(5)"
      ],
      "metadata": {
        "id": "fAD4xZ6AIDEN"
      },
      "execution_count": null,
      "outputs": []
    },
    {
      "cell_type": "code",
      "source": [
        "np.append(ones,zeros)"
      ],
      "metadata": {
        "colab": {
          "base_uri": "https://localhost:8080/"
        },
        "id": "NHmF2jgRncCV",
        "outputId": "6bedf5e0-97f2-40c5-957c-8df360e4409d"
      },
      "execution_count": null,
      "outputs": [
        {
          "output_type": "execute_result",
          "data": {
            "text/plain": [
              "array([1., 1., 1., 1., 1., 0., 0., 0., 0., 0.])"
            ]
          },
          "metadata": {},
          "execution_count": 7
        }
      ]
    },
    {
      "cell_type": "code",
      "source": [
        "np.append(ones,[2,4])"
      ],
      "metadata": {
        "id": "ITf77KJxIeqB",
        "colab": {
          "base_uri": "https://localhost:8080/"
        },
        "outputId": "8e18fc02-381f-4dde-86fc-2e3ae0d8b69f"
      },
      "execution_count": null,
      "outputs": [
        {
          "output_type": "execute_result",
          "data": {
            "text/plain": [
              "array([1., 1., 1., 1., 1., 2., 4.])"
            ]
          },
          "metadata": {},
          "execution_count": 8
        }
      ]
    },
    {
      "cell_type": "code",
      "source": [
        "np.insert(ones, 3, [4,3]) #inserted at the index specified"
      ],
      "metadata": {
        "id": "jVSw59NhIoAg",
        "colab": {
          "base_uri": "https://localhost:8080/"
        },
        "outputId": "67266b9a-d952-4792-dffb-14c93bef8bc9"
      },
      "execution_count": null,
      "outputs": [
        {
          "output_type": "execute_result",
          "data": {
            "text/plain": [
              "array([1., 1., 1., 4., 3., 1., 1.])"
            ]
          },
          "metadata": {},
          "execution_count": 9
        }
      ]
    },
    {
      "cell_type": "markdown",
      "source": [
        "## Broadcasting"
      ],
      "metadata": {
        "id": "6vwyfts3umkX"
      }
    },
    {
      "cell_type": "code",
      "source": [
        "print(a)\n",
        "b=a+3\n",
        "print(b)\n",
        "b=b*7\n",
        "print(b)"
      ],
      "metadata": {
        "id": "RcbQItkPeBFk"
      },
      "execution_count": null,
      "outputs": []
    },
    {
      "cell_type": "code",
      "source": [
        "a=np.random.rand(3,4)\n",
        "b=np.random.rand(4,1)\n",
        "c=a+b.T\n",
        "print(\"Shape of a+b.T \",c.shape)\n",
        "c=a.T+b\n",
        "print(\"Shape of a.T+b \",c.shape)"
      ],
      "metadata": {
        "id": "rNGaWE2Mdq99"
      },
      "execution_count": null,
      "outputs": []
    },
    {
      "cell_type": "code",
      "execution_count": null,
      "metadata": {
        "id": "5K1pvF11qKwT"
      },
      "outputs": [],
      "source": [
        "percent=100*a/np.sum(a)\n",
        "print(percent)"
      ]
    },
    {
      "cell_type": "code",
      "execution_count": null,
      "metadata": {
        "id": "L6MYRxA6qKwU"
      },
      "outputs": [],
      "source": [
        "x = np.array([18, 2, 5, 3, 20]).reshape(5,1)\n",
        "y = np.array([9, 14, 15, 3, -200]).reshape(5,1)\n",
        "z=100*(abs(y-x))/x\n",
        "print(z)"
      ]
    },
    {
      "cell_type": "code",
      "source": [
        "a.shape==(2,3)\n",
        "\n",
        "b.shape==(2,3)\n",
        "b.shape==(2,1)\n",
        "b.shape==(1,3)\n",
        "b.shape==(3,)\n",
        "\n",
        "b.shape==(3,2)\n",
        "b.shape==(2,)\n",
        "\n"
      ],
      "metadata": {
        "id": "TyV9fOZrsAe6"
      },
      "execution_count": null,
      "outputs": []
    },
    {
      "cell_type": "code",
      "source": [
        "a.shape==(1000,256,256,256)\n",
        "\n",
        "b.shape==(1000,256,256,256)\n",
        "b.shape==(1000,1,256,256)\n",
        "b.shape==(1000,1,1,256)\n",
        "b.shape==(1,256,256,256)\n",
        "b.shape==(1,256,256)\n",
        "b.shape==(256,1)\n",
        "\n",
        "b.shape==(1000,256,256)\n",
        "\n"
      ],
      "metadata": {
        "id": "yxdTiN66shnh"
      },
      "execution_count": null,
      "outputs": []
    },
    {
      "cell_type": "markdown",
      "source": [
        "##Dot Product"
      ],
      "metadata": {
        "id": "WxeoMg7eZ4hD"
      }
    },
    {
      "cell_type": "markdown",
      "source": [
        "- To perform `dot product` on two muti-dimension arrays, the last dimension of the first array should be equal to last but one dimension of second array. So check `a.shape[-1]==b.shape[-2]`"
      ],
      "metadata": {
        "id": "YAqYZGzBdZNK"
      }
    },
    {
      "cell_type": "code",
      "source": [
        "a=np.random.randint(1,10, size=(4,6))\n",
        "b=np.random.randint(1,10, size=(6,2))"
      ],
      "metadata": {
        "id": "_VleDq5QX1ZE"
      },
      "execution_count": null,
      "outputs": []
    },
    {
      "cell_type": "code",
      "source": [
        "print(a.shape[-1], b.shape[-2])\n",
        "a.shape[-1] == b.shape[-2]"
      ],
      "metadata": {
        "id": "1yhaqA8KdYy6",
        "colab": {
          "base_uri": "https://localhost:8080/"
        },
        "outputId": "5cc24b0c-170b-402e-c990-74ef2fc76ea7"
      },
      "execution_count": null,
      "outputs": [
        {
          "output_type": "stream",
          "name": "stdout",
          "text": [
            "6 6\n"
          ]
        },
        {
          "output_type": "execute_result",
          "data": {
            "text/plain": [
              "True"
            ]
          },
          "metadata": {},
          "execution_count": 174
        }
      ]
    },
    {
      "cell_type": "code",
      "source": [
        "if(a.shape[1] == b.shape[0]):\n",
        "  c=np.dot(a,b)\n",
        "  print(c, c.shape)\n",
        "else:\n",
        "  print(\"The columns and rows condition not satisfied\")"
      ],
      "metadata": {
        "id": "Wlvu9y5NdkWo",
        "colab": {
          "base_uri": "https://localhost:8080/"
        },
        "outputId": "8368b440-69e5-4cba-de81-5db6c80307ab"
      },
      "execution_count": null,
      "outputs": [
        {
          "output_type": "stream",
          "name": "stdout",
          "text": [
            "[[196 268]\n",
            " [226 272]\n",
            " [208 250]\n",
            " [126 158]] (4, 2)\n"
          ]
        }
      ]
    },
    {
      "cell_type": "code",
      "source": [
        "a=np.arange(10)\n",
        "b=np.arange(10)\n",
        "cDot=np.dot(a,b)\n",
        "print(cDot)"
      ],
      "metadata": {
        "id": "TTe4kfZAD0nF",
        "outputId": "dfabb4fb-22ad-450f-e405-ffd3cd55d8f5",
        "colab": {
          "base_uri": "https://localhost:8080/"
        }
      },
      "execution_count": null,
      "outputs": [
        {
          "output_type": "stream",
          "name": "stdout",
          "text": [
            "285\n"
          ]
        }
      ]
    },
    {
      "cell_type": "markdown",
      "source": [
        "##Slicing\n"
      ],
      "metadata": {
        "id": "7J28UgNqx68t"
      }
    },
    {
      "cell_type": "markdown",
      "source": [
        "**Colon Operator**.\n",
        "\n",
        "Slicing is used to take desired elements of an array starting from one given index to another given index.\n",
        "\n",
        "`[start : end: step]` for 1D array.\n",
        "\n",
        "- **`start`** is inclusive and **`end`** is exclusive\n",
        "\n",
        "- If we don't pass `start` its considered 0\n",
        "\n",
        "- If we don't pass end its considered length of array in that dimension\n",
        "\n",
        "- If we don't pass `step` its considered 1"
      ],
      "metadata": {
        "id": "jYU8ut2j_abf"
      }
    },
    {
      "cell_type": "code",
      "source": [
        "x = np.array([18, 2, 5, 3, 20, 4, 8, 18, 12])"
      ],
      "metadata": {
        "id": "AA6UU-uzycph"
      },
      "execution_count": null,
      "outputs": []
    },
    {
      "cell_type": "code",
      "source": [
        "x[:]"
      ],
      "metadata": {
        "colab": {
          "base_uri": "https://localhost:8080/"
        },
        "id": "mLAolEb9epdK",
        "outputId": "cac9b980-4cf8-41c1-b5d4-d62e86629086"
      },
      "execution_count": null,
      "outputs": [
        {
          "output_type": "execute_result",
          "data": {
            "text/plain": [
              "array([18,  2,  5,  3, 20,  4,  8, 18, 12])"
            ]
          },
          "metadata": {},
          "execution_count": 146
        }
      ]
    },
    {
      "cell_type": "code",
      "source": [
        "x[3:] #All after index 3 including index 3"
      ],
      "metadata": {
        "colab": {
          "base_uri": "https://localhost:8080/"
        },
        "id": "IJnpdFQXQgsF",
        "outputId": "8739976d-0559-446e-effc-75a9a15d8c97"
      },
      "execution_count": null,
      "outputs": [
        {
          "output_type": "execute_result",
          "data": {
            "text/plain": [
              "array([ 3, 20,  4,  8, 18, 12])"
            ]
          },
          "metadata": {},
          "execution_count": 147
        }
      ]
    },
    {
      "cell_type": "code",
      "source": [
        "x[:4] #All before index 4 excluding index 4."
      ],
      "metadata": {
        "colab": {
          "base_uri": "https://localhost:8080/"
        },
        "id": "hYNSZU8KQp3y",
        "outputId": "f324a54f-9068-4b22-a499-611a1f02eb8f"
      },
      "execution_count": null,
      "outputs": [
        {
          "output_type": "execute_result",
          "data": {
            "text/plain": [
              "array([18,  2,  5,  3])"
            ]
          },
          "metadata": {},
          "execution_count": 148
        }
      ]
    },
    {
      "cell_type": "code",
      "source": [
        "x[1:7]"
      ],
      "metadata": {
        "colab": {
          "base_uri": "https://localhost:8080/"
        },
        "id": "OFWzq_EIRMlT",
        "outputId": "23cfecc6-1acf-49ee-8936-2fe44ba24db1"
      },
      "execution_count": null,
      "outputs": [
        {
          "output_type": "execute_result",
          "data": {
            "text/plain": [
              "array([ 2,  5,  3, 20,  4,  8])"
            ]
          },
          "metadata": {},
          "execution_count": 149
        }
      ]
    },
    {
      "cell_type": "code",
      "source": [
        "x[1:7:2]"
      ],
      "metadata": {
        "colab": {
          "base_uri": "https://localhost:8080/"
        },
        "id": "aUaCGEytexdQ",
        "outputId": "18b3af39-24c3-4aad-db02-7982b6f00c10"
      },
      "execution_count": null,
      "outputs": [
        {
          "output_type": "execute_result",
          "data": {
            "text/plain": [
              "array([2, 3, 4])"
            ]
          },
          "metadata": {},
          "execution_count": 150
        }
      ]
    },
    {
      "cell_type": "markdown",
      "source": [
        "We use [`start` : `end`: `step` , `start` : `end`: `step` ] for 2D array."
      ],
      "metadata": {
        "id": "LmCosBZzVsTb"
      }
    },
    {
      "cell_type": "code",
      "source": [
        "x=np.arange(20).reshape(4,5)\n",
        "x"
      ],
      "metadata": {
        "id": "LPm1KEz111kU",
        "colab": {
          "base_uri": "https://localhost:8080/"
        },
        "outputId": "cd0dec8f-292b-498b-c36f-adfb72443114"
      },
      "execution_count": null,
      "outputs": [
        {
          "output_type": "execute_result",
          "data": {
            "text/plain": [
              "array([[ 0,  1,  2,  3,  4],\n",
              "       [ 5,  6,  7,  8,  9],\n",
              "       [10, 11, 12, 13, 14],\n",
              "       [15, 16, 17, 18, 19]])"
            ]
          },
          "metadata": {},
          "execution_count": 179
        }
      ]
    },
    {
      "cell_type": "markdown",
      "source": [
        "If we want [[5,6],[10,11]].\n",
        "\n",
        "For this we will take\n",
        "- 1:3 for the row\n",
        "- 0:2 for the column"
      ],
      "metadata": {
        "id": "J_m7cFIfgrGy"
      }
    },
    {
      "cell_type": "code",
      "source": [
        "x[1:3,0:2]"
      ],
      "metadata": {
        "id": "AJYeo7ZCR2Q6"
      },
      "execution_count": null,
      "outputs": []
    },
    {
      "cell_type": "markdown",
      "source": [
        "If we want [[12,13,14],[17,18,19]].\n",
        "\n",
        "For this we will take\n",
        "- 2:4 or 2: for the row\n",
        "- 2:5 or 2: for the column"
      ],
      "metadata": {
        "id": "jOougra8hqRa"
      }
    },
    {
      "cell_type": "code",
      "source": [
        "x[2:4, 2:5]"
      ],
      "metadata": {
        "colab": {
          "base_uri": "https://localhost:8080/"
        },
        "id": "lLrEkWBMid5T",
        "outputId": "1b09f812-44b7-41ea-f1a9-d9c70a00446b"
      },
      "execution_count": null,
      "outputs": [
        {
          "output_type": "execute_result",
          "data": {
            "text/plain": [
              "array([[12, 13, 14],\n",
              "       [17, 18, 19]])"
            ]
          },
          "metadata": {},
          "execution_count": 185
        }
      ]
    },
    {
      "cell_type": "code",
      "source": [
        "print(\"Slice of the array:\", x[0:2]) #check Shape\n",
        "print(\"Slice of the array:\", x[1, 1:3])\n",
        "print(\"Slice of the array:\", x[2, 1:-1])"
      ],
      "metadata": {
        "id": "sfgMe6GmU-Ap"
      },
      "execution_count": null,
      "outputs": []
    },
    {
      "cell_type": "markdown",
      "source": [
        "**3D array Slicing**"
      ],
      "metadata": {
        "id": "vmPkcVGQjaZH"
      }
    },
    {
      "cell_type": "code",
      "source": [
        "x=np.arange(24).reshape(2,3,4)\n",
        "x"
      ],
      "metadata": {
        "id": "16Gm4kMcjesM",
        "outputId": "91e75496-5213-4c85-8e5d-eac1b56ee3fa",
        "colab": {
          "base_uri": "https://localhost:8080/"
        }
      },
      "execution_count": null,
      "outputs": [
        {
          "output_type": "execute_result",
          "data": {
            "text/plain": [
              "array([[[ 0,  1,  2,  3],\n",
              "        [ 4,  5,  6,  7],\n",
              "        [ 8,  9, 10, 11]],\n",
              "\n",
              "       [[12, 13, 14, 15],\n",
              "        [16, 17, 18, 19],\n",
              "        [20, 21, 22, 23]]])"
            ]
          },
          "metadata": {},
          "execution_count": 188
        }
      ]
    },
    {
      "cell_type": "markdown",
      "source": [
        "shape=2, 3, 4 means $i=2; j=3$ and $k=4$ where $i, j, k$ represent axis 0,1 and 2 respectively. There are two arrays of shape (3, 4) along axis 0."
      ],
      "metadata": {
        "id": "CePogUwXj4T-"
      }
    },
    {
      "cell_type": "markdown",
      "source": [
        "If we want [[13,14],[17,18]].\n",
        "\n",
        "For this we will take\n",
        "- 1: for axis 0 ($i$) as we are working on second array (channel). There are two channels along axis 0.\n",
        "- 0:2 for the row (axis 1 or $j$)\n",
        "- 1:3 for the column (axis 2 or $k$)"
      ],
      "metadata": {
        "id": "UlQmYsk7k9dq"
      }
    },
    {
      "cell_type": "code",
      "source": [
        "x[1:,0:2,1:3]"
      ],
      "metadata": {
        "id": "JHtnrsYPk9Hn",
        "outputId": "a459e61b-255e-44dd-b7bd-3fa49f4a07a3",
        "colab": {
          "base_uri": "https://localhost:8080/"
        }
      },
      "execution_count": null,
      "outputs": [
        {
          "output_type": "execute_result",
          "data": {
            "text/plain": [
              "array([[[13, 14],\n",
              "        [17, 18]]])"
            ]
          },
          "metadata": {},
          "execution_count": 189
        }
      ]
    },
    {
      "cell_type": "markdown",
      "source": [
        "##Boolian Indexing"
      ],
      "metadata": {
        "id": "1XWMMamsuWjM"
      }
    },
    {
      "cell_type": "code",
      "source": [
        "x>0.3"
      ],
      "metadata": {
        "id": "oqL_qE3haQKC",
        "colab": {
          "base_uri": "https://localhost:8080/"
        },
        "outputId": "f74485e5-d96c-470d-985a-9d0dbadf5db0"
      },
      "execution_count": null,
      "outputs": [
        {
          "output_type": "execute_result",
          "data": {
            "text/plain": [
              "array([[False,  True,  True],\n",
              "       [ True, False,  True],\n",
              "       [ True, False, False],\n",
              "       [ True,  True,  True]])"
            ]
          },
          "metadata": {},
          "execution_count": 12
        }
      ]
    },
    {
      "cell_type": "code",
      "source": [
        "x[x>0.3]"
      ],
      "metadata": {
        "id": "ADvhAUvLaBQZ"
      },
      "execution_count": null,
      "outputs": []
    },
    {
      "cell_type": "code",
      "source": [
        "np.where(x>0.3, x, 0)"
      ],
      "metadata": {
        "id": "HQ0dSgigaWxp"
      },
      "execution_count": null,
      "outputs": []
    },
    {
      "cell_type": "markdown",
      "source": [
        "## np.sum()"
      ],
      "metadata": {
        "id": "BJamm2tquf9H"
      }
    },
    {
      "cell_type": "code",
      "source": [
        "a=np.arange(24).reshape(2,3,4)"
      ],
      "metadata": {
        "id": "q313n7HWeTaq"
      },
      "execution_count": null,
      "outputs": []
    },
    {
      "cell_type": "code",
      "source": [
        "print(a)"
      ],
      "metadata": {
        "id": "noMMuINlgJPB"
      },
      "execution_count": null,
      "outputs": []
    },
    {
      "cell_type": "code",
      "source": [
        "a.sum() #output the sum of all the elements"
      ],
      "metadata": {
        "id": "Jrk5MvO2V2MR"
      },
      "execution_count": null,
      "outputs": []
    },
    {
      "cell_type": "markdown",
      "source": [
        "- `sum(axis=0)` output a matrix of shape (3,4)\n",
        "- `sum(axis=1)` output a matrix of shape (2,4)\n",
        "- `sum(axis=2)` output a matrix of shape (2,3)\n"
      ],
      "metadata": {
        "id": "MpeR1NXrifwh"
      }
    },
    {
      "cell_type": "code",
      "execution_count": null,
      "metadata": {
        "id": "Zb3K0gTCqKwT"
      },
      "outputs": [],
      "source": [
        "a.sum(axis=0)"
      ]
    },
    {
      "cell_type": "code",
      "source": [
        "np.sum(a,axis=1)"
      ],
      "metadata": {
        "id": "TYSq33q6Vrv-"
      },
      "execution_count": null,
      "outputs": []
    },
    {
      "cell_type": "code",
      "source": [
        "a.sum(axis=2) #output the column axis 1 [Sum of each row]"
      ],
      "metadata": {
        "id": "pHMdN1jEWi8b"
      },
      "execution_count": null,
      "outputs": []
    },
    {
      "cell_type": "markdown",
      "source": [
        "#Handling Image Data (3D Matrix)"
      ],
      "metadata": {
        "id": "_tHvWJTp5JAc"
      }
    },
    {
      "cell_type": "markdown",
      "source": [
        "##Create Image"
      ],
      "metadata": {
        "id": "fMxP2SERJsSa"
      }
    },
    {
      "cell_type": "markdown",
      "source": [
        "Color images are represented by 3D array corresponding to pixels in height, pixels in width for each of RGB channel. and reshape to a row or column matrix as below."
      ],
      "metadata": {
        "id": "FQRBRVdgeHJM"
      }
    },
    {
      "cell_type": "code",
      "source": [
        "randA=np.random.rand(24*64*3)*255"
      ],
      "metadata": {
        "id": "gfP3wB9N4wfg"
      },
      "execution_count": 26,
      "outputs": []
    },
    {
      "cell_type": "code",
      "source": [
        "image=randA.reshape(24,64,3)\n",
        "image = image.astype('uint8')\n",
        "image"
      ],
      "metadata": {
        "id": "orCPufIfeK5x"
      },
      "execution_count": null,
      "outputs": []
    },
    {
      "cell_type": "markdown",
      "source": [
        "This represent an color image of $64 \\times 64$ and is stored in array of size (64, 64, 3). The last 3 represent the R, G and B channels. If you observe the `Image` matrix, you can see there are three elements in one/inner array. There are 64 such lines of arrays. These 64 lines of arrays of 3 elemets are further appearing 64 times to complete the `Image` matrix. In `Deep Learning` applications handling images, we call each pixel values as features and need to be converted to a column vector."
      ],
      "metadata": {
        "id": "C7Nug99YyFHZ"
      }
    },
    {
      "cell_type": "code",
      "source": [
        "image"
      ],
      "metadata": {
        "id": "oxuv4zAJxt_V"
      },
      "execution_count": null,
      "outputs": []
    },
    {
      "cell_type": "code",
      "source": [
        "image[0][0].shape #Check shape"
      ],
      "metadata": {
        "id": "OhSZ01Ef07xA"
      },
      "execution_count": null,
      "outputs": []
    },
    {
      "cell_type": "code",
      "source": [
        "image[0][0] #Check shape"
      ],
      "metadata": {
        "id": "gB1whv1i0sVf"
      },
      "execution_count": null,
      "outputs": []
    },
    {
      "cell_type": "code",
      "source": [
        "image[0][0][0] #Check shape"
      ],
      "metadata": {
        "id": "TOcqaHYz00a4"
      },
      "execution_count": null,
      "outputs": []
    },
    {
      "cell_type": "code",
      "source": [
        "image.reshape(-1,1)"
      ],
      "metadata": {
        "id": "hcM1Q515xra4"
      },
      "execution_count": null,
      "outputs": []
    },
    {
      "cell_type": "code",
      "source": [
        "image.reshape(1,-1)"
      ],
      "metadata": {
        "id": "ogGvI1EIeNSn"
      },
      "execution_count": null,
      "outputs": []
    },
    {
      "cell_type": "code",
      "source": [
        "image"
      ],
      "metadata": {
        "id": "CQRT4dBlxlrR"
      },
      "execution_count": null,
      "outputs": []
    },
    {
      "cell_type": "markdown",
      "source": [
        "##Plot NumPy Array Image using Matplotlib"
      ],
      "metadata": {
        "id": "vZta1wD8JvTE"
      }
    },
    {
      "cell_type": "code",
      "source": [
        "import matplotlib.pyplot as plt\n",
        "imgplot = plt.imshow(image)"
      ],
      "metadata": {
        "id": "yBnm0IL63Oxe",
        "colab": {
          "base_uri": "https://localhost:8080/",
          "height": 248
        },
        "outputId": "c643d803-241d-4cbd-a80e-c588a42669d7"
      },
      "execution_count": 31,
      "outputs": [
        {
          "output_type": "display_data",
          "data": {
            "text/plain": [
              "<Figure size 640x480 with 1 Axes>"
            ],
            "image/png": "[encoded data removed]"
          },
          "metadata": {}
        }
      ]
    },
    {
      "cell_type": "markdown",
      "source": [
        "In the above example, we created a dummy image but in deep learning we are given with the images and we may require to render these images. We can use PIL library to import the image. Let us first import an image into our session from button available at top left corner of the 'File/Folder' menu. This uploded image will be destroyed once we close the session."
      ],
      "metadata": {
        "id": "ELyoWpMfGOKK"
      }
    },
    {
      "cell_type": "markdown",
      "source": [
        "##Convert Image Format into Numpy Array"
      ],
      "metadata": {
        "id": "Yu18bv5PKGSZ"
      }
    },
    {
      "cell_type": "code",
      "source": [
        "from PIL import Image\n",
        "\n",
        "# Open the image using PIL\n",
        "image = Image.open('colab.png')\n",
        "\n",
        "# Convert the image to a NumPy array\n",
        "image_array = np.array(image)\n",
        "\n",
        "# Display the shape of the array\n",
        "print(\"Image array shape:\", image_array.shape)\n",
        "\n",
        "imgplot = plt.imshow(image_array)"
      ],
      "metadata": {
        "id": "xS3kYcQwD-_k"
      },
      "execution_count": null,
      "outputs": []
    },
    {
      "cell_type": "markdown",
      "source": [
        "We observe that the images have four channels instead of the expected three channels for RGB (Red, Green, Blue). The additional channel is typically an alpha channel, which represents transparency information.\n",
        "\n",
        "The presence of an alpha channel indicates that the image has an alpha transparency layer, commonly used in formats like PNG that support transparency. The alpha channel stores transparency information for each pixel, indicating how opaque or transparent the pixel should be when rendered.\n",
        "\n",
        "If we want to work with the RGB channels only, we can convert the image to RGB mode using the convert() function in PIL."
      ],
      "metadata": {
        "id": "bNFV1UupFTnp"
      }
    },
    {
      "cell_type": "code",
      "source": [
        "# Convert the image to RGB mode\n",
        "image_rgb = image.convert('RGB')\n",
        "\n",
        "# Convert the image to a NumPy array\n",
        "image_array = np.array(image_rgb)\n",
        "\n",
        "# Display the shape of the array\n",
        "print(\"Image array shape:\", image_array.shape)\n",
        "\n",
        "imgplot = plt.imshow(image_array)"
      ],
      "metadata": {
        "id": "BVT4-tvdFn0a"
      },
      "execution_count": null,
      "outputs": []
    },
    {
      "cell_type": "markdown",
      "source": [
        "#Mathematical Functions"
      ],
      "metadata": {
        "id": "IwCICjkV3UY8"
      }
    },
    {
      "cell_type": "markdown",
      "source": [
        "##Commonly Used Functions\n"
      ],
      "metadata": {
        "id": "BjpVoAl73hPG"
      }
    },
    {
      "cell_type": "markdown",
      "source": [
        "$$y=f(x)$$\n",
        "- Linear Function\n",
        "$$f(x) = wx+b$$\n",
        "$$f(x) = max(0,x)$$\n",
        "- Quadratic Function\n",
        "$$f(x) = 4ax^2+b$$\n",
        "- Exponential Function\n",
        "$$f(x) = \\frac{1}{1+e^{-x}}$$\n",
        "\n",
        "$$f(x_i) = \\frac {e^{x_i}}{\\sum_{j=1}^C{e^{x_j}}}$$\n",
        "\n",
        "- Trignometric Function\n",
        "$$f(x) = tan^{-1}(x)$$\n",
        "- Logrithmic Function\n",
        "$$f(x) = log(x)$$"
      ],
      "metadata": {
        "id": "4BXsbD4TBFXY"
      }
    },
    {
      "cell_type": "markdown",
      "metadata": {
        "id": "XuLV9P_XqKwI"
      },
      "source": [
        "## Sigmoid Function"
      ]
    },
    {
      "cell_type": "markdown",
      "source": [
        "Implement `np.exp()` and `math.exp()` for the sigmoid function and compare.\n",
        "\n",
        "$$sigmoid(z) = \\frac{1}{1+e^{-z}}$$\n",
        "\n",
        "- It takes an input value x and outputs a value between 0 and 1, which can be interpreted as a probability.\n",
        "- The function has an S-shaped curve, mapping the input values to a smooth, non-linear range.\n",
        "- The sigmoid function is commonly used in the last layer of a binary classification task, where the output represents the probability of belonging to a certain class."
      ],
      "metadata": {
        "id": "BBROrlLZUCWX"
      }
    },
    {
      "cell_type": "code",
      "source": [
        "import math"
      ],
      "metadata": {
        "id": "qwAGX22FWus6"
      },
      "execution_count": null,
      "outputs": []
    },
    {
      "cell_type": "code",
      "execution_count": null,
      "metadata": {
        "id": "lfihcHJDqKwL"
      },
      "outputs": [],
      "source": [
        "def sigmoid(z):\n",
        "  return 1/(1+math.exp(-z))\n",
        "sigmoid(1)"
      ]
    },
    {
      "cell_type": "markdown",
      "metadata": {
        "id": "qe4z1dCcqKwN"
      },
      "source": [
        "<span style=\"color:brown\"> **Cannot pass array as an arguement**</span>\n",
        "\n",
        "Give it a try to pass array to find sigmoid function of all the array elements."
      ]
    },
    {
      "cell_type": "code",
      "execution_count": null,
      "metadata": {
        "id": "N9_A3wu-qKwN"
      },
      "outputs": [],
      "source": [
        "#a=np.array([1,2,3])\n",
        "#sigmoid(a)"
      ]
    },
    {
      "cell_type": "code",
      "execution_count": 11,
      "metadata": {
        "id": "G2s5uwxHqKwO"
      },
      "outputs": [],
      "source": [
        "def sigmoid(z):\n",
        "  return 1/(1+np.exp(-z))"
      ]
    },
    {
      "cell_type": "code",
      "execution_count": null,
      "metadata": {
        "id": "0-LU3tcrqKwO"
      },
      "outputs": [],
      "source": [
        "# Example\n",
        "x = np.array([-1, 0, 1])\n",
        "output = sigmoid(x)\n",
        "print(output)"
      ]
    },
    {
      "cell_type": "markdown",
      "source": [
        "Implement the following equation\n",
        "\n",
        "$z = w^{T}x+b$\n",
        "\n",
        "Where,\n",
        "- $w$ is the weight array of shape (2, 1)\n",
        "- $x$ is the feture array of shape (2, 3)\n",
        "- $b$ is a scalar.\n",
        "\n",
        "$$sigmoid(z) = \\frac{1}{1+e^{-z}}$$"
      ],
      "metadata": {
        "id": "NPWHpHafoKya"
      }
    },
    {
      "cell_type": "code",
      "execution_count": 12,
      "metadata": {
        "id": "2YNFIGmBqKwP",
        "colab": {
          "base_uri": "https://localhost:8080/"
        },
        "outputId": "8eced7c1-3b62-46c7-d215-ba6683a645fe"
      },
      "outputs": [
        {
          "output_type": "stream",
          "name": "stdout",
          "text": [
            "[[0.52148676 0.50974876 0.34773732]]\n"
          ]
        }
      ],
      "source": [
        "w = np.array([[0.11], [0.23]])\n",
        "b = -0.3\n",
        "X = np.array([[1., -1.1, -3.2],[1.2, 2., 0.1]])\n",
        "A=sigmoid(np.dot(w.T,X)+b)\n",
        "print(A)"
      ]
    },
    {
      "cell_type": "markdown",
      "source": [
        "##Ploting a Sigmoid Function"
      ],
      "metadata": {
        "id": "er1NjgHNVMQT"
      }
    },
    {
      "cell_type": "code",
      "source": [
        "import matplotlib.pyplot as plt"
      ],
      "metadata": {
        "id": "Kh2AC4i6VoXt"
      },
      "execution_count": 13,
      "outputs": []
    },
    {
      "cell_type": "markdown",
      "source": [
        "- use `plt.plot()` to plot the z values against the sigmoid function values (y).\n",
        "- `plt.title()` adds a title to the plot\n",
        "- `plt.xlabel()` and `plt.ylabel()` label the x and y axes\n",
        "- `plt.grid(True)` enable the grid\n",
        "- Finally the plot is displayed `plt.show()`"
      ],
      "metadata": {
        "id": "b3p-WbsBWHcJ"
      }
    },
    {
      "cell_type": "code",
      "source": [
        "# Generate z values\n",
        "z = np.linspace(-10, 10, 100)\n",
        "\n",
        "# Compute sigmoid function for each z value\n",
        "y = sigmoid(z)\n",
        "\n",
        "# Plot the sigmoid function\n",
        "plt.plot(z, y)\n",
        "plt.title('Sigmoid Function')\n",
        "plt.xlabel('z')\n",
        "plt.ylabel('sigmoid(z)')\n",
        "plt.grid(True)\n",
        "plt.show()"
      ],
      "metadata": {
        "id": "X_5r6hhXVLB0",
        "colab": {
          "base_uri": "https://localhost:8080/",
          "height": 472
        },
        "outputId": "01725b09-b048-430a-eb39-4fe210278af8"
      },
      "execution_count": 14,
      "outputs": [
        {
          "output_type": "display_data",
          "data": {
            "text/plain": [
              "<Figure size 640x480 with 1 Axes>"
            ],
            "image/png": "[encoded data removed]"
          },
          "metadata": {}
        }
      ]
    },
    {
      "cell_type": "code",
      "source": [
        "def plot(z,y):\n",
        "  plt.plot(z, y)\n",
        "  plt.title('Activation Function')\n",
        "  plt.xlabel('z')\n",
        "  plt.ylabel('g(z)')\n",
        "  plt.grid(True)\n",
        "  plt.show()"
      ],
      "metadata": {
        "id": "5yRbN9GOqQ4g"
      },
      "execution_count": 25,
      "outputs": []
    },
    {
      "cell_type": "code",
      "source": [
        "plot(z,y)"
      ],
      "metadata": {
        "colab": {
          "base_uri": "https://localhost:8080/",
          "height": 472
        },
        "id": "EFghVN80qZWZ",
        "outputId": "6dccffae-cd07-4583-ea36-d3a18fce91ae"
      },
      "execution_count": 26,
      "outputs": [
        {
          "output_type": "display_data",
          "data": {
            "text/plain": [
              "<Figure size 640x480 with 1 Axes>"
            ],
            "image/png": "[encoded data removed]"
          },
          "metadata": {}
        }
      ]
    },
    {
      "cell_type": "markdown",
      "source": [
        "##ReLU (Rectified Linear Unit)"
      ],
      "metadata": {
        "id": "HexmVWYov9Lj"
      }
    },
    {
      "cell_type": "markdown",
      "source": [
        "- It takes an input value x and returns x if it is positive, and 0 otherwise.\n",
        "- The ReLU function introduces non-linearity to the network by mapping negative values to 0, while leaving positive values unchanged.\n",
        "- ReLU is a popular choice due to its simplicity and ability to mitigate the vanishing gradient problem."
      ],
      "metadata": {
        "id": "IqBimLOLxb43"
      }
    },
    {
      "cell_type": "code",
      "source": [
        "def relu(x):\n",
        "    return np.maximum(0, x)"
      ],
      "metadata": {
        "id": "-6gHoSFwwCt8"
      },
      "execution_count": 18,
      "outputs": []
    },
    {
      "cell_type": "code",
      "source": [
        "# Let us consider the three observations\n",
        "x = np.array([-1, 0, 1])\n",
        "output = relu(x)\n",
        "print(output)"
      ],
      "metadata": {
        "id": "-7SllUxzwESN"
      },
      "execution_count": null,
      "outputs": []
    },
    {
      "cell_type": "code",
      "source": [
        "# Generate z values\n",
        "z = np.linspace(-10, 10, 100)\n",
        "\n",
        "# Compute ReLU function for each z value\n",
        "y = relu(z)\n",
        "\n",
        "# Plot the ReLU function\n",
        "plot(z,y)"
      ],
      "metadata": {
        "id": "DnyEeMYKXFoy",
        "colab": {
          "base_uri": "https://localhost:8080/",
          "height": 472
        },
        "outputId": "79f558d6-2be1-41aa-ef15-ad90717ea8e6"
      },
      "execution_count": 27,
      "outputs": [
        {
          "output_type": "display_data",
          "data": {
            "text/plain": [
              "<Figure size 640x480 with 1 Axes>"
            ],
            "image/png": "[encoded data removed]"
          },
          "metadata": {}
        }
      ]
    },
    {
      "cell_type": "markdown",
      "source": [
        "##Softmax"
      ],
      "metadata": {
        "id": "vH7NEXRaJyUt"
      }
    },
    {
      "cell_type": "markdown",
      "source": [
        "- The softmax function is commonly used in multi-class classification tasks.\n",
        "- Given an input vector x, the softmax function computes the probabilities for each class by exponentiating and normalizing the values.\n",
        "- The softmax function is defined as follows:\n",
        "\n",
        "$$P(C_i) = \\frac {e^{z_i}}{\\sum_{j=1}^C{e^{z_j}}}$$\n",
        "\n",
        "- The output of the softmax function is a probability distribution, ensuring that the sum of the probabilities across all classes is equal to 1."
      ],
      "metadata": {
        "id": "IKfbbC9lJ15k"
      }
    },
    {
      "cell_type": "code",
      "source": [
        "def softmax(x, dim):\n",
        "    x_exp=np.exp(x)\n",
        "    if(dim>1):\n",
        "      x_sum=np.sum(x_exp, axis=1).reshape(x.shape[0],1)\n",
        "    else:\n",
        "      x_sum=np.sum(x_exp)\n",
        "    #print(x_sum)\n",
        "    return x_exp/x_sum"
      ],
      "metadata": {
        "id": "TW7ePRcxPyzQ"
      },
      "execution_count": 22,
      "outputs": []
    },
    {
      "cell_type": "code",
      "source": [
        "x = np.array([[9, 2, 5, 0, 0], [7, 5, 0, 0 ,0], [7, 5, 0, 0 ,0]]).T\n",
        "print(x.shape)\n",
        "print(x)\n",
        "s=softmax(x, 2)\n",
        "print(s)"
      ],
      "metadata": {
        "id": "CRDmW7uMP5NQ"
      },
      "execution_count": null,
      "outputs": []
    },
    {
      "cell_type": "code",
      "source": [
        "# Generate x values\n",
        "x = np.linspace(-10, 10, 100)\n",
        "\n",
        "# Compute Softmax function for each x value\n",
        "y = softmax(x,1)\n",
        "\n",
        "print(np.sum(y))\n",
        "print(y)\n",
        "\n",
        "# Plot the Softmax function\n",
        "plot(x,y)"
      ],
      "metadata": {
        "id": "3gw3xmIFYEJD",
        "colab": {
          "base_uri": "https://localhost:8080/",
          "height": 936
        },
        "outputId": "5222f272-ff17-4c28-d352-154af4839fad"
      },
      "execution_count": 28,
      "outputs": [
        {
          "output_type": "stream",
          "name": "stdout",
          "text": [
            "1.0\n",
            "[3.77029476e-10 4.61436094e-10 5.64739054e-10 6.91168729e-10\n",
            " 8.45902561e-10 1.03527708e-09 1.26704739e-09 1.55070475e-09\n",
            " 1.89786526e-09 2.32274554e-09 2.84274493e-09 3.47915801e-09\n",
            " 4.25804662e-09 5.21130715e-09 6.37797672e-09 7.80583179e-09\n",
            " 9.55334469e-09 1.16920781e-08 1.43096155e-08 1.75131483e-08\n",
            " 2.14338646e-08 2.62323225e-08 3.21050242e-08 3.92924637e-08\n",
            " 4.80889749e-08 5.88547851e-08 7.20307667e-08 8.81564912e-08\n",
            " 1.07892326e-07 1.32046476e-07 1.61608081e-07 1.97787724e-07\n",
            " 2.42067002e-07 2.96259203e-07 3.62583560e-07 4.43756133e-07\n",
            " 5.43101031e-07 6.64686542e-07 8.13491735e-07 9.95610352e-07\n",
            " 1.21850036e-06 1.49128937e-06 1.82514839e-06 2.23374935e-06\n",
            " 2.73382492e-06 3.34585378e-06 4.09489921e-06 5.01163548e-06\n",
            " 6.13360401e-06 7.50675071e-06 9.18730750e-06 1.12440951e-05\n",
            " 1.37613414e-05 1.68421305e-05 2.06126243e-05 2.52272289e-05\n",
            " 3.08749175e-05 3.77869697e-05 4.62464418e-05 5.65997592e-05\n",
            " 6.92709019e-05 8.47787680e-05 1.03758422e-04 1.26987104e-04\n",
            " 1.55416054e-04 1.90209471e-04 2.32792185e-04 2.84908007e-04\n",
            " 3.48691141e-04 4.26753580e-04 5.22292070e-04 6.39219023e-04\n",
            " 7.82322732e-04 9.57463460e-04 1.17181342e-03 1.43415049e-03\n",
            " 1.75521768e-03 2.14816306e-03 2.62907820e-03 3.21765712e-03\n",
            " 3.93800281e-03 4.81961426e-03 5.89859447e-03 7.21912894e-03\n",
            " 8.83529506e-03 1.08132767e-02 1.32340745e-02 1.61968229e-02\n",
            " 1.98228499e-02 2.42606455e-02 2.96919425e-02 3.63391588e-02\n",
            " 4.44745056e-02 5.44311347e-02 6.66167816e-02 8.15304625e-02\n",
            " 9.97829100e-02 1.22121583e-01 1.49461275e-01 1.82921579e-01]\n"
          ]
        },
        {
          "output_type": "display_data",
          "data": {
            "text/plain": [
              "<Figure size 640x480 with 1 Axes>"
            ],
            "image/png": "[encoded data removed]"
          },
          "metadata": {}
        }
      ]
    },
    {
      "cell_type": "markdown",
      "source": [
        "##Mean Squared Error (MSE) Loss Function"
      ],
      "metadata": {
        "id": "dgRp_OM4wcsW"
      }
    },
    {
      "cell_type": "markdown",
      "source": [
        "Mean Squared Error (MSE) Loss Function:\n",
        "- The Mean Squared Error (MSE) loss function is widely used for regression problems.\n",
        "- It calculates the average squared difference between the predicted values and the true values.\n",
        "- For a set of m predictions $y_{pred}$ and corresponding true values $y_{true}$, the MSE loss is computed as:\n",
        "\n",
        "$$L_{mse}(\\hat{y},y) = \\sum_{i=0}^m( \\hat{y}^{(i)}-y^{(i)})^2$$\n",
        "\n",
        "- The MSE loss penalizes larger errors more than smaller errors due to the squaring operation.\n",
        "- Minimizing the MSE loss encourages the model to produce predictions that are closer to the true values."
      ],
      "metadata": {
        "id": "ZYYxFj9dwyFN"
      }
    },
    {
      "cell_type": "code",
      "source": [
        "def mse_loss(y, yhat):\n",
        "  loss = np.dot(abs(y-yhat).T, abs(y-yhat))/y.shape[0]\n",
        "  #Note that dor product gives you onle scalar.\n",
        "  # We have used y.shape[0] to calculate mean\n",
        "  #loss=np.mean((y - yhat) ** 2)\n",
        "  return loss"
      ],
      "metadata": {
        "id": "rl3Elj-HwfnI"
      },
      "execution_count": null,
      "outputs": []
    },
    {
      "cell_type": "code",
      "source": [
        "# Consider an example for three predictions\n",
        "y_true = np.array([1, 2, 3, 4])\n",
        "y_pred = np.array([1.5, 2.3, 3.2, 3.9])\n",
        "#Try the below statement to show the broadcasting\n",
        "#y_pred = np.array([1.5])\n",
        "#Note that the program will throw an error if the shape of both\n",
        "#y is not same except when either y_pred or y_true is one to facilitate the broadcating\n",
        "loss = mse_loss(y_true, y_pred)\n",
        "print(loss)"
      ],
      "metadata": {
        "id": "A7Q4A0d3w4kr"
      },
      "execution_count": null,
      "outputs": []
    },
    {
      "cell_type": "code",
      "source": [
        "def mse_loss(y_true, y_pred):\n",
        "    return np.mean((y_true - y_pred) ** 2)\n",
        "\n",
        "# Generate y_true values\n",
        "y_true = np.array([2,3,4,6])\n",
        "\n",
        "# Generate a range of y_pred values\n",
        "y_pred = np.linspace(-2, 6, 8)\n",
        "\n",
        "# Compute MSE loss for each y_pred value\n",
        "loss = [mse_loss(y_true, y) for y in y_pred]\n",
        "\n",
        "#Broadcast the y_pred in the mse_loss function to all the elements of y_true.\n",
        "#You can change the number of elements in the y_true from 1 to 10 (say)\n",
        "\n",
        "# Plot the MSE loss curve\n",
        "plt.plot(y_pred, loss)\n",
        "plt.title('Mean Squared Error (MSE) Loss')\n",
        "plt.xlabel('Predicted Values (y_pred)')\n",
        "plt.ylabel('Loss')\n",
        "plt.grid(True)\n",
        "plt.show()"
      ],
      "metadata": {
        "id": "qXWC71z6eQ5u"
      },
      "execution_count": null,
      "outputs": []
    },
    {
      "cell_type": "markdown",
      "source": [
        "- [...]: This is a list comprehension, which is a concise way to create a new list by iterating over a sequence (in this case, the y_pred values) and performing a specific operation for each element.\n",
        "\n",
        "- The list comprehension loss = [mse_loss(y_true, y) for y in y_pred] iterates over each y value in y_pred, computes the Mean Square Error loss using mse_loss(y_true, y), and stores the results in the loss list."
      ],
      "metadata": {
        "id": "BYuwDOP0rq2H"
      }
    },
    {
      "cell_type": "markdown",
      "source": [
        "##Binary Cross-Entropy Loss Function"
      ],
      "metadata": {
        "id": "Qm2aiHpS075o"
      }
    },
    {
      "cell_type": "markdown",
      "source": [
        "- The Binary Cross-Entropy loss function is commonly used for binary classification problems.\n",
        "- It measures the dissimilarity between the predicted probabilities and the true binary labels.\n",
        "- For a set of m predictions y_pred and corresponding true labels y_true, the Binary Cross-Entropy loss is computed as:\n",
        "\n",
        "\n",
        "$$L_{BCE} = -\\frac{1}{m} \\sum_{i=0}^m(ylog(\\hat{y}) + (1 - y)log(1 - \\hat{y}))$$\n",
        "\n",
        "- The BCE loss penalizes models that have large differences between the predicted probabilities and the true labels.\n",
        "- Minimizing the BCE loss encourages the model to assign higher probabilities to the correct class."
      ],
      "metadata": {
        "id": "t81E3Hmv05Fd"
      }
    },
    {
      "cell_type": "code",
      "source": [
        "def binary_cross_entropy(y_true, y_pred):\n",
        "    return -np.mean(y_true * np.log(y_pred) + (1 - y_true) * np.log(1 - y_pred))\n"
      ],
      "metadata": {
        "id": "JHHWWj8tJA3m"
      },
      "execution_count": null,
      "outputs": []
    },
    {
      "cell_type": "code",
      "source": [
        "y_true = np.array([0, 1, 1])\n",
        "y_pred = np.array([0.3, 0.9, 0.7])\n",
        "loss = binary_cross_entropy(y_true, y_pred)\n",
        "print(loss)"
      ],
      "metadata": {
        "id": "IWIY3R62JSdA"
      },
      "execution_count": null,
      "outputs": []
    },
    {
      "cell_type": "code",
      "source": [
        "# Generate y_true and y_pred values\n",
        "y_true = np.array([1, 0, 1, 0, 1])\n",
        "y_pred = np.linspace(0.01, 0.99, 100)\n",
        "\n",
        "# Compute Cross-Entropy loss for each y_true and y_pred pair\n",
        "loss = [binary_cross_entropy(y_true, y) for y in y_pred]\n",
        "\n",
        "# Plot the Cross-Entropy loss\n",
        "plt.plot(y_pred, loss)\n",
        "plt.title('Cross-Entropy Loss')\n",
        "plt.xlabel('Predicted Probability (y_pred)')\n",
        "plt.ylabel('Loss')\n",
        "plt.grid(True)\n",
        "plt.show()"
      ],
      "metadata": {
        "id": "HNl0oSq0siJq",
        "colab": {
          "base_uri": "https://localhost:8080/",
          "height": 472
        },
        "outputId": "3f1e3d0b-0767-4751-d87a-eae8da2f9667"
      },
      "execution_count": null,
      "outputs": [
        {
          "output_type": "display_data",
          "data": {
            "text/plain": [
              "<Figure size 640x480 with 1 Axes>"
            ],
            "image/png": "[encoded data removed]"
          },
          "metadata": {}
        }
      ]
    },
    {
      "cell_type": "markdown",
      "source": [
        "##Categorical Cross-Entropy Loss Function"
      ],
      "metadata": {
        "id": "UPy9DUA33E0C"
      }
    },
    {
      "cell_type": "markdown",
      "source": [
        "- The Categorical Cross-Entropy loss function is commonly used for multi-class classification problems.\n",
        "- It measures the dissimilarity between the predicted class probabilities and the true class labels.\n",
        "- For a set of m predictions y_pred and corresponding true labels y_true, the Categorical Cross-Entropy loss is computed as:\n",
        "\n",
        "$$L_{CCE} = -\\frac{1}{m} \\sum (y) log(\\hat{y})$$\n",
        "\n",
        "- The CCE loss penalizes models that have low probabilities for the correct class.\n",
        "- Minimizing the CCE loss encourages the model to assign higher probabilities to the correct classes."
      ],
      "metadata": {
        "id": "IdwKYqBQ3CRU"
      }
    },
    {
      "cell_type": "markdown",
      "source": [
        "#Linear Algebra Functions"
      ],
      "metadata": {
        "id": "Z0jv6UKmXSOg"
      }
    },
    {
      "cell_type": "markdown",
      "source": [
        "##Normalization"
      ],
      "metadata": {
        "id": "WKbuGqgJuMmE"
      }
    },
    {
      "cell_type": "markdown",
      "metadata": {
        "id": "Z2_PXHnNqKwQ"
      },
      "source": [
        "Row Normalization is done by dividing each element of row of a given vector x by its norm based on row.\n",
        "\n",
        "It is changing x to $ \\frac{x}{\\| x\\|} $.\n",
        "\n",
        "We get a column vector of norm if we take the square root of the sum of squares of each row elements. Then divide each row by its norm to normalize rows.\n",
        "\n",
        "\n",
        "$$\\| x\\| = \\text{np.linalg.norm(x, axis=1, keepdims=True)}$$\n",
        "\n",
        "With `keepdims=True` the result will broadcast correctly against the original x.\n",
        "\n",
        "`axis=1` means you are going to get the norm in a row-wise manner. If you need the norm in a column-wise way, you would need to set `axis=0`."
      ]
    },
    {
      "cell_type": "code",
      "execution_count": null,
      "metadata": {
        "id": "VOg8k8ApqKwQ"
      },
      "outputs": [],
      "source": [
        "x = np.array([[0, 3, 4],[1, 6, 4]])\n",
        "x_norm=np.linalg.norm(x, axis=1, keepdims=True)\n",
        "x=x/x_norm\n",
        "print(\"Norm \", x_norm, \"\\nnormalizeRows(x) = \", x)"
      ]
    },
    {
      "cell_type": "markdown",
      "source": [
        "##Determinant and Inverse"
      ],
      "metadata": {
        "id": "cyISPDyjcX3d"
      }
    },
    {
      "cell_type": "code",
      "source": [
        "x = np.array([[0, 3, 4],[1, 6, 4], [3,2,7]])"
      ],
      "metadata": {
        "id": "i1Ca_l_aZWD6"
      },
      "execution_count": null,
      "outputs": []
    },
    {
      "cell_type": "code",
      "source": [
        "np.linalg.det(x)"
      ],
      "metadata": {
        "id": "mNq-Kf_8ZEAG"
      },
      "execution_count": null,
      "outputs": []
    },
    {
      "cell_type": "code",
      "source": [
        "np.linalg.inv(x)"
      ],
      "metadata": {
        "id": "_-sBiMowZJsS"
      },
      "execution_count": null,
      "outputs": []
    }
  ],
  "metadata": {
    "interpreter": {
      "hash": "aee8b7b246df8f9039afb4144a1f6fd8d2ca17a180786b69acc140d282b71a49"
    },
    "kernelspec": {
      "display_name": "Python 3.7.9 64-bit",
      "language": "python",
      "name": "python3"
    },
    "language_info": {
      "codemirror_mode": {
        "name": "ipython",
        "version": 3
      },
      "file_extension": ".py",
      "mimetype": "text/x-python",
      "name": "python",
      "nbconvert_exporter": "python",
      "pygments_lexer": "ipython3",
      "version": "3.7.9"
    },
    "orig_nbformat": 4,
    "colab": {
      "name": "03numpyFunctions.ipynb",
      "provenance": [],
      "toc_visible": true,
      "include_colab_link": true
    }
  },
  "nbformat": 4,
  "nbformat_minor": 0
}